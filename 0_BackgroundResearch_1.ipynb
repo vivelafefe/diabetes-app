{
 "cells": [
  {
   "cell_type": "markdown",
   "id": "af08d00e",
   "metadata": {},
   "source": [
    "# Background research_1"
   ]
  },
  {
   "cell_type": "markdown",
   "id": "d4f9b882",
   "metadata": {},
   "source": [
    "## Diabetes type 1 prevalence per country in 2022"
   ]
  },
  {
   "cell_type": "code",
   "execution_count": 1,
   "id": "eb451c19",
   "metadata": {},
   "outputs": [],
   "source": [
    "import pandas as pd\n",
    "import PyPDF2\n",
    "import re\n",
    "import psycopg2 as pg2"
   ]
  },
  {
   "cell_type": "markdown",
   "id": "73060bd0",
   "metadata": {},
   "source": [
    "### Diabetes cases per country 2022 [[data source]](https://diabetesatlas.org/idfawp/resource-files/2022/12/IDF-T1D-Index-Report.pdf)"
   ]
  },
  {
   "cell_type": "markdown",
   "id": "9fa154b4",
   "metadata": {},
   "source": [
    "#### Extracting pdf table"
   ]
  },
  {
   "cell_type": "code",
   "execution_count": 3,
   "id": "83f6195e",
   "metadata": {},
   "outputs": [],
   "source": [
    "# Open the file\n",
    "f = open('IDF-T1D-Index-Report.pdf','rb')"
   ]
  },
  {
   "cell_type": "code",
   "execution_count": 4,
   "id": "61d7159c",
   "metadata": {},
   "outputs": [
    {
     "name": "stderr",
     "output_type": "stream",
     "text": [
      "Xref table not zero-indexed. ID numbers for objects will be corrected.\n"
     ]
    }
   ],
   "source": [
    "# Define pdf reader\n",
    "pdf_reader = PyPDF2.PdfFileReader(f)"
   ]
  },
  {
   "cell_type": "code",
   "execution_count": 5,
   "id": "ba193a37",
   "metadata": {},
   "outputs": [
    {
     "data": {
      "text/plain": [
       "15"
      ]
     },
     "execution_count": 5,
     "metadata": {},
     "output_type": "execute_result"
    }
   ],
   "source": [
    "# Discover the number of pages in the document\n",
    "pdf_reader.numPages"
   ]
  },
  {
   "cell_type": "code",
   "execution_count": 6,
   "id": "80705b3e",
   "metadata": {},
   "outputs": [],
   "source": [
    "# We know that the actual table starts on page 10. Extract page 10\n",
    "page_10 = pdf_reader.getPage(10) "
   ]
  },
  {
   "cell_type": "code",
   "execution_count": 7,
   "id": "aa4ab8e1",
   "metadata": {},
   "outputs": [
    {
     "data": {
      "text/plain": [
       "\"Type 1 diabetes estimates in children and adults – 2022 | www.diabetesatlas.org | 11\\n0000001Country Age <20 years Age 20 - 59 years Age >=60 years Total\\nAfghanistan5,487                                       4,370                                                120                                             9,964                                        \\nAlbania 723                                           2,790                                                 898                                             4,406                                       \\nAlgeria 46,642                                     103,731                                            13,423                                       163,767                                   \\nAngola 3,946                                       8,074                                                207                                             12,237                                       \\nAntigua and Barbuda 26                                              87                                                       13                                                126                                             \\nArgentina 17,144                                     56,599                                              11,836                                       85,529                                      \\nArmenia 774                                           2,334                                                 542                                             3,649                                        \\nAruba 1                                                4                                                          1                                                  5                                                 \\nAustralia 14,306                                    78,926                                               32,743                                       126,008                                   \\nAustria 3,447                                       19,869                                               9,144                                         32,475                                      \\nAzerbaijan 2,200                                       6,139                                                 838                                             9,183                                        \\nBahamas 191                                            600                                                    89                                               880                                           \\nBahrain 331                                           1,817                                                  132                                              2,281                                         \\nBangladesh 5,719                                       18,558                                               617                                             24,878                                      \\nBarbados 108                                           401                                                     116                                              624                                            \\nBelarus 2,888                                       10,147                                               3,256                                         16,303                                     \\nBelgium 4,575                                       25,778                                               12,291                                        42,637                                      \\nBelize 39                                             108                                                     9                                                  157                                            \\nBenin 1,101                                        2,488                                                 86                                               3,675                                        \\nBhutan 151                                            308                                                    16                                                475                                            \\nBolivia 1,056                                       1,591                                                  131                                              2,779                                        \\nBosnia and Herzegovina 869                                           3,998                                                 1,359                                         6,224                                         \\nBotswana 148                                           755                                                     43                                               946                                            \\nBrazil 112,240                                   402,894                                            73,330                                      588,800                                  \\nBrunei Darussalam 19                                              70                                                       9                                                  98                                              \\nBulgaria 3,176                                       14,278                                               6,114                                          23,556                                      \\nBurkina Faso 349                                           777                                                     19                                                1,146                                         \\nBurundi 715                                           1,378                                                 42                                                2,135                                         \\nCambodia 874                                           1,327                                                  66                                               2,267                                         \\nCameroon 2,542                                        5,493                                                 160                                             8,188                                        \\nCanada 32,211                                      177,426                                             75,724                                       285,324                                    \\nCape Verde 43                                             238                                                     9                                                  291                                             \\nCentral African Republic 82                                              125                                                      4                                                  211                                             \\nChad 254                                           422                                                      14                                                690                                           \\nChannel Islands 95                                             667                                                     201                                             962                                            \\nChile 6,295                                       24,157                                               6,396                                         36,874                                     \\nChina 66,040                                   318,949                                            63,452                                       448,480                                  \\nColombia 3,561                                       12,263                                                2,215                                          18,043                                     \\nComoros 112                                            198                                                     6                                                  316                                            \\nCosta Rica 389                                           1,541                                                  362                                             2,289                                         \\nCote d'Ivoire 2,500                                      5,147                                                 164                                             7,804                                       \\nCroatia 2,008                                      8,313                                                 3,893                                         14,217                                       \\nCuba 1,155                                        6,122                                                  2,070                                        9,348                                        \\nCuraçao 2                                                5                                                          2                                                  9                                                 \\nCyprus 401                                           2,611                                                  1,028                                         4,040                                       \\nCzech Republic 5,556                                       27,175                                               11,407                                       44,144                                      \\nDemocratic Republic of the Congo 5,811                                        12,283                                                423                                             18,534                                      \\nDenmark 3,213                                        19,424                                               10,287                                       32,927                                      \\nDjibouti 407                                          1,611                                                  73                                               2,090                                       \\nDominican Republic 386                                           911                                                      124                                              1,421                                         \\nEcuador 1,442                                        3,973                                                 595                                             6,007                                       \\nEgypt 14,029                                     23,991                                               1,121                                           39,133                                      \\nEl Salvador 557                                           1,143                                                  113                                              1,813                                         \\nEquatorial Guinea 127                                            485                                                     12                                                623                                            \\nEritrea 1,985                                       4,355                                                 132                                              6,468                                        \\nEstonia 971                                           3,719                                                 1,733                                         6,426                                        \\nEswatini 129                                            275                                                     9                                                  413                                            \\nEthiopia 4,227                                        15,310                                               478                                             19,998                                      \\nFederated States of Micronesia 1                                                1                                                          -                                             2                                                 \\nFiji 37                                             77                                                       7                                                  121                                             \\nFinland 6,230                                       38,903                                              24,557                                       69,685                                     \\nFrance 24,884                                     112,754                                             64,467                                      202,160                                   \\nFrench Guiana 219                                            503                                                    63                                               784                                            \\nFrench Polynesia 10                                             31                                                        5                                                  46                                              \\nGabon 196                                           757                                                     36                                               988                                            \\nGambia 39                                             96                                                       2                                                  138                                            \\nGeorgia 1,239                                        2,775                                                 468                                             4,483                                        \\nGermany 40,390                                   252,997                                             138,120                                     431,313                                    \\nGhana 2,761                                        7,883                                                 276                                             10,925                                      \\nGreece 2,435                                       15,539                                               9,110                                         27,104                                      \\nGrenada 53                                             155                                                     22                                                231                                             \\nGuadeloupe 155                                           473                                                     179                                             807                                           \\nGuam 1                                                3                                                          1                                                  5                                                 \\nGuatemala 1,960                                       4,378                                                 362                                             6,702                                        \\nGuinea 221                                            512                                                      15                                                748                                            \\nGuinea-Bissau 31                                              64                                                       2                                                  97                                              \\nGuyana 10                                             18                                                        2                                                  30                                              \\nHaiti 390                                          423                                                     26                                                840                                           \\nHonduras 997                                           2,052                                                 119                                              3,166                                        \\nHong Kong 540                                          3,202                                                 1,244                                          4,982                                        \\nHungary 4,594                                       23,033                                              9,485                                         37,087                                     \\nIceland 150                                           856                                                     399                                             1,405                                        \\nIndia 282,832                                   544,478                                            32,910                                       860,423                                   \\nIndonesia 13,311                                      26,781                                               1,721                                          41,817                                      \\nIran 19,758                                     75,568                                              8,941                                         104,230                                   \\nIraq 12,373                                     26,080                                              1,414                                          39,875                                     \\nIreland 3,563                                       16,842                                               6,005                                        26,412                                       \\nIsrael 4,177                                       14,194                                               5,394                                         23,761                                      \\nItaly 12,119                                      106,873                                            67,709                                      186,755                                   \\nJamaica 428                                           1,452                                                  217                                              2,098                                        \\nJapan 5,453                                       43,285                                               30,471                                      79,226                                      \\nJordan 1,291                                        4,675                                                 377                                             6,344                                        \\nKazakhstan 1,243                                        3,472                                                 512                                              5,231                                         \\nKenya 6,237                                       16,432                                               427                                             23,096                                     \\nKiribati 6                                                7                                                          -                                             13                                               \\nKuwait 5,907                                      26,044                                              2,592                                          34,544                                     \\nKyrgyzstan 480                                          950                                                    47                                               1,477                                        \\nLaos 412                                            601                                                     25                                                1,038                                        \\nLatvia 716                                           2,903                                                 1,255                                          4,872                                        \\nLebanon 640                                          3,570                                                687                                             4,895                                        \\nLesotho 195                                           424                                                     21                                                640                                           \\nLiberia 84                                             211                                                      7                                                  302                                            \\nLibya 5,413                                       17,667                                               1,484                                         24,556                                      \\nLithuania 1,194                                        5,188                                                 2,436                                         8,822                                         \\nLuxembourg 242                                            1,667                                                 537                                             2,447                                        \\nMacao 51                                              309                                                    85                                               445                                            \\nMacedonia 489                                           2,137                                                  569                                             3,194                                        \\nMadagascar 2,998                                       7,525                                                 209                                             10,732                                      \\nMalawi 2,238                                        4,196                                                 97                                               6,534                                        \\nMalaysia 1,490                                       4,901                                                 687                                             7,082                                        \\nMaldives 89                                             345                                                     21                                                456                                            \\nMali 299                                           539                                                     17                                                856                                            \\nMalta 191                                            1,471                                                  835                                             2,499                                        \\nMartinique 124                                            453                                                     205                                             781                                            \\nMauritania 444                                           1,355                                                 38                                               1,838                                        \\nMauritius 100                                          604                                                    98                                               802                                            \\nMayotte 41                                              89                                                       3                                                  133                                            \\nMexico 10,971                                     69,163                                               9,702                                         89,834                                     \\nMoldova 1,467                                       4,775                                                 511                                              6,750                                       \\nMongolia 222                                            457                                                     20                                               699                                            \\nMontenegro 381                                           1,383                                                 437                                             2,201                                         \\nMorocco 37,194                                     78,786                                              8,968                                         124,911                                     \\nMozambique 3,662                                       6,492                                                 179                                             10,346                                     \\nMyanmar 2,569                                       4,162                                                  262                                              6,984                                        \\nNamibia 273                                           980                                                    40                                               1,293                                         \\nNepal 6,641                                       10,988                                              454                                             18,094                                     \\nNetherlands 7,716                                       47,522                                               25,000                                     80,220                                     \\nNew Caledonia 10                                             33                                                       6                                                  49                                              \\nNew Zealand 2,244                                        11,527                                                4,358                                         18,126                                       \\nNicaragua 618                                           1,334                                                 85                                               2,039                                        \\nNiger 410                                           747                                                     21                                                1,179                                         \\nNigeria 17,670                                    32,125                                                1,200                                         51,035                                     \\nNorth Korea 2,537                                       7,661                                                 609                                            10,808                                     \\nNorway 4,055                                      25,302                                               11,982                                        41,344                                      \\nOman 1,054                                       5,074                                                258                                             6,386                                        \\nPakistan 7,927                                       11,449                                               456                                             19,851                                      \\nPalestine 692                                           1,745                                                 51                                                2,489                                        \\nPanama 404                                          1,146                                                  205                                             1,755                                        \\nPapua New Guinea 65                                             74                                                       3                                                  142                                             \\nParaguay 411                                            1,081                                                 128                                              1,620                                        \\nPeru 1,158                                        4,008                                                633                                             5,798                                        \\nPhilippines 6,100                                      9,788                                                 559                                             16,443                                      \\nPoland 15,220                                     74,921                                               29,942                                       119,995                                    \\nPortugal 3,312                                        22,770                                               12,419                                        38,515                                      \\nPuerto Rico 2,643                                       8,981                                                 3,752                                         15,384                                      \\nQatar 1,543                                       17,621                                                1,177                                          20,340                                     \\nRepublic of Congo 557                                           1,319                                                  43                                               1,917                                         \\nRéunion 84                                             300                                                    32                                                415                                            \\nRomania 7,059                                      27,517                                               8,575                                         43,174                                      \\nRussia 58,338                                    213,345                                             65,267                                       336,901                                   \\nRwanda 872                                           2,692                                                  89                                               3,651                                        \\nSamoa 10                                             16                                                        1                                                  28                                               \\nSao Tome and Principe 24                                              67                                                       2                                                  93                                              \\nSaudi Arabia 49,118                                     177,957                                            14,202                                       241,348                                    \\nSenegal 1,706                                       4,410                                                 126                                              6,245                                        \\nSerbia 3,387                                       15,026                                               4,952                                         23,377                                      \\nSeychelles 9                                                46                                                       6                                                  60                                              \\nSierra Leone 118                                            210                                                     7                                                  335                                            \\nSingapore 564                                           4,131                                                  1,489                                         6,187                                        \\nSlovakia 3,102                                       13,911                                                4,535                                         21,545                                      \\nSlovenia 817                                           3,966                                                 1,774                                         6,559                                        \\nSolomon Islands 6                                                7                                                          -                                             13                                               \\nSomalia 7,821                                        12,920                                               440                                            21,182                                       \\nSouth Africa 5,342                                       24,670                                              1,536                                         31,536                                      \\nSouth Korea 3,626                                       23,246                                               8,267                                         35,128                                      \\nSouth Sudan 3,954                                       4,134                                                 174                                             8,261                                         \\nSpain 17,245                                     119,883                                             69,651                                       206,944                                   \\nSri Lanka 3,971                                       9,021                                                 1,089                                         14,094                                     \\nSt Lucia 72                                              266                                                     35                                               373                                            \\nSt Vincent and the Grenadines 53                                             153                                                     24                                                229                                             \\nSudan 17,886                                     31,342                                               1,188                                          50,447                                     \\nSuriname 7                                                18                                                        2                                                  28                                               \\nSweden 10,283                                     57,728                                               31,308                                      99,411                                      \\nSwitzerland 2,226                                        15,983                                               8,432                                         26,642                                      \\nSyria 2,052                                       5,043                                                235                                             7,324                                        \\nTaiwan 2,012                                        14,904                                              4,882                                         21,802                                      \\nTajikistan 1,541                                        1,968                                                 73                                               3,581                                        \\nTanzania 6,915                                       14,955                                               411                                              22,263                                       \\nThailand 2,196                                        7,415                                                 1,807                                         11,408                                      \\nTimor L'Este 86                                             108                                                     4                                                  199                                            \\nTogo 131                                            304                                                    9                                                  444                                            \\nTonga 5                                                8                                                          1                                                  14                                               \\nTrinidad and Tobago 590                                          1,991                                                  380                                            2,961                                         \\nTunisia 7,307                                      20,519                                               2,148                                          29,959                                      \\nTurkey 29,000                                   96,478                                              17,919                                       143,396                                   \\nTurkmenistan 2,406                                       5,930                                                439                                             8,774                                        \\nUganda 5,554                                       10,327                                               216                                              16,087                                     \\nUkraine 32,093                                    81,872                                               14,688                                       128,701                                    \\nUnited Arab Emirates 1,560                                       11,188                                                517                                             13,263                                      \\nUnited Kingdom 42,048                                    253,055                                            117,927                                     413,042                                   \\nUnited States 170,408                                 880,937                                           397,447                                    1,447,298                                \\nUnited States Virgin Islands 49                                             162                                                      85                                               296                                            \\nUruguay 1,578                                       7,027                                                 1,939                                         10,546                                     \\nUzbekistan 4,368                                       8,376                                                 478                                             13,215                                       \\nVanuatu 16                                              22                                                        1                                                  39                                              \\nVenezuela 363                                           887                                                     138                                             1,387                                        \\nViet Nam 4,061                                       9,897                                                 839                                             14,780                                     \\nWestern Sahara 7                                                45                                                       1                                                  54                                              \\nYemen 7,109                                       8,991                                                 226                                              16,313                                      \\nZambia 2,279                                        4,908                                                113                                              7,299                                        \\nZimbabwe 1,741                                        3,167                                                 95                                               5,000                                      \""
      ]
     },
     "execution_count": 7,
     "metadata": {},
     "output_type": "execute_result"
    }
   ],
   "source": [
    "# Extract text from page 10\n",
    "page_10_text = page_10.extractText()\n",
    "page_10_text"
   ]
  },
  {
   "cell_type": "code",
   "execution_count": 8,
   "id": "ae1a9e28",
   "metadata": {},
   "outputs": [],
   "source": [
    "# Close the file \n",
    "f.close()"
   ]
  },
  {
   "cell_type": "markdown",
   "id": "7bbc57be",
   "metadata": {},
   "source": [
    "#### Preprocessing the extracted text"
   ]
  },
  {
   "cell_type": "code",
   "execution_count": 9,
   "id": "d8e1fc64",
   "metadata": {},
   "outputs": [
    {
     "data": {
      "text/plain": [
       "['Afghanistan5,487                                       4,370                                                120                                             9,964                                        ',\n",
       " 'Albania 723                                           2,790                                                 898                                             4,406                                       ',\n",
       " 'Algeria 46,642                                     103,731                                            13,423                                       163,767                                   ',\n",
       " 'Angola 3,946                                       8,074                                                207                                             12,237                                       ',\n",
       " 'Antigua and Barbuda 26                                              87                                                       13                                                126                                             ',\n",
       " 'Argentina 17,144                                     56,599                                              11,836                                       85,529                                      ',\n",
       " 'Armenia 774                                           2,334                                                 542                                             3,649                                        ',\n",
       " 'Aruba 1                                                4                                                          1                                                  5                                                 ',\n",
       " 'Australia 14,306                                    78,926                                               32,743                                       126,008                                   ',\n",
       " 'Austria 3,447                                       19,869                                               9,144                                         32,475                                      ',\n",
       " 'Azerbaijan 2,200                                       6,139                                                 838                                             9,183                                        ',\n",
       " 'Bahamas 191                                            600                                                    89                                               880                                           ',\n",
       " 'Bahrain 331                                           1,817                                                  132                                              2,281                                         ',\n",
       " 'Bangladesh 5,719                                       18,558                                               617                                             24,878                                      ',\n",
       " 'Barbados 108                                           401                                                     116                                              624                                            ',\n",
       " 'Belarus 2,888                                       10,147                                               3,256                                         16,303                                     ',\n",
       " 'Belgium 4,575                                       25,778                                               12,291                                        42,637                                      ',\n",
       " 'Belize 39                                             108                                                     9                                                  157                                            ',\n",
       " 'Benin 1,101                                        2,488                                                 86                                               3,675                                        ',\n",
       " 'Bhutan 151                                            308                                                    16                                                475                                            ',\n",
       " 'Bolivia 1,056                                       1,591                                                  131                                              2,779                                        ',\n",
       " 'Bosnia and Herzegovina 869                                           3,998                                                 1,359                                         6,224                                         ',\n",
       " 'Botswana 148                                           755                                                     43                                               946                                            ',\n",
       " 'Brazil 112,240                                   402,894                                            73,330                                      588,800                                  ',\n",
       " 'Brunei Darussalam 19                                              70                                                       9                                                  98                                              ',\n",
       " 'Bulgaria 3,176                                       14,278                                               6,114                                          23,556                                      ',\n",
       " 'Burkina Faso 349                                           777                                                     19                                                1,146                                         ',\n",
       " 'Burundi 715                                           1,378                                                 42                                                2,135                                         ',\n",
       " 'Cambodia 874                                           1,327                                                  66                                               2,267                                         ',\n",
       " 'Cameroon 2,542                                        5,493                                                 160                                             8,188                                        ',\n",
       " 'Canada 32,211                                      177,426                                             75,724                                       285,324                                    ',\n",
       " 'Cape Verde 43                                             238                                                     9                                                  291                                             ',\n",
       " 'Central African Republic 82                                              125                                                      4                                                  211                                             ',\n",
       " 'Chad 254                                           422                                                      14                                                690                                           ',\n",
       " 'Channel Islands 95                                             667                                                     201                                             962                                            ',\n",
       " 'Chile 6,295                                       24,157                                               6,396                                         36,874                                     ',\n",
       " 'China 66,040                                   318,949                                            63,452                                       448,480                                  ',\n",
       " 'Colombia 3,561                                       12,263                                                2,215                                          18,043                                     ',\n",
       " 'Comoros 112                                            198                                                     6                                                  316                                            ',\n",
       " 'Costa Rica 389                                           1,541                                                  362                                             2,289                                         ',\n",
       " \"Cote d'Ivoire 2,500                                      5,147                                                 164                                             7,804                                       \",\n",
       " 'Croatia 2,008                                      8,313                                                 3,893                                         14,217                                       ',\n",
       " 'Cuba 1,155                                        6,122                                                  2,070                                        9,348                                        ',\n",
       " 'Curaçao 2                                                5                                                          2                                                  9                                                 ',\n",
       " 'Cyprus 401                                           2,611                                                  1,028                                         4,040                                       ',\n",
       " 'Czech Republic 5,556                                       27,175                                               11,407                                       44,144                                      ',\n",
       " 'Democratic Republic of the Congo 5,811                                        12,283                                                423                                             18,534                                      ',\n",
       " 'Denmark 3,213                                        19,424                                               10,287                                       32,927                                      ',\n",
       " 'Djibouti 407                                          1,611                                                  73                                               2,090                                       ',\n",
       " 'Dominican Republic 386                                           911                                                      124                                              1,421                                         ',\n",
       " 'Ecuador 1,442                                        3,973                                                 595                                             6,007                                       ',\n",
       " 'Egypt 14,029                                     23,991                                               1,121                                           39,133                                      ',\n",
       " 'El Salvador 557                                           1,143                                                  113                                              1,813                                         ',\n",
       " 'Equatorial Guinea 127                                            485                                                     12                                                623                                            ',\n",
       " 'Eritrea 1,985                                       4,355                                                 132                                              6,468                                        ',\n",
       " 'Estonia 971                                           3,719                                                 1,733                                         6,426                                        ',\n",
       " 'Eswatini 129                                            275                                                     9                                                  413                                            ',\n",
       " 'Ethiopia 4,227                                        15,310                                               478                                             19,998                                      ',\n",
       " 'Federated States of Micronesia 1                                                1                                                          -                                             2                                                 ',\n",
       " 'Fiji 37                                             77                                                       7                                                  121                                             ',\n",
       " 'Finland 6,230                                       38,903                                              24,557                                       69,685                                     ',\n",
       " 'France 24,884                                     112,754                                             64,467                                      202,160                                   ',\n",
       " 'French Guiana 219                                            503                                                    63                                               784                                            ',\n",
       " 'French Polynesia 10                                             31                                                        5                                                  46                                              ',\n",
       " 'Gabon 196                                           757                                                     36                                               988                                            ',\n",
       " 'Gambia 39                                             96                                                       2                                                  138                                            ',\n",
       " 'Georgia 1,239                                        2,775                                                 468                                             4,483                                        ',\n",
       " 'Germany 40,390                                   252,997                                             138,120                                     431,313                                    ',\n",
       " 'Ghana 2,761                                        7,883                                                 276                                             10,925                                      ',\n",
       " 'Greece 2,435                                       15,539                                               9,110                                         27,104                                      ',\n",
       " 'Grenada 53                                             155                                                     22                                                231                                             ',\n",
       " 'Guadeloupe 155                                           473                                                     179                                             807                                           ',\n",
       " 'Guam 1                                                3                                                          1                                                  5                                                 ',\n",
       " 'Guatemala 1,960                                       4,378                                                 362                                             6,702                                        ',\n",
       " 'Guinea 221                                            512                                                      15                                                748                                            ',\n",
       " 'Guinea-Bissau 31                                              64                                                       2                                                  97                                              ',\n",
       " 'Guyana 10                                             18                                                        2                                                  30                                              ',\n",
       " 'Haiti 390                                          423                                                     26                                                840                                           ',\n",
       " 'Honduras 997                                           2,052                                                 119                                              3,166                                        ',\n",
       " 'Hong Kong 540                                          3,202                                                 1,244                                          4,982                                        ',\n",
       " 'Hungary 4,594                                       23,033                                              9,485                                         37,087                                     ',\n",
       " 'Iceland 150                                           856                                                     399                                             1,405                                        ',\n",
       " 'India 282,832                                   544,478                                            32,910                                       860,423                                   ',\n",
       " 'Indonesia 13,311                                      26,781                                               1,721                                          41,817                                      ',\n",
       " 'Iran 19,758                                     75,568                                              8,941                                         104,230                                   ',\n",
       " 'Iraq 12,373                                     26,080                                              1,414                                          39,875                                     ',\n",
       " 'Ireland 3,563                                       16,842                                               6,005                                        26,412                                       ',\n",
       " 'Israel 4,177                                       14,194                                               5,394                                         23,761                                      ',\n",
       " 'Italy 12,119                                      106,873                                            67,709                                      186,755                                   ',\n",
       " 'Jamaica 428                                           1,452                                                  217                                              2,098                                        ',\n",
       " 'Japan 5,453                                       43,285                                               30,471                                      79,226                                      ',\n",
       " 'Jordan 1,291                                        4,675                                                 377                                             6,344                                        ',\n",
       " 'Kazakhstan 1,243                                        3,472                                                 512                                              5,231                                         ',\n",
       " 'Kenya 6,237                                       16,432                                               427                                             23,096                                     ',\n",
       " 'Kiribati 6                                                7                                                          -                                             13                                               ',\n",
       " 'Kuwait 5,907                                      26,044                                              2,592                                          34,544                                     ',\n",
       " 'Kyrgyzstan 480                                          950                                                    47                                               1,477                                        ',\n",
       " 'Laos 412                                            601                                                     25                                                1,038                                        ',\n",
       " 'Latvia 716                                           2,903                                                 1,255                                          4,872                                        ',\n",
       " 'Lebanon 640                                          3,570                                                687                                             4,895                                        ',\n",
       " 'Lesotho 195                                           424                                                     21                                                640                                           ',\n",
       " 'Liberia 84                                             211                                                      7                                                  302                                            ',\n",
       " 'Libya 5,413                                       17,667                                               1,484                                         24,556                                      ',\n",
       " 'Lithuania 1,194                                        5,188                                                 2,436                                         8,822                                         ',\n",
       " 'Luxembourg 242                                            1,667                                                 537                                             2,447                                        ',\n",
       " 'Macao 51                                              309                                                    85                                               445                                            ',\n",
       " 'Macedonia 489                                           2,137                                                  569                                             3,194                                        ',\n",
       " 'Madagascar 2,998                                       7,525                                                 209                                             10,732                                      ',\n",
       " 'Malawi 2,238                                        4,196                                                 97                                               6,534                                        ',\n",
       " 'Malaysia 1,490                                       4,901                                                 687                                             7,082                                        ',\n",
       " 'Maldives 89                                             345                                                     21                                                456                                            ',\n",
       " 'Mali 299                                           539                                                     17                                                856                                            ',\n",
       " 'Malta 191                                            1,471                                                  835                                             2,499                                        ',\n",
       " 'Martinique 124                                            453                                                     205                                             781                                            ',\n",
       " 'Mauritania 444                                           1,355                                                 38                                               1,838                                        ',\n",
       " 'Mauritius 100                                          604                                                    98                                               802                                            ',\n",
       " 'Mayotte 41                                              89                                                       3                                                  133                                            ',\n",
       " 'Mexico 10,971                                     69,163                                               9,702                                         89,834                                     ',\n",
       " 'Moldova 1,467                                       4,775                                                 511                                              6,750                                       ',\n",
       " 'Mongolia 222                                            457                                                     20                                               699                                            ',\n",
       " 'Montenegro 381                                           1,383                                                 437                                             2,201                                         ',\n",
       " 'Morocco 37,194                                     78,786                                              8,968                                         124,911                                     ',\n",
       " 'Mozambique 3,662                                       6,492                                                 179                                             10,346                                     ',\n",
       " 'Myanmar 2,569                                       4,162                                                  262                                              6,984                                        ',\n",
       " 'Namibia 273                                           980                                                    40                                               1,293                                         ',\n",
       " 'Nepal 6,641                                       10,988                                              454                                             18,094                                     ',\n",
       " 'Netherlands 7,716                                       47,522                                               25,000                                     80,220                                     ',\n",
       " 'New Caledonia 10                                             33                                                       6                                                  49                                              ',\n",
       " 'New Zealand 2,244                                        11,527                                                4,358                                         18,126                                       ',\n",
       " 'Nicaragua 618                                           1,334                                                 85                                               2,039                                        ',\n",
       " 'Niger 410                                           747                                                     21                                                1,179                                         ',\n",
       " 'Nigeria 17,670                                    32,125                                                1,200                                         51,035                                     ',\n",
       " 'North Korea 2,537                                       7,661                                                 609                                            10,808                                     ',\n",
       " 'Norway 4,055                                      25,302                                               11,982                                        41,344                                      ',\n",
       " 'Oman 1,054                                       5,074                                                258                                             6,386                                        ',\n",
       " 'Pakistan 7,927                                       11,449                                               456                                             19,851                                      ',\n",
       " 'Palestine 692                                           1,745                                                 51                                                2,489                                        ',\n",
       " 'Panama 404                                          1,146                                                  205                                             1,755                                        ',\n",
       " 'Papua New Guinea 65                                             74                                                       3                                                  142                                             ',\n",
       " 'Paraguay 411                                            1,081                                                 128                                              1,620                                        ',\n",
       " 'Peru 1,158                                        4,008                                                633                                             5,798                                        ',\n",
       " 'Philippines 6,100                                      9,788                                                 559                                             16,443                                      ',\n",
       " 'Poland 15,220                                     74,921                                               29,942                                       119,995                                    ',\n",
       " 'Portugal 3,312                                        22,770                                               12,419                                        38,515                                      ',\n",
       " 'Puerto Rico 2,643                                       8,981                                                 3,752                                         15,384                                      ',\n",
       " 'Qatar 1,543                                       17,621                                                1,177                                          20,340                                     ',\n",
       " 'Republic of Congo 557                                           1,319                                                  43                                               1,917                                         ',\n",
       " 'Réunion 84                                             300                                                    32                                                415                                            ',\n",
       " 'Romania 7,059                                      27,517                                               8,575                                         43,174                                      ',\n",
       " 'Russia 58,338                                    213,345                                             65,267                                       336,901                                   ',\n",
       " 'Rwanda 872                                           2,692                                                  89                                               3,651                                        ',\n",
       " 'Samoa 10                                             16                                                        1                                                  28                                               ',\n",
       " 'Sao Tome and Principe 24                                              67                                                       2                                                  93                                              ',\n",
       " 'Saudi Arabia 49,118                                     177,957                                            14,202                                       241,348                                    ',\n",
       " 'Senegal 1,706                                       4,410                                                 126                                              6,245                                        ',\n",
       " 'Serbia 3,387                                       15,026                                               4,952                                         23,377                                      ',\n",
       " 'Seychelles 9                                                46                                                       6                                                  60                                              ',\n",
       " 'Sierra Leone 118                                            210                                                     7                                                  335                                            ',\n",
       " 'Singapore 564                                           4,131                                                  1,489                                         6,187                                        ',\n",
       " 'Slovakia 3,102                                       13,911                                                4,535                                         21,545                                      ',\n",
       " 'Slovenia 817                                           3,966                                                 1,774                                         6,559                                        ',\n",
       " 'Solomon Islands 6                                                7                                                          -                                             13                                               ',\n",
       " 'Somalia 7,821                                        12,920                                               440                                            21,182                                       ',\n",
       " 'South Africa 5,342                                       24,670                                              1,536                                         31,536                                      ',\n",
       " 'South Korea 3,626                                       23,246                                               8,267                                         35,128                                      ',\n",
       " 'South Sudan 3,954                                       4,134                                                 174                                             8,261                                         ',\n",
       " 'Spain 17,245                                     119,883                                             69,651                                       206,944                                   ',\n",
       " 'Sri Lanka 3,971                                       9,021                                                 1,089                                         14,094                                     ',\n",
       " 'St Lucia 72                                              266                                                     35                                               373                                            ',\n",
       " 'St Vincent and the Grenadines 53                                             153                                                     24                                                229                                             ',\n",
       " 'Sudan 17,886                                     31,342                                               1,188                                          50,447                                     ',\n",
       " 'Suriname 7                                                18                                                        2                                                  28                                               ',\n",
       " 'Sweden 10,283                                     57,728                                               31,308                                      99,411                                      ',\n",
       " 'Switzerland 2,226                                        15,983                                               8,432                                         26,642                                      ',\n",
       " 'Syria 2,052                                       5,043                                                235                                             7,324                                        ',\n",
       " 'Taiwan 2,012                                        14,904                                              4,882                                         21,802                                      ',\n",
       " 'Tajikistan 1,541                                        1,968                                                 73                                               3,581                                        ',\n",
       " 'Tanzania 6,915                                       14,955                                               411                                              22,263                                       ',\n",
       " 'Thailand 2,196                                        7,415                                                 1,807                                         11,408                                      ',\n",
       " \"Timor L'Este 86                                             108                                                     4                                                  199                                            \",\n",
       " 'Togo 131                                            304                                                    9                                                  444                                            ',\n",
       " 'Tonga 5                                                8                                                          1                                                  14                                               ',\n",
       " 'Trinidad and Tobago 590                                          1,991                                                  380                                            2,961                                         ',\n",
       " 'Tunisia 7,307                                      20,519                                               2,148                                          29,959                                      ',\n",
       " 'Turkey 29,000                                   96,478                                              17,919                                       143,396                                   ',\n",
       " 'Turkmenistan 2,406                                       5,930                                                439                                             8,774                                        ',\n",
       " 'Uganda 5,554                                       10,327                                               216                                              16,087                                     ',\n",
       " 'Ukraine 32,093                                    81,872                                               14,688                                       128,701                                    ',\n",
       " 'United Arab Emirates 1,560                                       11,188                                                517                                             13,263                                      ',\n",
       " 'United Kingdom 42,048                                    253,055                                            117,927                                     413,042                                   ',\n",
       " 'United States 170,408                                 880,937                                           397,447                                    1,447,298                                ',\n",
       " 'United States Virgin Islands 49                                             162                                                      85                                               296                                            ',\n",
       " 'Uruguay 1,578                                       7,027                                                 1,939                                         10,546                                     ',\n",
       " 'Uzbekistan 4,368                                       8,376                                                 478                                             13,215                                       ',\n",
       " 'Vanuatu 16                                              22                                                        1                                                  39                                              ',\n",
       " 'Venezuela 363                                           887                                                     138                                             1,387                                        ',\n",
       " 'Viet Nam 4,061                                       9,897                                                 839                                             14,780                                     ',\n",
       " 'Western Sahara 7                                                45                                                       1                                                  54                                              ',\n",
       " 'Yemen 7,109                                       8,991                                                 226                                              16,313                                      ',\n",
       " 'Zambia 2,279                                        4,908                                                113                                              7,299                                        ',\n",
       " 'Zimbabwe 1,741                                        3,167                                                 95                                               5,000                                      ']"
      ]
     },
     "execution_count": 9,
     "metadata": {},
     "output_type": "execute_result"
    }
   ],
   "source": [
    "# The rows are divided by \\n symbol\n",
    "# Splitting the whole text to obtain the rows\n",
    "# Removing first two rows with the title and column names\n",
    "table = page_10_text.split('\\n')[2:]\n",
    "table"
   ]
  },
  {
   "cell_type": "code",
   "execution_count": 10,
   "id": "ba32f07b",
   "metadata": {},
   "outputs": [
    {
     "data": {
      "text/plain": [
       "'United States 170,408                                 880,937                                           397,447                                    1,447,298                                '"
      ]
     },
     "execution_count": 10,
     "metadata": {},
     "output_type": "execute_result"
    }
   ],
   "source": [
    "# A row example\n",
    "table[190]"
   ]
  },
  {
   "cell_type": "code",
   "execution_count": 11,
   "id": "7d06bf35",
   "metadata": {},
   "outputs": [
    {
     "data": {
      "text/plain": [
       "'United States '"
      ]
     },
     "execution_count": 11,
     "metadata": {},
     "output_type": "execute_result"
    }
   ],
   "source": [
    "# Using RE searching for the first accurances of non-digits\n",
    "c = re.search(r'\\D+',table[190]).group()\n",
    "c"
   ]
  },
  {
   "cell_type": "code",
   "execution_count": 12,
   "id": "930becd4",
   "metadata": {},
   "outputs": [
    {
     "data": {
      "text/plain": [
       "['United', 'States']"
      ]
     },
     "execution_count": 12,
     "metadata": {},
     "output_type": "execute_result"
    }
   ],
   "source": [
    "# Removing spaces\n",
    "re.findall(r'[^\\s]+',c)"
   ]
  },
  {
   "cell_type": "code",
   "execution_count": 13,
   "id": "ac249bd3",
   "metadata": {},
   "outputs": [
    {
     "data": {
      "text/plain": [
       "'United States'"
      ]
     },
     "execution_count": 13,
     "metadata": {},
     "output_type": "execute_result"
    }
   ],
   "source": [
    "# Joining back with a space in between\n",
    "' '.join(re.findall(r'[^\\s]+',c))"
   ]
  },
  {
   "cell_type": "code",
   "execution_count": 14,
   "id": "588d5084",
   "metadata": {},
   "outputs": [
    {
     "data": {
      "text/plain": [
       "['170,408', '880,937', '397,447', '1,447', '298']"
      ]
     },
     "execution_count": 14,
     "metadata": {},
     "output_type": "execute_result"
    }
   ],
   "source": [
    "# Searching for digit patterns\n",
    "n_numbers = re.findall(r'\\d+,\\d{3}|\\d+',table[190])\n",
    "n_numbers"
   ]
  },
  {
   "cell_type": "code",
   "execution_count": 15,
   "id": "e0349fa8",
   "metadata": {},
   "outputs": [
    {
     "data": {
      "text/plain": [
       "['170,408', '880,937', '397,447', '1,447298']"
      ]
     },
     "execution_count": 15,
     "metadata": {},
     "output_type": "execute_result"
    }
   ],
   "source": [
    "# For cases where the total count is in millions\n",
    "n_numbers = n_numbers[:3]+[''.join(n_numbers[3:])]\n",
    "n_numbers"
   ]
  },
  {
   "cell_type": "code",
   "execution_count": 17,
   "id": "e52edae9",
   "metadata": {},
   "outputs": [],
   "source": [
    "# Creating lists for future columns\n",
    "country = []\n",
    "age_less_than_20= []\n",
    "age_20_59 = []\n",
    "age_more_than_60 = []\n",
    "total = []"
   ]
  },
  {
   "cell_type": "code",
   "execution_count": 18,
   "id": "5d234b91",
   "metadata": {},
   "outputs": [],
   "source": [
    "# Iterating through the whole table\n",
    "for row in table:\n",
    "    \n",
    "    country_name = re.search(r'\\D+',row).group() #serching for a country name\n",
    "    country.append(' '.join(re.findall(r'[^\\s]+',country_name)))#creating a list of countries\n",
    "    \n",
    "    numbers = re.findall(r'\\d+,\\d{3}|\\d+',row) #searching for numbers\n",
    "    \n",
    "    new_numbers = []\n",
    "    for n in numbers:\n",
    "        new_numbers.append(n.replace(',','')) #creating a list of numbers, removing commas\n",
    "    if len(new_numbers)!=4: #for cases where the last number is in millions\n",
    "        new_numbers = new_numbers[:3]+[''.join(new_numbers[3:])] #joining last two numbers in the list in one\n",
    "        \n",
    "    #creating lists with numeric values\n",
    "    age_less_than_20.append(new_numbers[0])\n",
    "    age_20_59.append(new_numbers[1])\n",
    "    age_more_than_60.append(new_numbers[2])\n",
    "    total.append(new_numbers[3])"
   ]
  },
  {
   "cell_type": "code",
   "execution_count": 20,
   "id": "a9f3d65e",
   "metadata": {},
   "outputs": [
    {
     "name": "stdout",
     "output_type": "stream",
     "text": [
      "201 201 201 201\n"
     ]
    }
   ],
   "source": [
    "# Checking if the lists have the same length\n",
    "print(len(country),len(age_20_59),len(age_less_than_20),len(age_more_than_60))"
   ]
  },
  {
   "cell_type": "markdown",
   "id": "853df13e",
   "metadata": {},
   "source": [
    "#### Creating a DF"
   ]
  },
  {
   "cell_type": "code",
   "execution_count": 21,
   "id": "fa17be0c",
   "metadata": {},
   "outputs": [
    {
     "data": {
      "text/html": [
       "<div>\n",
       "<style scoped>\n",
       "    .dataframe tbody tr th:only-of-type {\n",
       "        vertical-align: middle;\n",
       "    }\n",
       "\n",
       "    .dataframe tbody tr th {\n",
       "        vertical-align: top;\n",
       "    }\n",
       "\n",
       "    .dataframe thead th {\n",
       "        text-align: right;\n",
       "    }\n",
       "</style>\n",
       "<table border=\"1\" class=\"dataframe\">\n",
       "  <thead>\n",
       "    <tr style=\"text-align: right;\">\n",
       "      <th></th>\n",
       "      <th>country</th>\n",
       "      <th>age_less_than_20</th>\n",
       "      <th>age_20_59</th>\n",
       "      <th>age_more_than_60</th>\n",
       "      <th>total</th>\n",
       "    </tr>\n",
       "  </thead>\n",
       "  <tbody>\n",
       "    <tr>\n",
       "      <th>0</th>\n",
       "      <td>Afghanistan</td>\n",
       "      <td>5487</td>\n",
       "      <td>4370</td>\n",
       "      <td>120</td>\n",
       "      <td>9964</td>\n",
       "    </tr>\n",
       "    <tr>\n",
       "      <th>1</th>\n",
       "      <td>Albania</td>\n",
       "      <td>723</td>\n",
       "      <td>2790</td>\n",
       "      <td>898</td>\n",
       "      <td>4406</td>\n",
       "    </tr>\n",
       "    <tr>\n",
       "      <th>2</th>\n",
       "      <td>Algeria</td>\n",
       "      <td>46642</td>\n",
       "      <td>103731</td>\n",
       "      <td>13423</td>\n",
       "      <td>163767</td>\n",
       "    </tr>\n",
       "    <tr>\n",
       "      <th>3</th>\n",
       "      <td>Angola</td>\n",
       "      <td>3946</td>\n",
       "      <td>8074</td>\n",
       "      <td>207</td>\n",
       "      <td>12237</td>\n",
       "    </tr>\n",
       "    <tr>\n",
       "      <th>4</th>\n",
       "      <td>Antigua and Barbuda</td>\n",
       "      <td>26</td>\n",
       "      <td>87</td>\n",
       "      <td>13</td>\n",
       "      <td>126</td>\n",
       "    </tr>\n",
       "    <tr>\n",
       "      <th>...</th>\n",
       "      <td>...</td>\n",
       "      <td>...</td>\n",
       "      <td>...</td>\n",
       "      <td>...</td>\n",
       "      <td>...</td>\n",
       "    </tr>\n",
       "    <tr>\n",
       "      <th>196</th>\n",
       "      <td>Viet Nam</td>\n",
       "      <td>4061</td>\n",
       "      <td>9897</td>\n",
       "      <td>839</td>\n",
       "      <td>14780</td>\n",
       "    </tr>\n",
       "    <tr>\n",
       "      <th>197</th>\n",
       "      <td>Western Sahara</td>\n",
       "      <td>7</td>\n",
       "      <td>45</td>\n",
       "      <td>1</td>\n",
       "      <td>54</td>\n",
       "    </tr>\n",
       "    <tr>\n",
       "      <th>198</th>\n",
       "      <td>Yemen</td>\n",
       "      <td>7109</td>\n",
       "      <td>8991</td>\n",
       "      <td>226</td>\n",
       "      <td>16313</td>\n",
       "    </tr>\n",
       "    <tr>\n",
       "      <th>199</th>\n",
       "      <td>Zambia</td>\n",
       "      <td>2279</td>\n",
       "      <td>4908</td>\n",
       "      <td>113</td>\n",
       "      <td>7299</td>\n",
       "    </tr>\n",
       "    <tr>\n",
       "      <th>200</th>\n",
       "      <td>Zimbabwe</td>\n",
       "      <td>1741</td>\n",
       "      <td>3167</td>\n",
       "      <td>95</td>\n",
       "      <td>5000</td>\n",
       "    </tr>\n",
       "  </tbody>\n",
       "</table>\n",
       "<p>201 rows × 5 columns</p>\n",
       "</div>"
      ],
      "text/plain": [
       "                 country age_less_than_20 age_20_59 age_more_than_60   total\n",
       "0            Afghanistan             5487      4370              120    9964\n",
       "1                Albania              723      2790              898    4406\n",
       "2                Algeria            46642    103731            13423  163767\n",
       "3                 Angola             3946      8074              207   12237\n",
       "4    Antigua and Barbuda               26        87               13     126\n",
       "..                   ...              ...       ...              ...     ...\n",
       "196             Viet Nam             4061      9897              839   14780\n",
       "197       Western Sahara                7        45                1      54\n",
       "198                Yemen             7109      8991              226   16313\n",
       "199               Zambia             2279      4908              113    7299\n",
       "200             Zimbabwe             1741      3167               95    5000\n",
       "\n",
       "[201 rows x 5 columns]"
      ]
     },
     "execution_count": 21,
     "metadata": {},
     "output_type": "execute_result"
    }
   ],
   "source": [
    "# Assembling the created lists into a DF\n",
    "diabetes_cases = pd.DataFrame({'country':country,'age_less_than_20':age_less_than_20,\n",
    "                               'age_20_59':age_20_59,'age_more_than_60':age_more_than_60,'total':total})\n",
    "diabetes_cases"
   ]
  },
  {
   "cell_type": "code",
   "execution_count": 22,
   "id": "e60ef7dd",
   "metadata": {},
   "outputs": [
    {
     "name": "stdout",
     "output_type": "stream",
     "text": [
      "<class 'pandas.core.frame.DataFrame'>\n",
      "RangeIndex: 201 entries, 0 to 200\n",
      "Data columns (total 5 columns):\n",
      " #   Column            Non-Null Count  Dtype \n",
      "---  ------            --------------  ----- \n",
      " 0   country           201 non-null    object\n",
      " 1   age_less_than_20  201 non-null    object\n",
      " 2   age_20_59         201 non-null    object\n",
      " 3   age_more_than_60  201 non-null    object\n",
      " 4   total             201 non-null    object\n",
      "dtypes: object(5)\n",
      "memory usage: 8.0+ KB\n"
     ]
    }
   ],
   "source": [
    "diabetes_cases.info()"
   ]
  },
  {
   "cell_type": "code",
   "execution_count": 23,
   "id": "1139d128",
   "metadata": {
    "scrolled": true
   },
   "outputs": [
    {
     "ename": "ValueError",
     "evalue": "invalid literal for int() with base 10: ''",
     "output_type": "error",
     "traceback": [
      "\u001b[0;31m---------------------------------------------------------------------------\u001b[0m",
      "\u001b[0;31mValueError\u001b[0m                                Traceback (most recent call last)",
      "Cell \u001b[0;32mIn[23], line 3\u001b[0m\n\u001b[1;32m      1\u001b[0m \u001b[38;5;66;03m#converting values in the numeric columns into integers\u001b[39;00m\n\u001b[1;32m      2\u001b[0m \u001b[38;5;28;01mfor\u001b[39;00m c \u001b[38;5;129;01min\u001b[39;00m diabetes_cases\u001b[38;5;241m.\u001b[39mcolumns[\u001b[38;5;241m1\u001b[39m:]:\n\u001b[0;32m----> 3\u001b[0m     diabetes_cases[c] \u001b[38;5;241m=\u001b[39m \u001b[43mdiabetes_cases\u001b[49m\u001b[43m[\u001b[49m\u001b[43mc\u001b[49m\u001b[43m]\u001b[49m\u001b[38;5;241;43m.\u001b[39;49m\u001b[43mastype\u001b[49m\u001b[43m(\u001b[49m\u001b[38;5;28;43mint\u001b[39;49m\u001b[43m)\u001b[49m\n",
      "File \u001b[0;32m~/opt/anaconda3/envs/diabetesapp-env/lib/python3.9/site-packages/pandas/core/generic.py:6240\u001b[0m, in \u001b[0;36mNDFrame.astype\u001b[0;34m(self, dtype, copy, errors)\u001b[0m\n\u001b[1;32m   6233\u001b[0m     results \u001b[38;5;241m=\u001b[39m [\n\u001b[1;32m   6234\u001b[0m         \u001b[38;5;28mself\u001b[39m\u001b[38;5;241m.\u001b[39miloc[:, i]\u001b[38;5;241m.\u001b[39mastype(dtype, copy\u001b[38;5;241m=\u001b[39mcopy)\n\u001b[1;32m   6235\u001b[0m         \u001b[38;5;28;01mfor\u001b[39;00m i \u001b[38;5;129;01min\u001b[39;00m \u001b[38;5;28mrange\u001b[39m(\u001b[38;5;28mlen\u001b[39m(\u001b[38;5;28mself\u001b[39m\u001b[38;5;241m.\u001b[39mcolumns))\n\u001b[1;32m   6236\u001b[0m     ]\n\u001b[1;32m   6238\u001b[0m \u001b[38;5;28;01melse\u001b[39;00m:\n\u001b[1;32m   6239\u001b[0m     \u001b[38;5;66;03m# else, only a single dtype is given\u001b[39;00m\n\u001b[0;32m-> 6240\u001b[0m     new_data \u001b[38;5;241m=\u001b[39m \u001b[38;5;28;43mself\u001b[39;49m\u001b[38;5;241;43m.\u001b[39;49m\u001b[43m_mgr\u001b[49m\u001b[38;5;241;43m.\u001b[39;49m\u001b[43mastype\u001b[49m\u001b[43m(\u001b[49m\u001b[43mdtype\u001b[49m\u001b[38;5;241;43m=\u001b[39;49m\u001b[43mdtype\u001b[49m\u001b[43m,\u001b[49m\u001b[43m \u001b[49m\u001b[43mcopy\u001b[49m\u001b[38;5;241;43m=\u001b[39;49m\u001b[43mcopy\u001b[49m\u001b[43m,\u001b[49m\u001b[43m \u001b[49m\u001b[43merrors\u001b[49m\u001b[38;5;241;43m=\u001b[39;49m\u001b[43merrors\u001b[49m\u001b[43m)\u001b[49m\n\u001b[1;32m   6241\u001b[0m     \u001b[38;5;28;01mreturn\u001b[39;00m \u001b[38;5;28mself\u001b[39m\u001b[38;5;241m.\u001b[39m_constructor(new_data)\u001b[38;5;241m.\u001b[39m__finalize__(\u001b[38;5;28mself\u001b[39m, method\u001b[38;5;241m=\u001b[39m\u001b[38;5;124m\"\u001b[39m\u001b[38;5;124mastype\u001b[39m\u001b[38;5;124m\"\u001b[39m)\n\u001b[1;32m   6243\u001b[0m \u001b[38;5;66;03m# GH 33113: handle empty frame or series\u001b[39;00m\n",
      "File \u001b[0;32m~/opt/anaconda3/envs/diabetesapp-env/lib/python3.9/site-packages/pandas/core/internals/managers.py:450\u001b[0m, in \u001b[0;36mBaseBlockManager.astype\u001b[0;34m(self, dtype, copy, errors)\u001b[0m\n\u001b[1;32m    449\u001b[0m \u001b[38;5;28;01mdef\u001b[39;00m \u001b[38;5;21mastype\u001b[39m(\u001b[38;5;28mself\u001b[39m: T, dtype, copy: \u001b[38;5;28mbool\u001b[39m \u001b[38;5;241m=\u001b[39m \u001b[38;5;28;01mFalse\u001b[39;00m, errors: \u001b[38;5;28mstr\u001b[39m \u001b[38;5;241m=\u001b[39m \u001b[38;5;124m\"\u001b[39m\u001b[38;5;124mraise\u001b[39m\u001b[38;5;124m\"\u001b[39m) \u001b[38;5;241m-\u001b[39m\u001b[38;5;241m>\u001b[39m T:\n\u001b[0;32m--> 450\u001b[0m     \u001b[38;5;28;01mreturn\u001b[39;00m \u001b[38;5;28;43mself\u001b[39;49m\u001b[38;5;241;43m.\u001b[39;49m\u001b[43mapply\u001b[49m\u001b[43m(\u001b[49m\u001b[38;5;124;43m\"\u001b[39;49m\u001b[38;5;124;43mastype\u001b[39;49m\u001b[38;5;124;43m\"\u001b[39;49m\u001b[43m,\u001b[49m\u001b[43m \u001b[49m\u001b[43mdtype\u001b[49m\u001b[38;5;241;43m=\u001b[39;49m\u001b[43mdtype\u001b[49m\u001b[43m,\u001b[49m\u001b[43m \u001b[49m\u001b[43mcopy\u001b[49m\u001b[38;5;241;43m=\u001b[39;49m\u001b[43mcopy\u001b[49m\u001b[43m,\u001b[49m\u001b[43m \u001b[49m\u001b[43merrors\u001b[49m\u001b[38;5;241;43m=\u001b[39;49m\u001b[43merrors\u001b[49m\u001b[43m)\u001b[49m\n",
      "File \u001b[0;32m~/opt/anaconda3/envs/diabetesapp-env/lib/python3.9/site-packages/pandas/core/internals/managers.py:352\u001b[0m, in \u001b[0;36mBaseBlockManager.apply\u001b[0;34m(self, f, align_keys, ignore_failures, **kwargs)\u001b[0m\n\u001b[1;32m    350\u001b[0m         applied \u001b[38;5;241m=\u001b[39m b\u001b[38;5;241m.\u001b[39mapply(f, \u001b[38;5;241m*\u001b[39m\u001b[38;5;241m*\u001b[39mkwargs)\n\u001b[1;32m    351\u001b[0m     \u001b[38;5;28;01melse\u001b[39;00m:\n\u001b[0;32m--> 352\u001b[0m         applied \u001b[38;5;241m=\u001b[39m \u001b[38;5;28;43mgetattr\u001b[39;49m\u001b[43m(\u001b[49m\u001b[43mb\u001b[49m\u001b[43m,\u001b[49m\u001b[43m \u001b[49m\u001b[43mf\u001b[49m\u001b[43m)\u001b[49m\u001b[43m(\u001b[49m\u001b[38;5;241;43m*\u001b[39;49m\u001b[38;5;241;43m*\u001b[39;49m\u001b[43mkwargs\u001b[49m\u001b[43m)\u001b[49m\n\u001b[1;32m    353\u001b[0m \u001b[38;5;28;01mexcept\u001b[39;00m (\u001b[38;5;167;01mTypeError\u001b[39;00m, \u001b[38;5;167;01mNotImplementedError\u001b[39;00m):\n\u001b[1;32m    354\u001b[0m     \u001b[38;5;28;01mif\u001b[39;00m \u001b[38;5;129;01mnot\u001b[39;00m ignore_failures:\n",
      "File \u001b[0;32m~/opt/anaconda3/envs/diabetesapp-env/lib/python3.9/site-packages/pandas/core/internals/blocks.py:526\u001b[0m, in \u001b[0;36mBlock.astype\u001b[0;34m(self, dtype, copy, errors)\u001b[0m\n\u001b[1;32m    508\u001b[0m \u001b[38;5;250m\u001b[39m\u001b[38;5;124;03m\"\"\"\u001b[39;00m\n\u001b[1;32m    509\u001b[0m \u001b[38;5;124;03mCoerce to the new dtype.\u001b[39;00m\n\u001b[1;32m    510\u001b[0m \n\u001b[0;32m   (...)\u001b[0m\n\u001b[1;32m    522\u001b[0m \u001b[38;5;124;03mBlock\u001b[39;00m\n\u001b[1;32m    523\u001b[0m \u001b[38;5;124;03m\"\"\"\u001b[39;00m\n\u001b[1;32m    524\u001b[0m values \u001b[38;5;241m=\u001b[39m \u001b[38;5;28mself\u001b[39m\u001b[38;5;241m.\u001b[39mvalues\n\u001b[0;32m--> 526\u001b[0m new_values \u001b[38;5;241m=\u001b[39m \u001b[43mastype_array_safe\u001b[49m\u001b[43m(\u001b[49m\u001b[43mvalues\u001b[49m\u001b[43m,\u001b[49m\u001b[43m \u001b[49m\u001b[43mdtype\u001b[49m\u001b[43m,\u001b[49m\u001b[43m \u001b[49m\u001b[43mcopy\u001b[49m\u001b[38;5;241;43m=\u001b[39;49m\u001b[43mcopy\u001b[49m\u001b[43m,\u001b[49m\u001b[43m \u001b[49m\u001b[43merrors\u001b[49m\u001b[38;5;241;43m=\u001b[39;49m\u001b[43merrors\u001b[49m\u001b[43m)\u001b[49m\n\u001b[1;32m    528\u001b[0m new_values \u001b[38;5;241m=\u001b[39m maybe_coerce_values(new_values)\n\u001b[1;32m    529\u001b[0m newb \u001b[38;5;241m=\u001b[39m \u001b[38;5;28mself\u001b[39m\u001b[38;5;241m.\u001b[39mmake_block(new_values)\n",
      "File \u001b[0;32m~/opt/anaconda3/envs/diabetesapp-env/lib/python3.9/site-packages/pandas/core/dtypes/astype.py:299\u001b[0m, in \u001b[0;36mastype_array_safe\u001b[0;34m(values, dtype, copy, errors)\u001b[0m\n\u001b[1;32m    296\u001b[0m     \u001b[38;5;28;01mreturn\u001b[39;00m values\u001b[38;5;241m.\u001b[39mcopy()\n\u001b[1;32m    298\u001b[0m \u001b[38;5;28;01mtry\u001b[39;00m:\n\u001b[0;32m--> 299\u001b[0m     new_values \u001b[38;5;241m=\u001b[39m \u001b[43mastype_array\u001b[49m\u001b[43m(\u001b[49m\u001b[43mvalues\u001b[49m\u001b[43m,\u001b[49m\u001b[43m \u001b[49m\u001b[43mdtype\u001b[49m\u001b[43m,\u001b[49m\u001b[43m \u001b[49m\u001b[43mcopy\u001b[49m\u001b[38;5;241;43m=\u001b[39;49m\u001b[43mcopy\u001b[49m\u001b[43m)\u001b[49m\n\u001b[1;32m    300\u001b[0m \u001b[38;5;28;01mexcept\u001b[39;00m (\u001b[38;5;167;01mValueError\u001b[39;00m, \u001b[38;5;167;01mTypeError\u001b[39;00m):\n\u001b[1;32m    301\u001b[0m     \u001b[38;5;66;03m# e.g. astype_nansafe can fail on object-dtype of strings\u001b[39;00m\n\u001b[1;32m    302\u001b[0m     \u001b[38;5;66;03m#  trying to convert to float\u001b[39;00m\n\u001b[1;32m    303\u001b[0m     \u001b[38;5;28;01mif\u001b[39;00m errors \u001b[38;5;241m==\u001b[39m \u001b[38;5;124m\"\u001b[39m\u001b[38;5;124mignore\u001b[39m\u001b[38;5;124m\"\u001b[39m:\n",
      "File \u001b[0;32m~/opt/anaconda3/envs/diabetesapp-env/lib/python3.9/site-packages/pandas/core/dtypes/astype.py:230\u001b[0m, in \u001b[0;36mastype_array\u001b[0;34m(values, dtype, copy)\u001b[0m\n\u001b[1;32m    227\u001b[0m     values \u001b[38;5;241m=\u001b[39m values\u001b[38;5;241m.\u001b[39mastype(dtype, copy\u001b[38;5;241m=\u001b[39mcopy)\n\u001b[1;32m    229\u001b[0m \u001b[38;5;28;01melse\u001b[39;00m:\n\u001b[0;32m--> 230\u001b[0m     values \u001b[38;5;241m=\u001b[39m \u001b[43mastype_nansafe\u001b[49m\u001b[43m(\u001b[49m\u001b[43mvalues\u001b[49m\u001b[43m,\u001b[49m\u001b[43m \u001b[49m\u001b[43mdtype\u001b[49m\u001b[43m,\u001b[49m\u001b[43m \u001b[49m\u001b[43mcopy\u001b[49m\u001b[38;5;241;43m=\u001b[39;49m\u001b[43mcopy\u001b[49m\u001b[43m)\u001b[49m\n\u001b[1;32m    232\u001b[0m \u001b[38;5;66;03m# in pandas we don't store numpy str dtypes, so convert to object\u001b[39;00m\n\u001b[1;32m    233\u001b[0m \u001b[38;5;28;01mif\u001b[39;00m \u001b[38;5;28misinstance\u001b[39m(dtype, np\u001b[38;5;241m.\u001b[39mdtype) \u001b[38;5;129;01mand\u001b[39;00m \u001b[38;5;28missubclass\u001b[39m(values\u001b[38;5;241m.\u001b[39mdtype\u001b[38;5;241m.\u001b[39mtype, \u001b[38;5;28mstr\u001b[39m):\n",
      "File \u001b[0;32m~/opt/anaconda3/envs/diabetesapp-env/lib/python3.9/site-packages/pandas/core/dtypes/astype.py:170\u001b[0m, in \u001b[0;36mastype_nansafe\u001b[0;34m(arr, dtype, copy, skipna)\u001b[0m\n\u001b[1;32m    166\u001b[0m     \u001b[38;5;28;01mraise\u001b[39;00m \u001b[38;5;167;01mValueError\u001b[39;00m(msg)\n\u001b[1;32m    168\u001b[0m \u001b[38;5;28;01mif\u001b[39;00m copy \u001b[38;5;129;01mor\u001b[39;00m is_object_dtype(arr\u001b[38;5;241m.\u001b[39mdtype) \u001b[38;5;129;01mor\u001b[39;00m is_object_dtype(dtype):\n\u001b[1;32m    169\u001b[0m     \u001b[38;5;66;03m# Explicit copy, or required since NumPy can't view from / to object.\u001b[39;00m\n\u001b[0;32m--> 170\u001b[0m     \u001b[38;5;28;01mreturn\u001b[39;00m \u001b[43marr\u001b[49m\u001b[38;5;241;43m.\u001b[39;49m\u001b[43mastype\u001b[49m\u001b[43m(\u001b[49m\u001b[43mdtype\u001b[49m\u001b[43m,\u001b[49m\u001b[43m \u001b[49m\u001b[43mcopy\u001b[49m\u001b[38;5;241;43m=\u001b[39;49m\u001b[38;5;28;43;01mTrue\u001b[39;49;00m\u001b[43m)\u001b[49m\n\u001b[1;32m    172\u001b[0m \u001b[38;5;28;01mreturn\u001b[39;00m arr\u001b[38;5;241m.\u001b[39mastype(dtype, copy\u001b[38;5;241m=\u001b[39mcopy)\n",
      "\u001b[0;31mValueError\u001b[0m: invalid literal for int() with base 10: ''"
     ]
    }
   ],
   "source": [
    "# Converting values in the numeric columns into integers\n",
    "for c in diabetes_cases.columns[1:]:\n",
    "    diabetes_cases[c] = diabetes_cases[c].astype(int)"
   ]
  },
  {
   "cell_type": "code",
   "execution_count": 25,
   "id": "b8709f6c",
   "metadata": {},
   "outputs": [],
   "source": [
    "# Looks like there is an empty cell > filling it in with 0\n",
    "for i in diabetes_cases.index:\n",
    "    for c in range(1,5):\n",
    "        if diabetes_cases.iloc[i,c] == '':\n",
    "            diabetes_cases.iloc[i,c] = 0"
   ]
  },
  {
   "cell_type": "code",
   "execution_count": 26,
   "id": "56586ba7",
   "metadata": {},
   "outputs": [],
   "source": [
    "# Converting again\n",
    "for c in diabetes_cases.columns[1:]:\n",
    "    diabetes_cases[c] = diabetes_cases[c].astype(int)"
   ]
  },
  {
   "cell_type": "code",
   "execution_count": 27,
   "id": "327cbfd7",
   "metadata": {},
   "outputs": [
    {
     "name": "stdout",
     "output_type": "stream",
     "text": [
      "<class 'pandas.core.frame.DataFrame'>\n",
      "RangeIndex: 201 entries, 0 to 200\n",
      "Data columns (total 5 columns):\n",
      " #   Column            Non-Null Count  Dtype \n",
      "---  ------            --------------  ----- \n",
      " 0   country           201 non-null    object\n",
      " 1   age_less_than_20  201 non-null    int64 \n",
      " 2   age_20_59         201 non-null    int64 \n",
      " 3   age_more_than_60  201 non-null    int64 \n",
      " 4   total             201 non-null    int64 \n",
      "dtypes: int64(4), object(1)\n",
      "memory usage: 8.0+ KB\n"
     ]
    }
   ],
   "source": [
    "diabetes_cases.info()"
   ]
  },
  {
   "cell_type": "markdown",
   "id": "f3c2a306",
   "metadata": {},
   "source": [
    "### Population by country 2022 [[data source]](https://www.kaggle.com/datasets/whenamancodes/world-population-live-dataset?resource=download)"
   ]
  },
  {
   "cell_type": "code",
   "execution_count": 29,
   "id": "6385b201",
   "metadata": {},
   "outputs": [
    {
     "data": {
      "text/html": [
       "<div>\n",
       "<style scoped>\n",
       "    .dataframe tbody tr th:only-of-type {\n",
       "        vertical-align: middle;\n",
       "    }\n",
       "\n",
       "    .dataframe tbody tr th {\n",
       "        vertical-align: top;\n",
       "    }\n",
       "\n",
       "    .dataframe thead th {\n",
       "        text-align: right;\n",
       "    }\n",
       "</style>\n",
       "<table border=\"1\" class=\"dataframe\">\n",
       "  <thead>\n",
       "    <tr style=\"text-align: right;\">\n",
       "      <th></th>\n",
       "      <th>CCA3</th>\n",
       "      <th>Name</th>\n",
       "      <th>2022</th>\n",
       "      <th>2020</th>\n",
       "      <th>2015</th>\n",
       "      <th>2010</th>\n",
       "      <th>2000</th>\n",
       "      <th>1990</th>\n",
       "      <th>1980</th>\n",
       "      <th>1970</th>\n",
       "      <th>Area (km²)</th>\n",
       "      <th>Density (per km²)</th>\n",
       "      <th>GrowthRate</th>\n",
       "      <th>World Population Percentage</th>\n",
       "      <th>Rank</th>\n",
       "    </tr>\n",
       "  </thead>\n",
       "  <tbody>\n",
       "    <tr>\n",
       "      <th>0</th>\n",
       "      <td>CN</td>\n",
       "      <td>China</td>\n",
       "      <td>1425887</td>\n",
       "      <td>1424930</td>\n",
       "      <td>1393715</td>\n",
       "      <td>1348191</td>\n",
       "      <td>1264099</td>\n",
       "      <td>1153704</td>\n",
       "      <td>982372</td>\n",
       "      <td>822534</td>\n",
       "      <td>9706961</td>\n",
       "      <td>146.8933</td>\n",
       "      <td>1.00</td>\n",
       "      <td>17.88%</td>\n",
       "      <td>1</td>\n",
       "    </tr>\n",
       "    <tr>\n",
       "      <th>1</th>\n",
       "      <td>IN</td>\n",
       "      <td>India</td>\n",
       "      <td>1417173</td>\n",
       "      <td>1396387</td>\n",
       "      <td>1322867</td>\n",
       "      <td>1240614</td>\n",
       "      <td>1059634</td>\n",
       "      <td>870452</td>\n",
       "      <td>696828</td>\n",
       "      <td>557501</td>\n",
       "      <td>3287590</td>\n",
       "      <td>431.0675</td>\n",
       "      <td>1.01</td>\n",
       "      <td>17.77%</td>\n",
       "      <td>2</td>\n",
       "    </tr>\n",
       "    <tr>\n",
       "      <th>2</th>\n",
       "      <td>US</td>\n",
       "      <td>United States</td>\n",
       "      <td>338290</td>\n",
       "      <td>335942</td>\n",
       "      <td>324608</td>\n",
       "      <td>311183</td>\n",
       "      <td>282399</td>\n",
       "      <td>248084</td>\n",
       "      <td>223140</td>\n",
       "      <td>200328</td>\n",
       "      <td>9372610</td>\n",
       "      <td>36.0935</td>\n",
       "      <td>1.00</td>\n",
       "      <td>4.24%</td>\n",
       "      <td>3</td>\n",
       "    </tr>\n",
       "    <tr>\n",
       "      <th>3</th>\n",
       "      <td>ID</td>\n",
       "      <td>Indonesia</td>\n",
       "      <td>275501</td>\n",
       "      <td>271858</td>\n",
       "      <td>259092</td>\n",
       "      <td>244016</td>\n",
       "      <td>214072</td>\n",
       "      <td>182160</td>\n",
       "      <td>148177</td>\n",
       "      <td>115228</td>\n",
       "      <td>1904569</td>\n",
       "      <td>144.6529</td>\n",
       "      <td>1.01</td>\n",
       "      <td>3.45%</td>\n",
       "      <td>4</td>\n",
       "    </tr>\n",
       "    <tr>\n",
       "      <th>4</th>\n",
       "      <td>PK</td>\n",
       "      <td>Pakistan</td>\n",
       "      <td>235825</td>\n",
       "      <td>227197</td>\n",
       "      <td>210969</td>\n",
       "      <td>194454</td>\n",
       "      <td>154370</td>\n",
       "      <td>115414</td>\n",
       "      <td>80624</td>\n",
       "      <td>59291</td>\n",
       "      <td>881912</td>\n",
       "      <td>267.4018</td>\n",
       "      <td>1.02</td>\n",
       "      <td>2.96%</td>\n",
       "      <td>5</td>\n",
       "    </tr>\n",
       "    <tr>\n",
       "      <th>...</th>\n",
       "      <td>...</td>\n",
       "      <td>...</td>\n",
       "      <td>...</td>\n",
       "      <td>...</td>\n",
       "      <td>...</td>\n",
       "      <td>...</td>\n",
       "      <td>...</td>\n",
       "      <td>...</td>\n",
       "      <td>...</td>\n",
       "      <td>...</td>\n",
       "      <td>...</td>\n",
       "      <td>...</td>\n",
       "      <td>...</td>\n",
       "      <td>...</td>\n",
       "      <td>...</td>\n",
       "    </tr>\n",
       "    <tr>\n",
       "      <th>229</th>\n",
       "      <td>MS</td>\n",
       "      <td>Montserrat</td>\n",
       "      <td>4</td>\n",
       "      <td>5</td>\n",
       "      <td>5</td>\n",
       "      <td>5</td>\n",
       "      <td>5</td>\n",
       "      <td>11</td>\n",
       "      <td>11</td>\n",
       "      <td>11</td>\n",
       "      <td>102</td>\n",
       "      <td>43.0392</td>\n",
       "      <td>0.99</td>\n",
       "      <td>0.00%</td>\n",
       "      <td>230</td>\n",
       "    </tr>\n",
       "    <tr>\n",
       "      <th>230</th>\n",
       "      <td>FK</td>\n",
       "      <td>Falkland Islands</td>\n",
       "      <td>4</td>\n",
       "      <td>4</td>\n",
       "      <td>3</td>\n",
       "      <td>3</td>\n",
       "      <td>3</td>\n",
       "      <td>2</td>\n",
       "      <td>2</td>\n",
       "      <td>2</td>\n",
       "      <td>12173</td>\n",
       "      <td>0.3105</td>\n",
       "      <td>1.00</td>\n",
       "      <td>0.00%</td>\n",
       "      <td>231</td>\n",
       "    </tr>\n",
       "    <tr>\n",
       "      <th>231</th>\n",
       "      <td>NU</td>\n",
       "      <td>Niue</td>\n",
       "      <td>2</td>\n",
       "      <td>2</td>\n",
       "      <td>2</td>\n",
       "      <td>2</td>\n",
       "      <td>2</td>\n",
       "      <td>3</td>\n",
       "      <td>4</td>\n",
       "      <td>5</td>\n",
       "      <td>260</td>\n",
       "      <td>7.4385</td>\n",
       "      <td>1.00</td>\n",
       "      <td>0.00%</td>\n",
       "      <td>232</td>\n",
       "    </tr>\n",
       "    <tr>\n",
       "      <th>232</th>\n",
       "      <td>TK</td>\n",
       "      <td>Tokelau</td>\n",
       "      <td>2</td>\n",
       "      <td>2</td>\n",
       "      <td>1</td>\n",
       "      <td>1</td>\n",
       "      <td>2</td>\n",
       "      <td>2</td>\n",
       "      <td>2</td>\n",
       "      <td>2</td>\n",
       "      <td>12</td>\n",
       "      <td>155.9167</td>\n",
       "      <td>1.01</td>\n",
       "      <td>0.00%</td>\n",
       "      <td>233</td>\n",
       "    </tr>\n",
       "    <tr>\n",
       "      <th>233</th>\n",
       "      <td>VA</td>\n",
       "      <td>Vatican City</td>\n",
       "      <td>1</td>\n",
       "      <td>1</td>\n",
       "      <td>1</td>\n",
       "      <td>1</td>\n",
       "      <td>1</td>\n",
       "      <td>1</td>\n",
       "      <td>1</td>\n",
       "      <td>1</td>\n",
       "      <td>1</td>\n",
       "      <td>510.0000</td>\n",
       "      <td>1.00</td>\n",
       "      <td>0.00%</td>\n",
       "      <td>234</td>\n",
       "    </tr>\n",
       "  </tbody>\n",
       "</table>\n",
       "<p>234 rows × 15 columns</p>\n",
       "</div>"
      ],
      "text/plain": [
       "    CCA3              Name     2022     2020     2015     2010     2000  \\\n",
       "0     CN             China  1425887  1424930  1393715  1348191  1264099   \n",
       "1     IN             India  1417173  1396387  1322867  1240614  1059634   \n",
       "2     US     United States   338290   335942   324608   311183   282399   \n",
       "3     ID         Indonesia   275501   271858   259092   244016   214072   \n",
       "4     PK          Pakistan   235825   227197   210969   194454   154370   \n",
       "..   ...               ...      ...      ...      ...      ...      ...   \n",
       "229   MS        Montserrat        4        5        5        5        5   \n",
       "230   FK  Falkland Islands        4        4        3        3        3   \n",
       "231   NU              Niue        2        2        2        2        2   \n",
       "232   TK           Tokelau        2        2        1        1        2   \n",
       "233   VA      Vatican City        1        1        1        1        1   \n",
       "\n",
       "        1990    1980    1970  Area (km²)  Density (per km²)  GrowthRate  \\\n",
       "0    1153704  982372  822534     9706961           146.8933        1.00   \n",
       "1     870452  696828  557501     3287590           431.0675        1.01   \n",
       "2     248084  223140  200328     9372610            36.0935        1.00   \n",
       "3     182160  148177  115228     1904569           144.6529        1.01   \n",
       "4     115414   80624   59291      881912           267.4018        1.02   \n",
       "..       ...     ...     ...         ...                ...         ...   \n",
       "229       11      11      11         102            43.0392        0.99   \n",
       "230        2       2       2       12173             0.3105        1.00   \n",
       "231        3       4       5         260             7.4385        1.00   \n",
       "232        2       2       2          12           155.9167        1.01   \n",
       "233        1       1       1           1           510.0000        1.00   \n",
       "\n",
       "    World Population Percentage  Rank  \n",
       "0                        17.88%     1  \n",
       "1                        17.77%     2  \n",
       "2                         4.24%     3  \n",
       "3                         3.45%     4  \n",
       "4                         2.96%     5  \n",
       "..                          ...   ...  \n",
       "229                       0.00%   230  \n",
       "230                       0.00%   231  \n",
       "231                       0.00%   232  \n",
       "232                       0.00%   233  \n",
       "233                       0.00%   234  \n",
       "\n",
       "[234 rows x 15 columns]"
      ]
     },
     "execution_count": 29,
     "metadata": {},
     "output_type": "execute_result"
    }
   ],
   "source": [
    "# Read the file\n",
    "population = pd.read_csv('World Population Live Dataset.csv')\n",
    "population"
   ]
  },
  {
   "cell_type": "code",
   "execution_count": 30,
   "id": "80428125",
   "metadata": {},
   "outputs": [],
   "source": [
    "# Creating a DF with data from 2022\n",
    "population_2022 = pd.DataFrame({'country':population['Name'],'population':population['2022']*1000})"
   ]
  },
  {
   "cell_type": "code",
   "execution_count": 31,
   "id": "85882966",
   "metadata": {},
   "outputs": [
    {
     "data": {
      "text/html": [
       "<div>\n",
       "<style scoped>\n",
       "    .dataframe tbody tr th:only-of-type {\n",
       "        vertical-align: middle;\n",
       "    }\n",
       "\n",
       "    .dataframe tbody tr th {\n",
       "        vertical-align: top;\n",
       "    }\n",
       "\n",
       "    .dataframe thead th {\n",
       "        text-align: right;\n",
       "    }\n",
       "</style>\n",
       "<table border=\"1\" class=\"dataframe\">\n",
       "  <thead>\n",
       "    <tr style=\"text-align: right;\">\n",
       "      <th></th>\n",
       "      <th>country</th>\n",
       "      <th>population</th>\n",
       "    </tr>\n",
       "  </thead>\n",
       "  <tbody>\n",
       "    <tr>\n",
       "      <th>0</th>\n",
       "      <td>China</td>\n",
       "      <td>1425887000</td>\n",
       "    </tr>\n",
       "    <tr>\n",
       "      <th>1</th>\n",
       "      <td>India</td>\n",
       "      <td>1417173000</td>\n",
       "    </tr>\n",
       "    <tr>\n",
       "      <th>2</th>\n",
       "      <td>United States</td>\n",
       "      <td>338290000</td>\n",
       "    </tr>\n",
       "    <tr>\n",
       "      <th>3</th>\n",
       "      <td>Indonesia</td>\n",
       "      <td>275501000</td>\n",
       "    </tr>\n",
       "    <tr>\n",
       "      <th>4</th>\n",
       "      <td>Pakistan</td>\n",
       "      <td>235825000</td>\n",
       "    </tr>\n",
       "    <tr>\n",
       "      <th>...</th>\n",
       "      <td>...</td>\n",
       "      <td>...</td>\n",
       "    </tr>\n",
       "    <tr>\n",
       "      <th>229</th>\n",
       "      <td>Montserrat</td>\n",
       "      <td>4000</td>\n",
       "    </tr>\n",
       "    <tr>\n",
       "      <th>230</th>\n",
       "      <td>Falkland Islands</td>\n",
       "      <td>4000</td>\n",
       "    </tr>\n",
       "    <tr>\n",
       "      <th>231</th>\n",
       "      <td>Niue</td>\n",
       "      <td>2000</td>\n",
       "    </tr>\n",
       "    <tr>\n",
       "      <th>232</th>\n",
       "      <td>Tokelau</td>\n",
       "      <td>2000</td>\n",
       "    </tr>\n",
       "    <tr>\n",
       "      <th>233</th>\n",
       "      <td>Vatican City</td>\n",
       "      <td>1000</td>\n",
       "    </tr>\n",
       "  </tbody>\n",
       "</table>\n",
       "<p>234 rows × 2 columns</p>\n",
       "</div>"
      ],
      "text/plain": [
       "              country  population\n",
       "0               China  1425887000\n",
       "1               India  1417173000\n",
       "2       United States   338290000\n",
       "3           Indonesia   275501000\n",
       "4            Pakistan   235825000\n",
       "..                ...         ...\n",
       "229        Montserrat        4000\n",
       "230  Falkland Islands        4000\n",
       "231              Niue        2000\n",
       "232           Tokelau        2000\n",
       "233      Vatican City        1000\n",
       "\n",
       "[234 rows x 2 columns]"
      ]
     },
     "execution_count": 31,
     "metadata": {},
     "output_type": "execute_result"
    }
   ],
   "source": [
    "population_2022"
   ]
  },
  {
   "cell_type": "code",
   "execution_count": 32,
   "id": "63548a71",
   "metadata": {},
   "outputs": [
    {
     "name": "stdout",
     "output_type": "stream",
     "text": [
      "<class 'pandas.core.frame.DataFrame'>\n",
      "RangeIndex: 234 entries, 0 to 233\n",
      "Data columns (total 2 columns):\n",
      " #   Column      Non-Null Count  Dtype \n",
      "---  ------      --------------  ----- \n",
      " 0   country     234 non-null    object\n",
      " 1   population  234 non-null    int64 \n",
      "dtypes: int64(1), object(1)\n",
      "memory usage: 3.8+ KB\n"
     ]
    }
   ],
   "source": [
    "population_2022.info()"
   ]
  },
  {
   "cell_type": "markdown",
   "id": "f89fc140",
   "metadata": {},
   "source": [
    "### Merging two DFs"
   ]
  },
  {
   "cell_type": "code",
   "execution_count": 33,
   "id": "cde8c002",
   "metadata": {},
   "outputs": [
    {
     "data": {
      "text/html": [
       "<div>\n",
       "<style scoped>\n",
       "    .dataframe tbody tr th:only-of-type {\n",
       "        vertical-align: middle;\n",
       "    }\n",
       "\n",
       "    .dataframe tbody tr th {\n",
       "        vertical-align: top;\n",
       "    }\n",
       "\n",
       "    .dataframe thead th {\n",
       "        text-align: right;\n",
       "    }\n",
       "</style>\n",
       "<table border=\"1\" class=\"dataframe\">\n",
       "  <thead>\n",
       "    <tr style=\"text-align: right;\">\n",
       "      <th></th>\n",
       "      <th>country</th>\n",
       "      <th>age_less_than_20</th>\n",
       "      <th>age_20_59</th>\n",
       "      <th>age_more_than_60</th>\n",
       "      <th>total</th>\n",
       "      <th>population</th>\n",
       "    </tr>\n",
       "  </thead>\n",
       "  <tbody>\n",
       "    <tr>\n",
       "      <th>0</th>\n",
       "      <td>Afghanistan</td>\n",
       "      <td>5487</td>\n",
       "      <td>4370</td>\n",
       "      <td>120</td>\n",
       "      <td>9964</td>\n",
       "      <td>41129000.0</td>\n",
       "    </tr>\n",
       "    <tr>\n",
       "      <th>1</th>\n",
       "      <td>Albania</td>\n",
       "      <td>723</td>\n",
       "      <td>2790</td>\n",
       "      <td>898</td>\n",
       "      <td>4406</td>\n",
       "      <td>2842000.0</td>\n",
       "    </tr>\n",
       "    <tr>\n",
       "      <th>2</th>\n",
       "      <td>Algeria</td>\n",
       "      <td>46642</td>\n",
       "      <td>103731</td>\n",
       "      <td>13423</td>\n",
       "      <td>163767</td>\n",
       "      <td>44903000.0</td>\n",
       "    </tr>\n",
       "    <tr>\n",
       "      <th>3</th>\n",
       "      <td>Angola</td>\n",
       "      <td>3946</td>\n",
       "      <td>8074</td>\n",
       "      <td>207</td>\n",
       "      <td>12237</td>\n",
       "      <td>35589000.0</td>\n",
       "    </tr>\n",
       "    <tr>\n",
       "      <th>4</th>\n",
       "      <td>Antigua and Barbuda</td>\n",
       "      <td>26</td>\n",
       "      <td>87</td>\n",
       "      <td>13</td>\n",
       "      <td>126</td>\n",
       "      <td>94000.0</td>\n",
       "    </tr>\n",
       "    <tr>\n",
       "      <th>...</th>\n",
       "      <td>...</td>\n",
       "      <td>...</td>\n",
       "      <td>...</td>\n",
       "      <td>...</td>\n",
       "      <td>...</td>\n",
       "      <td>...</td>\n",
       "    </tr>\n",
       "    <tr>\n",
       "      <th>196</th>\n",
       "      <td>Viet Nam</td>\n",
       "      <td>4061</td>\n",
       "      <td>9897</td>\n",
       "      <td>839</td>\n",
       "      <td>14780</td>\n",
       "      <td>NaN</td>\n",
       "    </tr>\n",
       "    <tr>\n",
       "      <th>197</th>\n",
       "      <td>Western Sahara</td>\n",
       "      <td>7</td>\n",
       "      <td>45</td>\n",
       "      <td>1</td>\n",
       "      <td>54</td>\n",
       "      <td>576000.0</td>\n",
       "    </tr>\n",
       "    <tr>\n",
       "      <th>198</th>\n",
       "      <td>Yemen</td>\n",
       "      <td>7109</td>\n",
       "      <td>8991</td>\n",
       "      <td>226</td>\n",
       "      <td>16313</td>\n",
       "      <td>33697000.0</td>\n",
       "    </tr>\n",
       "    <tr>\n",
       "      <th>199</th>\n",
       "      <td>Zambia</td>\n",
       "      <td>2279</td>\n",
       "      <td>4908</td>\n",
       "      <td>113</td>\n",
       "      <td>7299</td>\n",
       "      <td>20018000.0</td>\n",
       "    </tr>\n",
       "    <tr>\n",
       "      <th>200</th>\n",
       "      <td>Zimbabwe</td>\n",
       "      <td>1741</td>\n",
       "      <td>3167</td>\n",
       "      <td>95</td>\n",
       "      <td>5000</td>\n",
       "      <td>16321000.0</td>\n",
       "    </tr>\n",
       "  </tbody>\n",
       "</table>\n",
       "<p>201 rows × 6 columns</p>\n",
       "</div>"
      ],
      "text/plain": [
       "                 country  age_less_than_20  age_20_59  age_more_than_60  \\\n",
       "0            Afghanistan              5487       4370               120   \n",
       "1                Albania               723       2790               898   \n",
       "2                Algeria             46642     103731             13423   \n",
       "3                 Angola              3946       8074               207   \n",
       "4    Antigua and Barbuda                26         87                13   \n",
       "..                   ...               ...        ...               ...   \n",
       "196             Viet Nam              4061       9897               839   \n",
       "197       Western Sahara                 7         45                 1   \n",
       "198                Yemen              7109       8991               226   \n",
       "199               Zambia              2279       4908               113   \n",
       "200             Zimbabwe              1741       3167                95   \n",
       "\n",
       "      total  population  \n",
       "0      9964  41129000.0  \n",
       "1      4406   2842000.0  \n",
       "2    163767  44903000.0  \n",
       "3     12237  35589000.0  \n",
       "4       126     94000.0  \n",
       "..      ...         ...  \n",
       "196   14780         NaN  \n",
       "197      54    576000.0  \n",
       "198   16313  33697000.0  \n",
       "199    7299  20018000.0  \n",
       "200    5000  16321000.0  \n",
       "\n",
       "[201 rows x 6 columns]"
      ]
     },
     "execution_count": 33,
     "metadata": {},
     "output_type": "execute_result"
    }
   ],
   "source": [
    "# Left merge on 'country' column\n",
    "diabetes_cases_and_population = diabetes_cases.merge(population_2022,how='left',on='country')\n",
    "diabetes_cases_and_population"
   ]
  },
  {
   "cell_type": "code",
   "execution_count": 36,
   "id": "21d61f78",
   "metadata": {},
   "outputs": [
    {
     "data": {
      "text/html": [
       "<div>\n",
       "<style scoped>\n",
       "    .dataframe tbody tr th:only-of-type {\n",
       "        vertical-align: middle;\n",
       "    }\n",
       "\n",
       "    .dataframe tbody tr th {\n",
       "        vertical-align: top;\n",
       "    }\n",
       "\n",
       "    .dataframe thead th {\n",
       "        text-align: right;\n",
       "    }\n",
       "</style>\n",
       "<table border=\"1\" class=\"dataframe\">\n",
       "  <thead>\n",
       "    <tr style=\"text-align: right;\">\n",
       "      <th></th>\n",
       "      <th>country</th>\n",
       "      <th>age_less_than_20</th>\n",
       "      <th>age_20_59</th>\n",
       "      <th>age_more_than_60</th>\n",
       "      <th>total</th>\n",
       "      <th>population</th>\n",
       "    </tr>\n",
       "  </thead>\n",
       "  <tbody>\n",
       "    <tr>\n",
       "      <th>24</th>\n",
       "      <td>Brunei Darussalam</td>\n",
       "      <td>19</td>\n",
       "      <td>70</td>\n",
       "      <td>9</td>\n",
       "      <td>98</td>\n",
       "      <td>NaN</td>\n",
       "    </tr>\n",
       "    <tr>\n",
       "      <th>34</th>\n",
       "      <td>Channel Islands</td>\n",
       "      <td>95</td>\n",
       "      <td>667</td>\n",
       "      <td>201</td>\n",
       "      <td>962</td>\n",
       "      <td>NaN</td>\n",
       "    </tr>\n",
       "    <tr>\n",
       "      <th>40</th>\n",
       "      <td>Cote d'Ivoire</td>\n",
       "      <td>2500</td>\n",
       "      <td>5147</td>\n",
       "      <td>164</td>\n",
       "      <td>7804</td>\n",
       "      <td>NaN</td>\n",
       "    </tr>\n",
       "    <tr>\n",
       "      <th>43</th>\n",
       "      <td>Curaçao</td>\n",
       "      <td>2</td>\n",
       "      <td>5</td>\n",
       "      <td>2</td>\n",
       "      <td>9</td>\n",
       "      <td>NaN</td>\n",
       "    </tr>\n",
       "    <tr>\n",
       "      <th>46</th>\n",
       "      <td>Democratic Republic of the Congo</td>\n",
       "      <td>5811</td>\n",
       "      <td>12283</td>\n",
       "      <td>423</td>\n",
       "      <td>18534</td>\n",
       "      <td>NaN</td>\n",
       "    </tr>\n",
       "    <tr>\n",
       "      <th>58</th>\n",
       "      <td>Federated States of Micronesia</td>\n",
       "      <td>1</td>\n",
       "      <td>1</td>\n",
       "      <td>2</td>\n",
       "      <td>0</td>\n",
       "      <td>NaN</td>\n",
       "    </tr>\n",
       "    <tr>\n",
       "      <th>105</th>\n",
       "      <td>Macao</td>\n",
       "      <td>51</td>\n",
       "      <td>309</td>\n",
       "      <td>85</td>\n",
       "      <td>445</td>\n",
       "      <td>NaN</td>\n",
       "    </tr>\n",
       "    <tr>\n",
       "      <th>106</th>\n",
       "      <td>Macedonia</td>\n",
       "      <td>489</td>\n",
       "      <td>2137</td>\n",
       "      <td>569</td>\n",
       "      <td>3194</td>\n",
       "      <td>NaN</td>\n",
       "    </tr>\n",
       "    <tr>\n",
       "      <th>146</th>\n",
       "      <td>Republic of Congo</td>\n",
       "      <td>557</td>\n",
       "      <td>1319</td>\n",
       "      <td>43</td>\n",
       "      <td>1917</td>\n",
       "      <td>NaN</td>\n",
       "    </tr>\n",
       "    <tr>\n",
       "      <th>147</th>\n",
       "      <td>Réunion</td>\n",
       "      <td>84</td>\n",
       "      <td>300</td>\n",
       "      <td>32</td>\n",
       "      <td>415</td>\n",
       "      <td>NaN</td>\n",
       "    </tr>\n",
       "    <tr>\n",
       "      <th>168</th>\n",
       "      <td>St Lucia</td>\n",
       "      <td>72</td>\n",
       "      <td>266</td>\n",
       "      <td>35</td>\n",
       "      <td>373</td>\n",
       "      <td>NaN</td>\n",
       "    </tr>\n",
       "    <tr>\n",
       "      <th>169</th>\n",
       "      <td>St Vincent and the Grenadines</td>\n",
       "      <td>53</td>\n",
       "      <td>153</td>\n",
       "      <td>24</td>\n",
       "      <td>229</td>\n",
       "      <td>NaN</td>\n",
       "    </tr>\n",
       "    <tr>\n",
       "      <th>179</th>\n",
       "      <td>Timor L'Este</td>\n",
       "      <td>86</td>\n",
       "      <td>108</td>\n",
       "      <td>4</td>\n",
       "      <td>199</td>\n",
       "      <td>NaN</td>\n",
       "    </tr>\n",
       "    <tr>\n",
       "      <th>196</th>\n",
       "      <td>Viet Nam</td>\n",
       "      <td>4061</td>\n",
       "      <td>9897</td>\n",
       "      <td>839</td>\n",
       "      <td>14780</td>\n",
       "      <td>NaN</td>\n",
       "    </tr>\n",
       "  </tbody>\n",
       "</table>\n",
       "</div>"
      ],
      "text/plain": [
       "                              country  age_less_than_20  age_20_59  \\\n",
       "24                  Brunei Darussalam                19         70   \n",
       "34                    Channel Islands                95        667   \n",
       "40                      Cote d'Ivoire              2500       5147   \n",
       "43                            Curaçao                 2          5   \n",
       "46   Democratic Republic of the Congo              5811      12283   \n",
       "58     Federated States of Micronesia                 1          1   \n",
       "105                             Macao                51        309   \n",
       "106                         Macedonia               489       2137   \n",
       "146                 Republic of Congo               557       1319   \n",
       "147                           Réunion                84        300   \n",
       "168                          St Lucia                72        266   \n",
       "169     St Vincent and the Grenadines                53        153   \n",
       "179                      Timor L'Este                86        108   \n",
       "196                          Viet Nam              4061       9897   \n",
       "\n",
       "     age_more_than_60  total  population  \n",
       "24                  9     98         NaN  \n",
       "34                201    962         NaN  \n",
       "40                164   7804         NaN  \n",
       "43                  2      9         NaN  \n",
       "46                423  18534         NaN  \n",
       "58                  2      0         NaN  \n",
       "105                85    445         NaN  \n",
       "106               569   3194         NaN  \n",
       "146                43   1917         NaN  \n",
       "147                32    415         NaN  \n",
       "168                35    373         NaN  \n",
       "169                24    229         NaN  \n",
       "179                 4    199         NaN  \n",
       "196               839  14780         NaN  "
      ]
     },
     "execution_count": 36,
     "metadata": {},
     "output_type": "execute_result"
    }
   ],
   "source": [
    "# Checking for NaNs\n",
    "diabetes_cases_and_population[diabetes_cases_and_population['population'].isna()]"
   ]
  },
  {
   "cell_type": "markdown",
   "id": "95feeae6",
   "metadata": {},
   "source": [
    "It looked like a few rows had missing values, which was probably due to a different spelling. Further along, each country was searched for in the population_2022 DF and if found the population data was transfered"
   ]
  },
  {
   "cell_type": "code",
   "execution_count": 37,
   "id": "4325e811",
   "metadata": {},
   "outputs": [
    {
     "name": "stdout",
     "output_type": "stream",
     "text": [
      "    country  population\n",
      "174  Brunei      449000\n"
     ]
    }
   ],
   "source": [
    "for i in population_2022['country']:\n",
    "    if 'Brunei' in i:\n",
    "        print(population_2022[population_2022['country']==i])"
   ]
  },
  {
   "cell_type": "code",
   "execution_count": 38,
   "id": "b4e87c0f",
   "metadata": {},
   "outputs": [],
   "source": [
    "diabetes_cases_and_population.loc[24,'population'] = 449000"
   ]
  },
  {
   "cell_type": "code",
   "execution_count": 39,
   "id": "72bb85c2",
   "metadata": {},
   "outputs": [
    {
     "name": "stdout",
     "output_type": "stream",
     "text": [
      "             country  population\n",
      "165  Solomon Islands      724000\n",
      "                          country  population\n",
      "199  United States Virgin Islands       99000\n",
      "            country  population\n",
      "204  Cayman Islands       69000\n",
      "           country  population\n",
      "208  Faroe Islands       53000\n",
      "                      country  population\n",
      "209  Northern Mariana Islands       50000\n",
      "                      country  population\n",
      "211  Turks and Caicos Islands       46000\n",
      "              country  population\n",
      "214  Marshall Islands       42000\n",
      "                    country  population\n",
      "220  British Virgin Islands       31000\n",
      "          country  population\n",
      "222  Cook Islands       17000\n",
      "              country  population\n",
      "230  Falkland Islands        4000\n"
     ]
    }
   ],
   "source": [
    "for i in population_2022['country']:\n",
    "    if 'Islands' in i:\n",
    "        print(population_2022[population_2022['country']==i])"
   ]
  },
  {
   "cell_type": "code",
   "execution_count": 40,
   "id": "e369a7c7",
   "metadata": {},
   "outputs": [],
   "source": [
    "diabetes_cases_and_population.drop(index=34,inplace=True)"
   ]
  },
  {
   "cell_type": "code",
   "execution_count": 41,
   "id": "93e52f75",
   "metadata": {},
   "outputs": [],
   "source": [
    "for i in population_2022['country']:\n",
    "    if \"d'Ivoire\" in i:\n",
    "        print(population_2022[population_2022['country']==i])"
   ]
  },
  {
   "cell_type": "code",
   "execution_count": 42,
   "id": "137ff14f",
   "metadata": {},
   "outputs": [],
   "source": [
    "diabetes_cases_and_population.drop(index=40,inplace=True)"
   ]
  },
  {
   "cell_type": "code",
   "execution_count": 43,
   "id": "f9e5bc91",
   "metadata": {},
   "outputs": [
    {
     "name": "stdout",
     "output_type": "stream",
     "text": [
      "     country  population\n",
      "188  Curacao      191000\n"
     ]
    }
   ],
   "source": [
    "for i in population_2022['country']:\n",
    "    if \"Curacao\" in i:\n",
    "        print(population_2022[population_2022['country']==i])"
   ]
  },
  {
   "cell_type": "code",
   "execution_count": 44,
   "id": "c596748b",
   "metadata": {},
   "outputs": [],
   "source": [
    "diabetes_cases_and_population.loc[43,'population'] = 191000"
   ]
  },
  {
   "cell_type": "code",
   "execution_count": 45,
   "id": "838dd665",
   "metadata": {},
   "outputs": [
    {
     "name": "stdout",
     "output_type": "stream",
     "text": [
      "     country  population\n",
      "14  DR Congo    99010000\n",
      "                   country  population\n",
      "113  Republic of the Congo     5970000\n"
     ]
    }
   ],
   "source": [
    "for i in population_2022['country']:\n",
    "    if \"Congo\" in i:\n",
    "        print(population_2022[population_2022['country']==i])"
   ]
  },
  {
   "cell_type": "code",
   "execution_count": 46,
   "id": "3fbbdb24",
   "metadata": {},
   "outputs": [],
   "source": [
    "diabetes_cases_and_population.loc[146,'population'] = 5970000"
   ]
  },
  {
   "cell_type": "code",
   "execution_count": 47,
   "id": "871f44a0",
   "metadata": {},
   "outputs": [],
   "source": [
    "diabetes_cases_and_population.loc[46,'population'] = 99010000"
   ]
  },
  {
   "cell_type": "code",
   "execution_count": 48,
   "id": "9245cbef",
   "metadata": {},
   "outputs": [
    {
     "name": "stdout",
     "output_type": "stream",
     "text": [
      "        country  population\n",
      "193  Micronesia      114000\n"
     ]
    }
   ],
   "source": [
    "for i in population_2022['country']:\n",
    "    if \"Micronesia\" in i:\n",
    "        print(population_2022[population_2022['country']==i])"
   ]
  },
  {
   "cell_type": "code",
   "execution_count": 49,
   "id": "0d3fb60f",
   "metadata": {},
   "outputs": [],
   "source": [
    "diabetes_cases_and_population.loc[58,'population'] = 114000"
   ]
  },
  {
   "cell_type": "code",
   "execution_count": 50,
   "id": "2a90388c",
   "metadata": {},
   "outputs": [
    {
     "name": "stdout",
     "output_type": "stream",
     "text": [
      "    country  population\n",
      "166   Macau      695000\n"
     ]
    }
   ],
   "source": [
    "for i in population_2022['country']:\n",
    "    if \"Macau\" in i:\n",
    "        print(population_2022[population_2022['country']==i])"
   ]
  },
  {
   "cell_type": "code",
   "execution_count": 51,
   "id": "71f61d21",
   "metadata": {},
   "outputs": [],
   "source": [
    "diabetes_cases_and_population.loc[105,'population'] = 695000"
   ]
  },
  {
   "cell_type": "code",
   "execution_count": 52,
   "id": "ebb2eed0",
   "metadata": {},
   "outputs": [
    {
     "name": "stdout",
     "output_type": "stream",
     "text": [
      "             country  population\n",
      "149  North Macedonia     2094000\n"
     ]
    }
   ],
   "source": [
    "for i in population_2022['country']:\n",
    "    if \"Macedonia\" in i:\n",
    "        print(population_2022[population_2022['country']==i])"
   ]
  },
  {
   "cell_type": "code",
   "execution_count": 53,
   "id": "8dfe32a0",
   "metadata": {},
   "outputs": [],
   "source": [
    "diabetes_cases_and_population.loc[106,'population'] = 2094000"
   ]
  },
  {
   "cell_type": "code",
   "execution_count": 54,
   "id": "985916b3",
   "metadata": {},
   "outputs": [
    {
     "name": "stdout",
     "output_type": "stream",
     "text": [
      "     country  population\n",
      "160  Reunion      974000\n"
     ]
    }
   ],
   "source": [
    "for i in population_2022['country']:\n",
    "    if \"Reunion\" in i:\n",
    "        print(population_2022[population_2022['country']==i])"
   ]
  },
  {
   "cell_type": "code",
   "execution_count": 55,
   "id": "07c7aa11",
   "metadata": {},
   "outputs": [],
   "source": [
    "diabetes_cases_and_population.loc[147,'population'] = 974000"
   ]
  },
  {
   "cell_type": "code",
   "execution_count": 56,
   "id": "7987ea74",
   "metadata": {},
   "outputs": [
    {
     "name": "stdout",
     "output_type": "stream",
     "text": [
      "         country  population\n",
      "189  Saint Lucia      180000\n"
     ]
    }
   ],
   "source": [
    "for i in population_2022['country']:\n",
    "    if \"Lucia\" in i:\n",
    "        print(population_2022[population_2022['country']==i])"
   ]
  },
  {
   "cell_type": "code",
   "execution_count": 57,
   "id": "fc3457ba",
   "metadata": {},
   "outputs": [],
   "source": [
    "diabetes_cases_and_population.loc[168,'population'] = 180000"
   ]
  },
  {
   "cell_type": "code",
   "execution_count": 58,
   "id": "821f20fb",
   "metadata": {},
   "outputs": [
    {
     "name": "stdout",
     "output_type": "stream",
     "text": [
      "                              country  population\n",
      "198  Saint Vincent and the Grenadines      104000\n"
     ]
    }
   ],
   "source": [
    "for i in population_2022['country']:\n",
    "    if \"Grenadines\" in i:\n",
    "        print(population_2022[population_2022['country']==i])"
   ]
  },
  {
   "cell_type": "code",
   "execution_count": 59,
   "id": "88346aae",
   "metadata": {},
   "outputs": [],
   "source": [
    "diabetes_cases_and_population.loc[169,'population'] = 104000"
   ]
  },
  {
   "cell_type": "code",
   "execution_count": 60,
   "id": "c2b5e967",
   "metadata": {},
   "outputs": [
    {
     "name": "stdout",
     "output_type": "stream",
     "text": [
      "         country  population\n",
      "154  Timor-Leste     1341000\n"
     ]
    }
   ],
   "source": [
    "for i in population_2022['country']:\n",
    "    if \"Timor\" in i:\n",
    "        print(population_2022[population_2022['country']==i])"
   ]
  },
  {
   "cell_type": "code",
   "execution_count": 61,
   "id": "a57dc97f",
   "metadata": {},
   "outputs": [],
   "source": [
    "diabetes_cases_and_population.loc[179,'population'] = 1341000"
   ]
  },
  {
   "cell_type": "code",
   "execution_count": 62,
   "id": "ce2142fe",
   "metadata": {},
   "outputs": [
    {
     "name": "stdout",
     "output_type": "stream",
     "text": [
      "    country  population\n",
      "15  Vietnam    98187000\n"
     ]
    }
   ],
   "source": [
    "for i in population_2022['country']:\n",
    "    if \"Viet\" in i:\n",
    "        print(population_2022[population_2022['country']==i])"
   ]
  },
  {
   "cell_type": "code",
   "execution_count": 63,
   "id": "374099c6",
   "metadata": {},
   "outputs": [],
   "source": [
    "diabetes_cases_and_population.loc[196,'population'] = 98187000"
   ]
  },
  {
   "cell_type": "code",
   "execution_count": 64,
   "id": "04741040",
   "metadata": {},
   "outputs": [
    {
     "data": {
      "text/html": [
       "<div>\n",
       "<style scoped>\n",
       "    .dataframe tbody tr th:only-of-type {\n",
       "        vertical-align: middle;\n",
       "    }\n",
       "\n",
       "    .dataframe tbody tr th {\n",
       "        vertical-align: top;\n",
       "    }\n",
       "\n",
       "    .dataframe thead th {\n",
       "        text-align: right;\n",
       "    }\n",
       "</style>\n",
       "<table border=\"1\" class=\"dataframe\">\n",
       "  <thead>\n",
       "    <tr style=\"text-align: right;\">\n",
       "      <th></th>\n",
       "      <th>country</th>\n",
       "      <th>age_less_than_20</th>\n",
       "      <th>age_20_59</th>\n",
       "      <th>age_more_than_60</th>\n",
       "      <th>total</th>\n",
       "      <th>population</th>\n",
       "    </tr>\n",
       "  </thead>\n",
       "  <tbody>\n",
       "  </tbody>\n",
       "</table>\n",
       "</div>"
      ],
      "text/plain": [
       "Empty DataFrame\n",
       "Columns: [country, age_less_than_20, age_20_59, age_more_than_60, total, population]\n",
       "Index: []"
      ]
     },
     "execution_count": 64,
     "metadata": {},
     "output_type": "execute_result"
    }
   ],
   "source": [
    "# Checking one more time for missing values\n",
    "diabetes_cases_and_population[diabetes_cases_and_population['population'].isna()]"
   ]
  },
  {
   "cell_type": "code",
   "execution_count": 65,
   "id": "de1d952d",
   "metadata": {},
   "outputs": [
    {
     "name": "stdout",
     "output_type": "stream",
     "text": [
      "<class 'pandas.core.frame.DataFrame'>\n",
      "Int64Index: 199 entries, 0 to 200\n",
      "Data columns (total 6 columns):\n",
      " #   Column            Non-Null Count  Dtype  \n",
      "---  ------            --------------  -----  \n",
      " 0   country           199 non-null    object \n",
      " 1   age_less_than_20  199 non-null    int64  \n",
      " 2   age_20_59         199 non-null    int64  \n",
      " 3   age_more_than_60  199 non-null    int64  \n",
      " 4   total             199 non-null    int64  \n",
      " 5   population        199 non-null    float64\n",
      "dtypes: float64(1), int64(4), object(1)\n",
      "memory usage: 19.0+ KB\n"
     ]
    }
   ],
   "source": [
    "diabetes_cases_and_population.info()"
   ]
  },
  {
   "cell_type": "code",
   "execution_count": 66,
   "id": "95f6c857",
   "metadata": {},
   "outputs": [],
   "source": [
    "# Converting values in'population' column to integers\n",
    "diabetes_cases_and_population['population'] = diabetes_cases_and_population['population'].astype(int)"
   ]
  },
  {
   "cell_type": "code",
   "execution_count": 67,
   "id": "1c676aa4",
   "metadata": {},
   "outputs": [
    {
     "name": "stdout",
     "output_type": "stream",
     "text": [
      "          country  age_less_than_20  age_20_59  age_more_than_60  total  \\\n",
      "179  Timor L'Este                86        108                 4    199   \n",
      "\n",
      "     population  \n",
      "179     1341000  \n"
     ]
    }
   ],
   "source": [
    "for i in diabetes_cases_and_population['country']:\n",
    "    if \"'\" in i:\n",
    "        print(diabetes_cases_and_population[diabetes_cases_and_population['country']==i])"
   ]
  },
  {
   "cell_type": "code",
   "execution_count": 68,
   "id": "09a9493c",
   "metadata": {},
   "outputs": [],
   "source": [
    "diabetes_cases_and_population.loc[179,'country'] = 'Timor L-Este'"
   ]
  },
  {
   "cell_type": "markdown",
   "id": "1c961fa9",
   "metadata": {},
   "source": [
    "### Calculating prevalence"
   ]
  },
  {
   "cell_type": "code",
   "execution_count": 69,
   "id": "375d9987",
   "metadata": {},
   "outputs": [],
   "source": [
    "# Calculating prevalence by dividing the number of cases by population per country\n",
    "cases = diabetes_cases_and_population['total']\n",
    "population = diabetes_cases_and_population['population']\n",
    "diabetes_cases_and_population['prevalence'] = round(cases/population,6)"
   ]
  },
  {
   "cell_type": "code",
   "execution_count": 70,
   "id": "fd958299",
   "metadata": {},
   "outputs": [
    {
     "data": {
      "text/html": [
       "<div>\n",
       "<style scoped>\n",
       "    .dataframe tbody tr th:only-of-type {\n",
       "        vertical-align: middle;\n",
       "    }\n",
       "\n",
       "    .dataframe tbody tr th {\n",
       "        vertical-align: top;\n",
       "    }\n",
       "\n",
       "    .dataframe thead th {\n",
       "        text-align: right;\n",
       "    }\n",
       "</style>\n",
       "<table border=\"1\" class=\"dataframe\">\n",
       "  <thead>\n",
       "    <tr style=\"text-align: right;\">\n",
       "      <th></th>\n",
       "      <th>country</th>\n",
       "      <th>age_less_than_20</th>\n",
       "      <th>age_20_59</th>\n",
       "      <th>age_more_than_60</th>\n",
       "      <th>total</th>\n",
       "      <th>population</th>\n",
       "      <th>prevalence</th>\n",
       "    </tr>\n",
       "  </thead>\n",
       "  <tbody>\n",
       "    <tr>\n",
       "      <th>0</th>\n",
       "      <td>Afghanistan</td>\n",
       "      <td>5487</td>\n",
       "      <td>4370</td>\n",
       "      <td>120</td>\n",
       "      <td>9964</td>\n",
       "      <td>41129000</td>\n",
       "      <td>0.000242</td>\n",
       "    </tr>\n",
       "    <tr>\n",
       "      <th>1</th>\n",
       "      <td>Albania</td>\n",
       "      <td>723</td>\n",
       "      <td>2790</td>\n",
       "      <td>898</td>\n",
       "      <td>4406</td>\n",
       "      <td>2842000</td>\n",
       "      <td>0.001550</td>\n",
       "    </tr>\n",
       "    <tr>\n",
       "      <th>2</th>\n",
       "      <td>Algeria</td>\n",
       "      <td>46642</td>\n",
       "      <td>103731</td>\n",
       "      <td>13423</td>\n",
       "      <td>163767</td>\n",
       "      <td>44903000</td>\n",
       "      <td>0.003647</td>\n",
       "    </tr>\n",
       "    <tr>\n",
       "      <th>3</th>\n",
       "      <td>Angola</td>\n",
       "      <td>3946</td>\n",
       "      <td>8074</td>\n",
       "      <td>207</td>\n",
       "      <td>12237</td>\n",
       "      <td>35589000</td>\n",
       "      <td>0.000344</td>\n",
       "    </tr>\n",
       "    <tr>\n",
       "      <th>4</th>\n",
       "      <td>Antigua and Barbuda</td>\n",
       "      <td>26</td>\n",
       "      <td>87</td>\n",
       "      <td>13</td>\n",
       "      <td>126</td>\n",
       "      <td>94000</td>\n",
       "      <td>0.001340</td>\n",
       "    </tr>\n",
       "    <tr>\n",
       "      <th>...</th>\n",
       "      <td>...</td>\n",
       "      <td>...</td>\n",
       "      <td>...</td>\n",
       "      <td>...</td>\n",
       "      <td>...</td>\n",
       "      <td>...</td>\n",
       "      <td>...</td>\n",
       "    </tr>\n",
       "    <tr>\n",
       "      <th>196</th>\n",
       "      <td>Viet Nam</td>\n",
       "      <td>4061</td>\n",
       "      <td>9897</td>\n",
       "      <td>839</td>\n",
       "      <td>14780</td>\n",
       "      <td>98187000</td>\n",
       "      <td>0.000151</td>\n",
       "    </tr>\n",
       "    <tr>\n",
       "      <th>197</th>\n",
       "      <td>Western Sahara</td>\n",
       "      <td>7</td>\n",
       "      <td>45</td>\n",
       "      <td>1</td>\n",
       "      <td>54</td>\n",
       "      <td>576000</td>\n",
       "      <td>0.000094</td>\n",
       "    </tr>\n",
       "    <tr>\n",
       "      <th>198</th>\n",
       "      <td>Yemen</td>\n",
       "      <td>7109</td>\n",
       "      <td>8991</td>\n",
       "      <td>226</td>\n",
       "      <td>16313</td>\n",
       "      <td>33697000</td>\n",
       "      <td>0.000484</td>\n",
       "    </tr>\n",
       "    <tr>\n",
       "      <th>199</th>\n",
       "      <td>Zambia</td>\n",
       "      <td>2279</td>\n",
       "      <td>4908</td>\n",
       "      <td>113</td>\n",
       "      <td>7299</td>\n",
       "      <td>20018000</td>\n",
       "      <td>0.000365</td>\n",
       "    </tr>\n",
       "    <tr>\n",
       "      <th>200</th>\n",
       "      <td>Zimbabwe</td>\n",
       "      <td>1741</td>\n",
       "      <td>3167</td>\n",
       "      <td>95</td>\n",
       "      <td>5000</td>\n",
       "      <td>16321000</td>\n",
       "      <td>0.000306</td>\n",
       "    </tr>\n",
       "  </tbody>\n",
       "</table>\n",
       "<p>199 rows × 7 columns</p>\n",
       "</div>"
      ],
      "text/plain": [
       "                 country  age_less_than_20  age_20_59  age_more_than_60  \\\n",
       "0            Afghanistan              5487       4370               120   \n",
       "1                Albania               723       2790               898   \n",
       "2                Algeria             46642     103731             13423   \n",
       "3                 Angola              3946       8074               207   \n",
       "4    Antigua and Barbuda                26         87                13   \n",
       "..                   ...               ...        ...               ...   \n",
       "196             Viet Nam              4061       9897               839   \n",
       "197       Western Sahara                 7         45                 1   \n",
       "198                Yemen              7109       8991               226   \n",
       "199               Zambia              2279       4908               113   \n",
       "200             Zimbabwe              1741       3167                95   \n",
       "\n",
       "      total  population  prevalence  \n",
       "0      9964    41129000    0.000242  \n",
       "1      4406     2842000    0.001550  \n",
       "2    163767    44903000    0.003647  \n",
       "3     12237    35589000    0.000344  \n",
       "4       126       94000    0.001340  \n",
       "..      ...         ...         ...  \n",
       "196   14780    98187000    0.000151  \n",
       "197      54      576000    0.000094  \n",
       "198   16313    33697000    0.000484  \n",
       "199    7299    20018000    0.000365  \n",
       "200    5000    16321000    0.000306  \n",
       "\n",
       "[199 rows x 7 columns]"
      ]
     },
     "execution_count": 70,
     "metadata": {},
     "output_type": "execute_result"
    }
   ],
   "source": [
    "diabetes_cases_and_population"
   ]
  },
  {
   "cell_type": "markdown",
   "id": "348b33b1",
   "metadata": {},
   "source": [
    "### Saving as CSV"
   ]
  },
  {
   "cell_type": "code",
   "execution_count": 71,
   "id": "dc5cd3f9",
   "metadata": {},
   "outputs": [],
   "source": [
    "diabetes_cases_and_population.to_csv('DiabetesCasesPerCountry.csv',index=False)"
   ]
  },
  {
   "cell_type": "markdown",
   "id": "4beaa249",
   "metadata": {},
   "source": [
    "### Uploading to SQL server"
   ]
  },
  {
   "cell_type": "code",
   "execution_count": 98,
   "id": "be9950be",
   "metadata": {},
   "outputs": [],
   "source": [
    "#secret = 'password'"
   ]
  },
  {
   "cell_type": "code",
   "execution_count": 99,
   "id": "94bc0d6e",
   "metadata": {},
   "outputs": [],
   "source": [
    "conn = pg2.connect(database='diabetes_app',user='postgres',password=secret,port='5434')"
   ]
  },
  {
   "cell_type": "code",
   "execution_count": 100,
   "id": "8baa3f66",
   "metadata": {},
   "outputs": [],
   "source": [
    "cursor = conn.cursor()"
   ]
  },
  {
   "cell_type": "code",
   "execution_count": 101,
   "id": "bf0325c9",
   "metadata": {},
   "outputs": [],
   "source": [
    "cursor.execute('DROP TABLE IF EXISTS diabetes_cases_and_population;')"
   ]
  },
  {
   "cell_type": "code",
   "execution_count": 102,
   "id": "86c165bf",
   "metadata": {},
   "outputs": [],
   "source": [
    "create_query = 'CREATE TABLE diabetes_cases_and_population (country VARCHAR NOT NULL, total INT NOT NULL, population INT NOT NULL, prevalence DOUBLE PRECISION NOT NULL);'"
   ]
  },
  {
   "cell_type": "code",
   "execution_count": 103,
   "id": "2a475a16",
   "metadata": {},
   "outputs": [],
   "source": [
    "cursor.execute(create_query)"
   ]
  },
  {
   "cell_type": "code",
   "execution_count": 104,
   "id": "fb7ce5d4",
   "metadata": {},
   "outputs": [],
   "source": [
    "conn.commit()"
   ]
  },
  {
   "cell_type": "code",
   "execution_count": 105,
   "id": "093611e6",
   "metadata": {},
   "outputs": [],
   "source": [
    "insert_query = 'INSERT INTO diabetes_cases_and_population VALUES'"
   ]
  },
  {
   "cell_type": "code",
   "execution_count": 106,
   "id": "8b02cfa5",
   "metadata": {},
   "outputs": [
    {
     "data": {
      "text/plain": [
       "Index(['total', 'population', 'prevalence'], dtype='object')"
      ]
     },
     "execution_count": 106,
     "metadata": {},
     "output_type": "execute_result"
    }
   ],
   "source": [
    "num_cols = diabetes_cases_and_population.columns[-3:]\n",
    "num_cols"
   ]
  },
  {
   "cell_type": "code",
   "execution_count": 107,
   "id": "5b46a036",
   "metadata": {},
   "outputs": [],
   "source": [
    "for i in diabetes_cases_and_population.index:\n",
    "    insert_query = insert_query + '(' + \"'\" + diabetes_cases_and_population.loc[i,'country'] + \"'\" + ','\n",
    "    for c in num_cols:\n",
    "        insert_query = insert_query + str(diabetes_cases_and_population.loc[i,c]) + ','\n",
    "    insert_query = insert_query[:-1] + '),'\n",
    "    \n",
    "insert_query = insert_query[:-1] + ';'"
   ]
  },
  {
   "cell_type": "code",
   "execution_count": 108,
   "id": "20bbb83b",
   "metadata": {},
   "outputs": [
    {
     "data": {
      "text/plain": [
       "\"INSERT INTO diabetes_cases_and_population VALUES('Afghanistan',9964,41129000,0.000242),('Albania',4406,2842000,0.00155),('Algeria',163767,44903000,0.003647),('Angola',12237,35589000,0.000344),('Antigua and Barbuda',126,94000,0.00134),('Argentina',85529,45510000,0.001879),('Armenia',3649,2780000,0.001313),('Aruba',5,106000,4.7e-05),('Australia',126008,26177000,0.004814),('Austria',32475,8940000,0.003633),('Azerbaijan',9183,10358000,0.000887),('Bahamas',880,410000,0.002146),('Bahrain',2281,1472000,0.00155),('Bangladesh',24878,171186000,0.000145),('Barbados',624,282000,0.002213),('Belarus',16303,9535000,0.00171),('Belgium',42637,11656000,0.003658),('Belize',157,405000,0.000388),('Benin',3675,13353000,0.000275),('Bhutan',475,782000,0.000607),('Bolivia',2779,12224000,0.000227),('Bosnia and Herzegovina',6224,3234000,0.001925),('Botswana',946,2630000,0.00036),('Brazil',588800,215313000,0.002735),('Brunei Darussalam',98,449000,0.000218),('Bulgaria',23556,6782000,0.003473),('Burkina Faso',1146,22674000,5.1e-05),('Burundi',2135,12890000,0.000166),('Cambodia',2267,16768000,0.000135),('Cameroon',8188,27915000,0.000293),('Canada',285324,38454000,0.00742),('Cape Verde',291,593000,0.000491),('Central African Republic',211,5579000,3.8e-05),('Chad',690,17723000,3.9e-05),('Chile',36874,19604000,0.001881),('China',448480,1425887000,0.000315),('Colombia',18043,51874000,0.000348),('Comoros',316,837000,0.000378),('Costa Rica',2289,5181000,0.000442),('Croatia',14217,4030000,0.003528),('Cuba',9348,11212000,0.000834),('Curaçao',9,191000,4.7e-05),('Cyprus',4040,1251000,0.003229),('Czech Republic',44144,10494000,0.004207),('Democratic Republic of the Congo',18534,99010000,0.000187),('Denmark',32927,5882000,0.005598),('Djibouti',2090,1121000,0.001864),('Dominican Republic',1421,11229000,0.000127),('Ecuador',6007,18001000,0.000334),('Egypt',39133,110990000,0.000353),('El Salvador',1813,6336000,0.000286),('Equatorial Guinea',623,1675000,0.000372),('Eritrea',6468,3684000,0.001756),('Estonia',6426,1326000,0.004846),('Eswatini',413,1202000,0.000344),('Ethiopia',19998,123380000,0.000162),('Federated States of Micronesia',0,114000,0.0),('Fiji',121,930000,0.00013),('Finland',69685,5541000,0.012576),('France',202160,64627000,0.003128),('French Guiana',784,305000,0.00257),('French Polynesia',46,306000,0.00015),('Gabon',988,2389000,0.000414),('Gambia',138,2706000,5.1e-05),('Georgia',4483,3744000,0.001197),('Germany',431313,83370000,0.005173),('Ghana',10925,33476000,0.000326),('Greece',27104,10385000,0.00261),('Grenada',231,125000,0.001848),('Guadeloupe',807,396000,0.002038),('Guam',5,172000,2.9e-05),('Guatemala',6702,17844000,0.000376),('Guinea',748,13859000,5.4e-05),('Guinea-Bissau',97,2106000,4.6e-05),('Guyana',30,809000,3.7e-05),('Haiti',840,11585000,7.3e-05),('Honduras',3166,10433000,0.000303),('Hong Kong',4982,7489000,0.000665),('Hungary',37087,9967000,0.003721),('Iceland',1405,373000,0.003767),('India',860423,1417173000,0.000607),('Indonesia',41817,275501000,0.000152),('Iran',104230,88551000,0.001177),('Iraq',39875,44496000,0.000896),('Ireland',26412,5023000,0.005258),('Israel',23761,9038000,0.002629),('Italy',186755,59037000,0.003163),('Jamaica',2098,2827000,0.000742),('Japan',79226,123952000,0.000639),('Jordan',6344,11286000,0.000562),('Kazakhstan',5231,19398000,0.00027),('Kenya',23096,54027000,0.000427),('Kiribati',0,131000,0.0),('Kuwait',34544,4269000,0.008092),('Kyrgyzstan',1477,6631000,0.000223),('Laos',1038,7529000,0.000138),('Latvia',4872,1851000,0.002632),('Lebanon',4895,5490000,0.000892),('Lesotho',640,2306000,0.000278),('Liberia',302,5303000,5.7e-05),('Libya',24556,6812000,0.003605),('Lithuania',8822,2750000,0.003208),('Luxembourg',2447,648000,0.003776),('Macao',445,695000,0.00064),('Macedonia',3194,2094000,0.001525),('Madagascar',10732,29612000,0.000362),('Malawi',6534,20405000,0.00032),('Malaysia',7082,33938000,0.000209),('Maldives',456,524000,0.00087),('Mali',856,22594000,3.8e-05),('Malta',2499,533000,0.004689),('Martinique',781,368000,0.002122),('Mauritania',1838,4736000,0.000388),('Mauritius',802,1299000,0.000617),('Mayotte',133,326000,0.000408),('Mexico',89834,127504000,0.000705),('Moldova',6750,3273000,0.002062),('Mongolia',699,3398000,0.000206),('Montenegro',2201,627000,0.00351),('Morocco',124911,37458000,0.003335),('Mozambique',10346,32970000,0.000314),('Myanmar',6984,54179000,0.000129),('Namibia',1293,2567000,0.000504),('Nepal',18094,30548000,0.000592),('Netherlands',80220,17564000,0.004567),('New Caledonia',49,290000,0.000169),('New Zealand',18126,5185000,0.003496),('Nicaragua',2039,6948000,0.000293),('Niger',1179,26208000,4.5e-05),('Nigeria',51035,218541000,0.000234),('North Korea',10808,26069000,0.000415),('Norway',41344,5434000,0.007608),('Oman',6386,4576000,0.001396),('Pakistan',19851,235825000,8.4e-05),('Palestine',2489,5250000,0.000474),('Panama',1755,4409000,0.000398),('Papua New Guinea',142,10143000,1.4e-05),('Paraguay',1620,6781000,0.000239),('Peru',5798,34050000,0.00017),('Philippines',16443,115559000,0.000142),('Poland',119995,39857000,0.003011),('Portugal',38515,10271000,0.00375),('Puerto Rico',15384,3252000,0.004731),('Qatar',20340,2695000,0.007547),('Republic of Congo',1917,5970000,0.000321),('Réunion',415,974000,0.000426),('Romania',43174,19659000,0.002196),('Russia',336901,144713000,0.002328),('Rwanda',3651,13777000,0.000265),('Samoa',28,222000,0.000126),('Sao Tome and Principe',93,227000,0.00041),('Saudi Arabia',241348,36409000,0.006629),('Senegal',6245,17316000,0.000361),('Serbia',23377,7221000,0.003237),('Seychelles',60,107000,0.000561),('Sierra Leone',335,8606000,3.9e-05),('Singapore',6187,5976000,0.001035),('Slovakia',21545,5643000,0.003818),('Slovenia',6559,2120000,0.003094),('Solomon Islands',0,724000,0.0),('Somalia',21182,17598000,0.001204),('South Africa',31536,59894000,0.000527),('South Korea',35128,51816000,0.000678),('South Sudan',8261,10913000,0.000757),('Spain',206944,47559000,0.004351),('Sri Lanka',14094,21832000,0.000646),('St Lucia',373,180000,0.002072),('St Vincent and the Grenadines',229,104000,0.002202),('Sudan',50447,46874000,0.001076),('Suriname',28,618000,4.5e-05),('Sweden',99411,10549000,0.009424),('Switzerland',26642,8740000,0.003048),('Syria',7324,22125000,0.000331),('Taiwan',21802,23893000,0.000912),('Tajikistan',3581,9953000,0.00036),('Tanzania',22263,65498000,0.00034),('Thailand',11408,71697000,0.000159),('Timor L-Este',199,1341000,0.000148),('Togo',444,8849000,5e-05),('Tonga',14,107000,0.000131),('Trinidad and Tobago',2961,1531000,0.001934),('Tunisia',29959,12356000,0.002425),('Turkey',143396,85341000,0.00168),('Turkmenistan',8774,6431000,0.001364),('Uganda',16087,47250000,0.00034),('Ukraine',128701,39702000,0.003242),('United Arab Emirates',13263,9441000,0.001405),('United Kingdom',413042,67509000,0.006118),('United States',1447298,338290000,0.004278),('United States Virgin Islands',296,99000,0.00299),('Uruguay',10546,3423000,0.003081),('Uzbekistan',13215,34628000,0.000382),('Vanuatu',39,327000,0.000119),('Venezuela',1387,28302000,4.9e-05),('Viet Nam',14780,98187000,0.000151),('Western Sahara',54,576000,9.4e-05),('Yemen',16313,33697000,0.000484),('Zambia',7299,20018000,0.000365),('Zimbabwe',5000,16321000,0.000306);\""
      ]
     },
     "execution_count": 108,
     "metadata": {},
     "output_type": "execute_result"
    }
   ],
   "source": [
    "insert_query"
   ]
  },
  {
   "cell_type": "code",
   "execution_count": 109,
   "id": "2f58b021",
   "metadata": {},
   "outputs": [],
   "source": [
    "cursor.execute(insert_query)"
   ]
  },
  {
   "cell_type": "code",
   "execution_count": 110,
   "id": "a6e78fe2",
   "metadata": {},
   "outputs": [],
   "source": [
    "conn.commit()"
   ]
  },
  {
   "cell_type": "code",
   "execution_count": 111,
   "id": "045a0120",
   "metadata": {},
   "outputs": [],
   "source": [
    "conn.close()"
   ]
  },
  {
   "cell_type": "code",
   "execution_count": null,
   "id": "2f9379f8",
   "metadata": {},
   "outputs": [],
   "source": []
  }
 ],
 "metadata": {
  "kernelspec": {
   "display_name": "Python 3 (ipykernel)",
   "language": "python",
   "name": "python3"
  },
  "language_info": {
   "codemirror_mode": {
    "name": "ipython",
    "version": 3
   },
   "file_extension": ".py",
   "mimetype": "text/x-python",
   "name": "python",
   "nbconvert_exporter": "python",
   "pygments_lexer": "ipython3",
   "version": "3.9.15"
  }
 },
 "nbformat": 4,
 "nbformat_minor": 5
}
