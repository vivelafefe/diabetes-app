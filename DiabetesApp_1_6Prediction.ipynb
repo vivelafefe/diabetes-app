{
 "cells": [
  {
   "cell_type": "markdown",
   "id": "47c2a740",
   "metadata": {},
   "source": [
    "# Choosing a regression algorithm"
   ]
  },
  {
   "cell_type": "markdown",
   "id": "c2afe108",
   "metadata": {},
   "source": [
    "For the prediction of insulin delivery (Y-shID), three regression algorithms were tested: Linear Regression, Polynomial Regression and Elastic Net algorithm.<br>  \n",
    "\n",
    "The preparation of the data included converting it to dummy variables, scaling the data, and clustering using the previously chosen and tuned Agglomerative clustering algorithm. Then four clusters were randomly picked for testing: 1 - containing more than 8 rows, 2 - containing 8 rows, 3 - containing 5 rows and 4 - containing 3 rows. The four clusters were then transormed into X features and y labels. In the test, only five features were considered: pre-meal glucose (BG1), dietary value (DV), step count (SC), temperature (Temp) and humidity (Humid). The rest of the features were irrelevant as they remain the same throughout each cluster. The predictions were then visualised against the original train and test data.<br>\n",
    "\n",
    "After evaluating the accuracy and processing time of the three algorithms, two algorithms emerged as the top contenders. These algorithms were then compared in further detail until one was ultimately selected."
   ]
  },
  {
   "cell_type": "code",
   "execution_count": 1,
   "id": "102066de",
   "metadata": {},
   "outputs": [],
   "source": [
    "import pandas as pd\n",
    "import numpy as np\n",
    "import seaborn as sns\n",
    "import matplotlib.pyplot as plt\n",
    "from sklearn.preprocessing import MinMaxScaler\n",
    "from sklearn.cluster import AgglomerativeClustering\n",
    "from sklearn.linear_model import LinearRegression\n",
    "from sklearn.preprocessing import PolynomialFeatures\n",
    "from sklearn.linear_model import ElasticNetCV\n",
    "from sklearn.metrics import mean_absolute_error,mean_squared_error\n",
    "from sklearn.model_selection import train_test_split"
   ]
  },
  {
   "cell_type": "code",
   "execution_count": 2,
   "id": "3bc7faf0",
   "metadata": {},
   "outputs": [],
   "source": [
    "#Styles setup\n",
    "#Colors\n",
    "background = '#F0F0F0'\n",
    "red = '#ED462F'\n",
    "pink = '#F1BBB8'\n",
    "green = '#4CB866'\n",
    "blue = '#003D83'\n",
    "black = '#333333'\n",
    "grey = '#D0D9DC'\n",
    "white = 'white'\n",
    "\n",
    "#Matplotlib styling\n",
    "plt.rcParams['axes.facecolor'] = grey\n",
    "plt.rcParams['figure.facecolor'] = background\n",
    "plt.rcParams['font.family'] = 'monospace'\n",
    "plt.rcParams['xtick.color'] = background\n",
    "plt.rcParams['ytick.color'] = background\n",
    "plt.rcParams['xtick.labelcolor'] = '#8C9496'\n",
    "plt.rcParams['ytick.labelcolor'] = '#8C9496'\n",
    "plt.rcParams['legend.labelcolor'] = '#8C9496'\n",
    "plt.rcParams['legend.frameon'] = False\n",
    "plt.rcParams['grid.color'] = background\n",
    "plt.rcParams['axes.spines.left'] = False\n",
    "plt.rcParams['axes.spines.right'] = False\n",
    "plt.rcParams['axes.spines.top'] = False\n",
    "plt.rcParams['axes.spines.bottom'] = False\n",
    "plt.rcParams['axes.axisbelow'] = True"
   ]
  },
  {
   "cell_type": "markdown",
   "id": "66169dd7",
   "metadata": {},
   "source": [
    "## 1. Preparing data"
   ]
  },
  {
   "cell_type": "markdown",
   "id": "4f473f91",
   "metadata": {},
   "source": [
    "### Reading"
   ]
  },
  {
   "cell_type": "markdown",
   "id": "aec57345",
   "metadata": {},
   "source": [
    "After reading the CSV file, the Date and shID columns were dropped, as the date had no quantitative value and shID was estimated by the patient and thus irrelevant. The values in the Sport column were then converted to strings in order to prepare for further conversion into dummy variables."
   ]
  },
  {
   "cell_type": "code",
   "execution_count": 3,
   "id": "510e3f0f",
   "metadata": {},
   "outputs": [
    {
     "data": {
      "text/html": [
       "<div>\n",
       "<style scoped>\n",
       "    .dataframe tbody tr th:only-of-type {\n",
       "        vertical-align: middle;\n",
       "    }\n",
       "\n",
       "    .dataframe tbody tr th {\n",
       "        vertical-align: top;\n",
       "    }\n",
       "\n",
       "    .dataframe thead th {\n",
       "        text-align: right;\n",
       "    }\n",
       "</style>\n",
       "<table border=\"1\" class=\"dataframe\">\n",
       "  <thead>\n",
       "    <tr style=\"text-align: right;\">\n",
       "      <th></th>\n",
       "      <th>Interval</th>\n",
       "      <th>bID</th>\n",
       "      <th>BG1</th>\n",
       "      <th>BG2</th>\n",
       "      <th>DV</th>\n",
       "      <th>SC</th>\n",
       "      <th>Sport</th>\n",
       "      <th>Temp</th>\n",
       "      <th>Humid</th>\n",
       "      <th>Y-shID</th>\n",
       "    </tr>\n",
       "  </thead>\n",
       "  <tbody>\n",
       "    <tr>\n",
       "      <th>0</th>\n",
       "      <td>lunch-dinner</td>\n",
       "      <td>0.0</td>\n",
       "      <td>3.9</td>\n",
       "      <td>5.6</td>\n",
       "      <td>1.216</td>\n",
       "      <td>1473.0</td>\n",
       "      <td>False</td>\n",
       "      <td>-11.600000</td>\n",
       "      <td>54.030000</td>\n",
       "      <td>3.931915</td>\n",
       "    </tr>\n",
       "    <tr>\n",
       "      <th>1</th>\n",
       "      <td>dinner-breakfast</td>\n",
       "      <td>0.0</td>\n",
       "      <td>5.6</td>\n",
       "      <td>6.2</td>\n",
       "      <td>1.172</td>\n",
       "      <td>7649.0</td>\n",
       "      <td>False</td>\n",
       "      <td>-12.087879</td>\n",
       "      <td>52.386667</td>\n",
       "      <td>2.638298</td>\n",
       "    </tr>\n",
       "    <tr>\n",
       "      <th>2</th>\n",
       "      <td>breakfast-lunch</td>\n",
       "      <td>0.0</td>\n",
       "      <td>4.6</td>\n",
       "      <td>4.9</td>\n",
       "      <td>0.574</td>\n",
       "      <td>38.0</td>\n",
       "      <td>False</td>\n",
       "      <td>-18.900000</td>\n",
       "      <td>71.030000</td>\n",
       "      <td>3.648936</td>\n",
       "    </tr>\n",
       "    <tr>\n",
       "      <th>3</th>\n",
       "      <td>lunch-dinner</td>\n",
       "      <td>0.0</td>\n",
       "      <td>4.9</td>\n",
       "      <td>4.4</td>\n",
       "      <td>0.784</td>\n",
       "      <td>2516.0</td>\n",
       "      <td>False</td>\n",
       "      <td>-14.100000</td>\n",
       "      <td>56.385000</td>\n",
       "      <td>3.276596</td>\n",
       "    </tr>\n",
       "    <tr>\n",
       "      <th>4</th>\n",
       "      <td>dinner-breakfast</td>\n",
       "      <td>2.0</td>\n",
       "      <td>4.4</td>\n",
       "      <td>5.7</td>\n",
       "      <td>0.868</td>\n",
       "      <td>4627.0</td>\n",
       "      <td>False</td>\n",
       "      <td>-11.857143</td>\n",
       "      <td>54.900714</td>\n",
       "      <td>3.031915</td>\n",
       "    </tr>\n",
       "    <tr>\n",
       "      <th>...</th>\n",
       "      <td>...</td>\n",
       "      <td>...</td>\n",
       "      <td>...</td>\n",
       "      <td>...</td>\n",
       "      <td>...</td>\n",
       "      <td>...</td>\n",
       "      <td>...</td>\n",
       "      <td>...</td>\n",
       "      <td>...</td>\n",
       "      <td>...</td>\n",
       "    </tr>\n",
       "    <tr>\n",
       "      <th>385</th>\n",
       "      <td>breakfast-lunch</td>\n",
       "      <td>0.0</td>\n",
       "      <td>5.3</td>\n",
       "      <td>4.4</td>\n",
       "      <td>0.769</td>\n",
       "      <td>0.0</td>\n",
       "      <td>False</td>\n",
       "      <td>5.066667</td>\n",
       "      <td>85.370000</td>\n",
       "      <td>2.808511</td>\n",
       "    </tr>\n",
       "    <tr>\n",
       "      <th>386</th>\n",
       "      <td>dinner-breakfast</td>\n",
       "      <td>1.0</td>\n",
       "      <td>4.0</td>\n",
       "      <td>6.1</td>\n",
       "      <td>0.812</td>\n",
       "      <td>11.0</td>\n",
       "      <td>False</td>\n",
       "      <td>11.450000</td>\n",
       "      <td>51.975000</td>\n",
       "      <td>3.893617</td>\n",
       "    </tr>\n",
       "    <tr>\n",
       "      <th>387</th>\n",
       "      <td>lunch-dinner</td>\n",
       "      <td>0.0</td>\n",
       "      <td>5.0</td>\n",
       "      <td>3.7</td>\n",
       "      <td>0.900</td>\n",
       "      <td>5924.0</td>\n",
       "      <td>False</td>\n",
       "      <td>10.800000</td>\n",
       "      <td>58.256667</td>\n",
       "      <td>2.361702</td>\n",
       "    </tr>\n",
       "    <tr>\n",
       "      <th>388</th>\n",
       "      <td>dinner-breakfast</td>\n",
       "      <td>0.0</td>\n",
       "      <td>3.7</td>\n",
       "      <td>4.8</td>\n",
       "      <td>0.366</td>\n",
       "      <td>0.0</td>\n",
       "      <td>False</td>\n",
       "      <td>9.100000</td>\n",
       "      <td>59.300000</td>\n",
       "      <td>3.063830</td>\n",
       "    </tr>\n",
       "    <tr>\n",
       "      <th>389</th>\n",
       "      <td>breakfast-lunch</td>\n",
       "      <td>0.0</td>\n",
       "      <td>6.3</td>\n",
       "      <td>4.7</td>\n",
       "      <td>0.386</td>\n",
       "      <td>7103.0</td>\n",
       "      <td>False</td>\n",
       "      <td>23.500000</td>\n",
       "      <td>45.370000</td>\n",
       "      <td>3.500000</td>\n",
       "    </tr>\n",
       "  </tbody>\n",
       "</table>\n",
       "<p>390 rows × 10 columns</p>\n",
       "</div>"
      ],
      "text/plain": [
       "             Interval  bID  BG1  BG2     DV      SC  Sport       Temp  \\\n",
       "0        lunch-dinner  0.0  3.9  5.6  1.216  1473.0  False -11.600000   \n",
       "1    dinner-breakfast  0.0  5.6  6.2  1.172  7649.0  False -12.087879   \n",
       "2     breakfast-lunch  0.0  4.6  4.9  0.574    38.0  False -18.900000   \n",
       "3        lunch-dinner  0.0  4.9  4.4  0.784  2516.0  False -14.100000   \n",
       "4    dinner-breakfast  2.0  4.4  5.7  0.868  4627.0  False -11.857143   \n",
       "..                ...  ...  ...  ...    ...     ...    ...        ...   \n",
       "385   breakfast-lunch  0.0  5.3  4.4  0.769     0.0  False   5.066667   \n",
       "386  dinner-breakfast  1.0  4.0  6.1  0.812    11.0  False  11.450000   \n",
       "387      lunch-dinner  0.0  5.0  3.7  0.900  5924.0  False  10.800000   \n",
       "388  dinner-breakfast  0.0  3.7  4.8  0.366     0.0  False   9.100000   \n",
       "389   breakfast-lunch  0.0  6.3  4.7  0.386  7103.0  False  23.500000   \n",
       "\n",
       "         Humid    Y-shID  \n",
       "0    54.030000  3.931915  \n",
       "1    52.386667  2.638298  \n",
       "2    71.030000  3.648936  \n",
       "3    56.385000  3.276596  \n",
       "4    54.900714  3.031915  \n",
       "..         ...       ...  \n",
       "385  85.370000  2.808511  \n",
       "386  51.975000  3.893617  \n",
       "387  58.256667  2.361702  \n",
       "388  59.300000  3.063830  \n",
       "389  45.370000  3.500000  \n",
       "\n",
       "[390 rows x 10 columns]"
      ]
     },
     "execution_count": 3,
     "metadata": {},
     "output_type": "execute_result"
    }
   ],
   "source": [
    "df = pd.read_csv('FullData_preprocessed.csv')\n",
    "df = df.drop(['Date','shID'], axis=1)\n",
    "df['Sport'] = df['Sport'].astype(str)\n",
    "df"
   ]
  },
  {
   "cell_type": "markdown",
   "id": "7b51dd08",
   "metadata": {},
   "source": [
    "### Converting to dummies"
   ]
  },
  {
   "cell_type": "code",
   "execution_count": 4,
   "id": "b138f988",
   "metadata": {},
   "outputs": [
    {
     "data": {
      "text/html": [
       "<div>\n",
       "<style scoped>\n",
       "    .dataframe tbody tr th:only-of-type {\n",
       "        vertical-align: middle;\n",
       "    }\n",
       "\n",
       "    .dataframe tbody tr th {\n",
       "        vertical-align: top;\n",
       "    }\n",
       "\n",
       "    .dataframe thead th {\n",
       "        text-align: right;\n",
       "    }\n",
       "</style>\n",
       "<table border=\"1\" class=\"dataframe\">\n",
       "  <thead>\n",
       "    <tr style=\"text-align: right;\">\n",
       "      <th></th>\n",
       "      <th>bID</th>\n",
       "      <th>BG1</th>\n",
       "      <th>BG2</th>\n",
       "      <th>DV</th>\n",
       "      <th>SC</th>\n",
       "      <th>Temp</th>\n",
       "      <th>Humid</th>\n",
       "      <th>Y-shID</th>\n",
       "      <th>Interval_breakfast-lunch</th>\n",
       "      <th>Interval_dinner-breakfast</th>\n",
       "      <th>Interval_lunch-dinner</th>\n",
       "      <th>Sport_False</th>\n",
       "      <th>Sport_True</th>\n",
       "    </tr>\n",
       "  </thead>\n",
       "  <tbody>\n",
       "    <tr>\n",
       "      <th>0</th>\n",
       "      <td>0.0</td>\n",
       "      <td>3.9</td>\n",
       "      <td>5.6</td>\n",
       "      <td>1.216</td>\n",
       "      <td>1473.0</td>\n",
       "      <td>-11.600000</td>\n",
       "      <td>54.030000</td>\n",
       "      <td>3.931915</td>\n",
       "      <td>0</td>\n",
       "      <td>0</td>\n",
       "      <td>1</td>\n",
       "      <td>1</td>\n",
       "      <td>0</td>\n",
       "    </tr>\n",
       "    <tr>\n",
       "      <th>1</th>\n",
       "      <td>0.0</td>\n",
       "      <td>5.6</td>\n",
       "      <td>6.2</td>\n",
       "      <td>1.172</td>\n",
       "      <td>7649.0</td>\n",
       "      <td>-12.087879</td>\n",
       "      <td>52.386667</td>\n",
       "      <td>2.638298</td>\n",
       "      <td>0</td>\n",
       "      <td>1</td>\n",
       "      <td>0</td>\n",
       "      <td>1</td>\n",
       "      <td>0</td>\n",
       "    </tr>\n",
       "    <tr>\n",
       "      <th>2</th>\n",
       "      <td>0.0</td>\n",
       "      <td>4.6</td>\n",
       "      <td>4.9</td>\n",
       "      <td>0.574</td>\n",
       "      <td>38.0</td>\n",
       "      <td>-18.900000</td>\n",
       "      <td>71.030000</td>\n",
       "      <td>3.648936</td>\n",
       "      <td>1</td>\n",
       "      <td>0</td>\n",
       "      <td>0</td>\n",
       "      <td>1</td>\n",
       "      <td>0</td>\n",
       "    </tr>\n",
       "    <tr>\n",
       "      <th>3</th>\n",
       "      <td>0.0</td>\n",
       "      <td>4.9</td>\n",
       "      <td>4.4</td>\n",
       "      <td>0.784</td>\n",
       "      <td>2516.0</td>\n",
       "      <td>-14.100000</td>\n",
       "      <td>56.385000</td>\n",
       "      <td>3.276596</td>\n",
       "      <td>0</td>\n",
       "      <td>0</td>\n",
       "      <td>1</td>\n",
       "      <td>1</td>\n",
       "      <td>0</td>\n",
       "    </tr>\n",
       "    <tr>\n",
       "      <th>4</th>\n",
       "      <td>2.0</td>\n",
       "      <td>4.4</td>\n",
       "      <td>5.7</td>\n",
       "      <td>0.868</td>\n",
       "      <td>4627.0</td>\n",
       "      <td>-11.857143</td>\n",
       "      <td>54.900714</td>\n",
       "      <td>3.031915</td>\n",
       "      <td>0</td>\n",
       "      <td>1</td>\n",
       "      <td>0</td>\n",
       "      <td>1</td>\n",
       "      <td>0</td>\n",
       "    </tr>\n",
       "    <tr>\n",
       "      <th>...</th>\n",
       "      <td>...</td>\n",
       "      <td>...</td>\n",
       "      <td>...</td>\n",
       "      <td>...</td>\n",
       "      <td>...</td>\n",
       "      <td>...</td>\n",
       "      <td>...</td>\n",
       "      <td>...</td>\n",
       "      <td>...</td>\n",
       "      <td>...</td>\n",
       "      <td>...</td>\n",
       "      <td>...</td>\n",
       "      <td>...</td>\n",
       "    </tr>\n",
       "    <tr>\n",
       "      <th>385</th>\n",
       "      <td>0.0</td>\n",
       "      <td>5.3</td>\n",
       "      <td>4.4</td>\n",
       "      <td>0.769</td>\n",
       "      <td>0.0</td>\n",
       "      <td>5.066667</td>\n",
       "      <td>85.370000</td>\n",
       "      <td>2.808511</td>\n",
       "      <td>1</td>\n",
       "      <td>0</td>\n",
       "      <td>0</td>\n",
       "      <td>1</td>\n",
       "      <td>0</td>\n",
       "    </tr>\n",
       "    <tr>\n",
       "      <th>386</th>\n",
       "      <td>1.0</td>\n",
       "      <td>4.0</td>\n",
       "      <td>6.1</td>\n",
       "      <td>0.812</td>\n",
       "      <td>11.0</td>\n",
       "      <td>11.450000</td>\n",
       "      <td>51.975000</td>\n",
       "      <td>3.893617</td>\n",
       "      <td>0</td>\n",
       "      <td>1</td>\n",
       "      <td>0</td>\n",
       "      <td>1</td>\n",
       "      <td>0</td>\n",
       "    </tr>\n",
       "    <tr>\n",
       "      <th>387</th>\n",
       "      <td>0.0</td>\n",
       "      <td>5.0</td>\n",
       "      <td>3.7</td>\n",
       "      <td>0.900</td>\n",
       "      <td>5924.0</td>\n",
       "      <td>10.800000</td>\n",
       "      <td>58.256667</td>\n",
       "      <td>2.361702</td>\n",
       "      <td>0</td>\n",
       "      <td>0</td>\n",
       "      <td>1</td>\n",
       "      <td>1</td>\n",
       "      <td>0</td>\n",
       "    </tr>\n",
       "    <tr>\n",
       "      <th>388</th>\n",
       "      <td>0.0</td>\n",
       "      <td>3.7</td>\n",
       "      <td>4.8</td>\n",
       "      <td>0.366</td>\n",
       "      <td>0.0</td>\n",
       "      <td>9.100000</td>\n",
       "      <td>59.300000</td>\n",
       "      <td>3.063830</td>\n",
       "      <td>0</td>\n",
       "      <td>1</td>\n",
       "      <td>0</td>\n",
       "      <td>1</td>\n",
       "      <td>0</td>\n",
       "    </tr>\n",
       "    <tr>\n",
       "      <th>389</th>\n",
       "      <td>0.0</td>\n",
       "      <td>6.3</td>\n",
       "      <td>4.7</td>\n",
       "      <td>0.386</td>\n",
       "      <td>7103.0</td>\n",
       "      <td>23.500000</td>\n",
       "      <td>45.370000</td>\n",
       "      <td>3.500000</td>\n",
       "      <td>1</td>\n",
       "      <td>0</td>\n",
       "      <td>0</td>\n",
       "      <td>1</td>\n",
       "      <td>0</td>\n",
       "    </tr>\n",
       "  </tbody>\n",
       "</table>\n",
       "<p>390 rows × 13 columns</p>\n",
       "</div>"
      ],
      "text/plain": [
       "     bID  BG1  BG2     DV      SC       Temp      Humid    Y-shID  \\\n",
       "0    0.0  3.9  5.6  1.216  1473.0 -11.600000  54.030000  3.931915   \n",
       "1    0.0  5.6  6.2  1.172  7649.0 -12.087879  52.386667  2.638298   \n",
       "2    0.0  4.6  4.9  0.574    38.0 -18.900000  71.030000  3.648936   \n",
       "3    0.0  4.9  4.4  0.784  2516.0 -14.100000  56.385000  3.276596   \n",
       "4    2.0  4.4  5.7  0.868  4627.0 -11.857143  54.900714  3.031915   \n",
       "..   ...  ...  ...    ...     ...        ...        ...       ...   \n",
       "385  0.0  5.3  4.4  0.769     0.0   5.066667  85.370000  2.808511   \n",
       "386  1.0  4.0  6.1  0.812    11.0  11.450000  51.975000  3.893617   \n",
       "387  0.0  5.0  3.7  0.900  5924.0  10.800000  58.256667  2.361702   \n",
       "388  0.0  3.7  4.8  0.366     0.0   9.100000  59.300000  3.063830   \n",
       "389  0.0  6.3  4.7  0.386  7103.0  23.500000  45.370000  3.500000   \n",
       "\n",
       "     Interval_breakfast-lunch  Interval_dinner-breakfast  \\\n",
       "0                           0                          0   \n",
       "1                           0                          1   \n",
       "2                           1                          0   \n",
       "3                           0                          0   \n",
       "4                           0                          1   \n",
       "..                        ...                        ...   \n",
       "385                         1                          0   \n",
       "386                         0                          1   \n",
       "387                         0                          0   \n",
       "388                         0                          1   \n",
       "389                         1                          0   \n",
       "\n",
       "     Interval_lunch-dinner  Sport_False  Sport_True  \n",
       "0                        1            1           0  \n",
       "1                        0            1           0  \n",
       "2                        0            1           0  \n",
       "3                        1            1           0  \n",
       "4                        0            1           0  \n",
       "..                     ...          ...         ...  \n",
       "385                      0            1           0  \n",
       "386                      0            1           0  \n",
       "387                      1            1           0  \n",
       "388                      0            1           0  \n",
       "389                      0            1           0  \n",
       "\n",
       "[390 rows x 13 columns]"
      ]
     },
     "execution_count": 4,
     "metadata": {},
     "output_type": "execute_result"
    }
   ],
   "source": [
    "X = pd.get_dummies(df)\n",
    "X"
   ]
  },
  {
   "cell_type": "markdown",
   "id": "a0ac47a2",
   "metadata": {},
   "source": [
    "### Scaling"
   ]
  },
  {
   "cell_type": "markdown",
   "id": "c997c312",
   "metadata": {},
   "source": [
    "For normalizing the temperature data, which contained negative values, the MinMaxScaler was used."
   ]
  },
  {
   "cell_type": "code",
   "execution_count": 5,
   "id": "2bd8b7fa",
   "metadata": {},
   "outputs": [
    {
     "data": {
      "text/plain": [
       "array([[0.        , 0.19607843, 0.40277778, ..., 1.        , 1.        ,\n",
       "        0.        ],\n",
       "       [0.        , 0.52941176, 0.48611111, ..., 0.        , 1.        ,\n",
       "        0.        ],\n",
       "       [0.        , 0.33333333, 0.30555556, ..., 0.        , 1.        ,\n",
       "        0.        ],\n",
       "       ...,\n",
       "       [0.        , 0.41176471, 0.13888889, ..., 1.        , 1.        ,\n",
       "        0.        ],\n",
       "       [0.        , 0.15686275, 0.29166667, ..., 0.        , 1.        ,\n",
       "        0.        ],\n",
       "       [0.        , 0.66666667, 0.27777778, ..., 0.        , 1.        ,\n",
       "        0.        ]])"
      ]
     },
     "execution_count": 5,
     "metadata": {},
     "output_type": "execute_result"
    }
   ],
   "source": [
    "scaler = MinMaxScaler()\n",
    "scaled_X = scaler.fit_transform(X)\n",
    "scaled_X "
   ]
  },
  {
   "cell_type": "markdown",
   "id": "901be893",
   "metadata": {},
   "source": [
    "### Clustering"
   ]
  },
  {
   "cell_type": "markdown",
   "id": "65f74cc7",
   "metadata": {},
   "source": [
    "The data was scaled using previously chosen and tuned Agglomerative Clustering algorithm."
   ]
  },
  {
   "cell_type": "code",
   "execution_count": 6,
   "id": "e521540a",
   "metadata": {},
   "outputs": [],
   "source": [
    "model = AgglomerativeClustering(n_clusters=None,linkage='ward',distance_threshold=0.6)\n",
    "cluster_labels = model.fit_predict(scaled_X)"
   ]
  },
  {
   "cell_type": "code",
   "execution_count": 7,
   "id": "33bdf32d",
   "metadata": {},
   "outputs": [
    {
     "data": {
      "text/html": [
       "<div>\n",
       "<style scoped>\n",
       "    .dataframe tbody tr th:only-of-type {\n",
       "        vertical-align: middle;\n",
       "    }\n",
       "\n",
       "    .dataframe tbody tr th {\n",
       "        vertical-align: top;\n",
       "    }\n",
       "\n",
       "    .dataframe thead th {\n",
       "        text-align: right;\n",
       "    }\n",
       "</style>\n",
       "<table border=\"1\" class=\"dataframe\">\n",
       "  <thead>\n",
       "    <tr style=\"text-align: right;\">\n",
       "      <th></th>\n",
       "      <th>bID</th>\n",
       "      <th>BG1</th>\n",
       "      <th>BG2</th>\n",
       "      <th>DV</th>\n",
       "      <th>SC</th>\n",
       "      <th>Temp</th>\n",
       "      <th>Humid</th>\n",
       "      <th>Y-shID</th>\n",
       "      <th>Interval_breakfast-lunch</th>\n",
       "      <th>Interval_dinner-breakfast</th>\n",
       "      <th>Interval_lunch-dinner</th>\n",
       "      <th>Sport_False</th>\n",
       "      <th>Sport_True</th>\n",
       "    </tr>\n",
       "  </thead>\n",
       "  <tbody>\n",
       "    <tr>\n",
       "      <th>0</th>\n",
       "      <td>0.000000</td>\n",
       "      <td>0.196078</td>\n",
       "      <td>0.402778</td>\n",
       "      <td>0.317711</td>\n",
       "      <td>0.121515</td>\n",
       "      <td>0.218052</td>\n",
       "      <td>0.506230</td>\n",
       "      <td>0.467425</td>\n",
       "      <td>0.0</td>\n",
       "      <td>0.0</td>\n",
       "      <td>1.0</td>\n",
       "      <td>1.0</td>\n",
       "      <td>0.0</td>\n",
       "    </tr>\n",
       "    <tr>\n",
       "      <th>1</th>\n",
       "      <td>0.000000</td>\n",
       "      <td>0.529412</td>\n",
       "      <td>0.486111</td>\n",
       "      <td>0.305722</td>\n",
       "      <td>0.631001</td>\n",
       "      <td>0.208582</td>\n",
       "      <td>0.488579</td>\n",
       "      <td>0.294452</td>\n",
       "      <td>0.0</td>\n",
       "      <td>1.0</td>\n",
       "      <td>0.0</td>\n",
       "      <td>1.0</td>\n",
       "      <td>0.0</td>\n",
       "    </tr>\n",
       "    <tr>\n",
       "      <th>2</th>\n",
       "      <td>0.000000</td>\n",
       "      <td>0.333333</td>\n",
       "      <td>0.305556</td>\n",
       "      <td>0.142779</td>\n",
       "      <td>0.003135</td>\n",
       "      <td>0.076351</td>\n",
       "      <td>0.688829</td>\n",
       "      <td>0.429587</td>\n",
       "      <td>1.0</td>\n",
       "      <td>0.0</td>\n",
       "      <td>0.0</td>\n",
       "      <td>1.0</td>\n",
       "      <td>0.0</td>\n",
       "    </tr>\n",
       "    <tr>\n",
       "      <th>3</th>\n",
       "      <td>0.000000</td>\n",
       "      <td>0.392157</td>\n",
       "      <td>0.236111</td>\n",
       "      <td>0.200000</td>\n",
       "      <td>0.207557</td>\n",
       "      <td>0.169524</td>\n",
       "      <td>0.531525</td>\n",
       "      <td>0.379801</td>\n",
       "      <td>0.0</td>\n",
       "      <td>0.0</td>\n",
       "      <td>1.0</td>\n",
       "      <td>1.0</td>\n",
       "      <td>0.0</td>\n",
       "    </tr>\n",
       "    <tr>\n",
       "      <th>4</th>\n",
       "      <td>0.333333</td>\n",
       "      <td>0.294118</td>\n",
       "      <td>0.416667</td>\n",
       "      <td>0.222888</td>\n",
       "      <td>0.381703</td>\n",
       "      <td>0.213061</td>\n",
       "      <td>0.515582</td>\n",
       "      <td>0.347084</td>\n",
       "      <td>0.0</td>\n",
       "      <td>1.0</td>\n",
       "      <td>0.0</td>\n",
       "      <td>1.0</td>\n",
       "      <td>0.0</td>\n",
       "    </tr>\n",
       "    <tr>\n",
       "      <th>...</th>\n",
       "      <td>...</td>\n",
       "      <td>...</td>\n",
       "      <td>...</td>\n",
       "      <td>...</td>\n",
       "      <td>...</td>\n",
       "      <td>...</td>\n",
       "      <td>...</td>\n",
       "      <td>...</td>\n",
       "      <td>...</td>\n",
       "      <td>...</td>\n",
       "      <td>...</td>\n",
       "      <td>...</td>\n",
       "      <td>...</td>\n",
       "    </tr>\n",
       "    <tr>\n",
       "      <th>385</th>\n",
       "      <td>0.000000</td>\n",
       "      <td>0.470588</td>\n",
       "      <td>0.236111</td>\n",
       "      <td>0.195913</td>\n",
       "      <td>0.000000</td>\n",
       "      <td>0.541572</td>\n",
       "      <td>0.842857</td>\n",
       "      <td>0.317212</td>\n",
       "      <td>1.0</td>\n",
       "      <td>0.0</td>\n",
       "      <td>0.0</td>\n",
       "      <td>1.0</td>\n",
       "      <td>0.0</td>\n",
       "    </tr>\n",
       "    <tr>\n",
       "      <th>386</th>\n",
       "      <td>0.166667</td>\n",
       "      <td>0.215686</td>\n",
       "      <td>0.472222</td>\n",
       "      <td>0.207629</td>\n",
       "      <td>0.000907</td>\n",
       "      <td>0.665480</td>\n",
       "      <td>0.484157</td>\n",
       "      <td>0.462304</td>\n",
       "      <td>0.0</td>\n",
       "      <td>1.0</td>\n",
       "      <td>0.0</td>\n",
       "      <td>1.0</td>\n",
       "      <td>0.0</td>\n",
       "    </tr>\n",
       "    <tr>\n",
       "      <th>387</th>\n",
       "      <td>0.000000</td>\n",
       "      <td>0.411765</td>\n",
       "      <td>0.138889</td>\n",
       "      <td>0.231608</td>\n",
       "      <td>0.488698</td>\n",
       "      <td>0.652863</td>\n",
       "      <td>0.551629</td>\n",
       "      <td>0.257468</td>\n",
       "      <td>0.0</td>\n",
       "      <td>0.0</td>\n",
       "      <td>1.0</td>\n",
       "      <td>1.0</td>\n",
       "      <td>0.0</td>\n",
       "    </tr>\n",
       "    <tr>\n",
       "      <th>388</th>\n",
       "      <td>0.000000</td>\n",
       "      <td>0.156863</td>\n",
       "      <td>0.291667</td>\n",
       "      <td>0.086104</td>\n",
       "      <td>0.000000</td>\n",
       "      <td>0.619864</td>\n",
       "      <td>0.562836</td>\n",
       "      <td>0.351351</td>\n",
       "      <td>0.0</td>\n",
       "      <td>1.0</td>\n",
       "      <td>0.0</td>\n",
       "      <td>1.0</td>\n",
       "      <td>0.0</td>\n",
       "    </tr>\n",
       "    <tr>\n",
       "      <th>389</th>\n",
       "      <td>0.000000</td>\n",
       "      <td>0.666667</td>\n",
       "      <td>0.277778</td>\n",
       "      <td>0.091553</td>\n",
       "      <td>0.585959</td>\n",
       "      <td>0.899385</td>\n",
       "      <td>0.413212</td>\n",
       "      <td>0.409673</td>\n",
       "      <td>1.0</td>\n",
       "      <td>0.0</td>\n",
       "      <td>0.0</td>\n",
       "      <td>1.0</td>\n",
       "      <td>0.0</td>\n",
       "    </tr>\n",
       "  </tbody>\n",
       "</table>\n",
       "<p>390 rows × 13 columns</p>\n",
       "</div>"
      ],
      "text/plain": [
       "          bID       BG1       BG2        DV        SC      Temp     Humid  \\\n",
       "0    0.000000  0.196078  0.402778  0.317711  0.121515  0.218052  0.506230   \n",
       "1    0.000000  0.529412  0.486111  0.305722  0.631001  0.208582  0.488579   \n",
       "2    0.000000  0.333333  0.305556  0.142779  0.003135  0.076351  0.688829   \n",
       "3    0.000000  0.392157  0.236111  0.200000  0.207557  0.169524  0.531525   \n",
       "4    0.333333  0.294118  0.416667  0.222888  0.381703  0.213061  0.515582   \n",
       "..        ...       ...       ...       ...       ...       ...       ...   \n",
       "385  0.000000  0.470588  0.236111  0.195913  0.000000  0.541572  0.842857   \n",
       "386  0.166667  0.215686  0.472222  0.207629  0.000907  0.665480  0.484157   \n",
       "387  0.000000  0.411765  0.138889  0.231608  0.488698  0.652863  0.551629   \n",
       "388  0.000000  0.156863  0.291667  0.086104  0.000000  0.619864  0.562836   \n",
       "389  0.000000  0.666667  0.277778  0.091553  0.585959  0.899385  0.413212   \n",
       "\n",
       "       Y-shID  Interval_breakfast-lunch  Interval_dinner-breakfast  \\\n",
       "0    0.467425                       0.0                        0.0   \n",
       "1    0.294452                       0.0                        1.0   \n",
       "2    0.429587                       1.0                        0.0   \n",
       "3    0.379801                       0.0                        0.0   \n",
       "4    0.347084                       0.0                        1.0   \n",
       "..        ...                       ...                        ...   \n",
       "385  0.317212                       1.0                        0.0   \n",
       "386  0.462304                       0.0                        1.0   \n",
       "387  0.257468                       0.0                        0.0   \n",
       "388  0.351351                       0.0                        1.0   \n",
       "389  0.409673                       1.0                        0.0   \n",
       "\n",
       "     Interval_lunch-dinner  Sport_False  Sport_True  \n",
       "0                      1.0          1.0         0.0  \n",
       "1                      0.0          1.0         0.0  \n",
       "2                      0.0          1.0         0.0  \n",
       "3                      1.0          1.0         0.0  \n",
       "4                      0.0          1.0         0.0  \n",
       "..                     ...          ...         ...  \n",
       "385                    0.0          1.0         0.0  \n",
       "386                    0.0          1.0         0.0  \n",
       "387                    1.0          1.0         0.0  \n",
       "388                    0.0          1.0         0.0  \n",
       "389                    0.0          1.0         0.0  \n",
       "\n",
       "[390 rows x 13 columns]"
      ]
     },
     "execution_count": 7,
     "metadata": {},
     "output_type": "execute_result"
    }
   ],
   "source": [
    "scaled_df = pd.DataFrame(scaled_X,columns=X.columns)\n",
    "scaled_df"
   ]
  },
  {
   "cell_type": "code",
   "execution_count": 8,
   "id": "c0e4a539",
   "metadata": {},
   "outputs": [],
   "source": [
    "scaled_df['Cluster'] = cluster_labels"
   ]
  },
  {
   "cell_type": "markdown",
   "id": "187472e6",
   "metadata": {},
   "source": [
    "### Selecting clusters"
   ]
  },
  {
   "cell_type": "markdown",
   "id": "66099077",
   "metadata": {},
   "source": [
    "Four clusters were randomly selected for further testing."
   ]
  },
  {
   "cell_type": "code",
   "execution_count": 9,
   "id": "4458f5c2",
   "metadata": {},
   "outputs": [
    {
     "data": {
      "text/plain": [
       "(array([22, 74]),)"
      ]
     },
     "execution_count": 9,
     "metadata": {},
     "output_type": "execute_result"
    }
   ],
   "source": [
    "np.where(scaled_df.groupby('Cluster').count()['bID']>8)"
   ]
  },
  {
   "cell_type": "code",
   "execution_count": 64,
   "id": "867a0d75",
   "metadata": {},
   "outputs": [
    {
     "data": {
      "text/plain": [
       "(array([ 0, 13, 39]),)"
      ]
     },
     "execution_count": 64,
     "metadata": {},
     "output_type": "execute_result"
    }
   ],
   "source": [
    "np.where(scaled_df.groupby('Cluster').count()['bID']==8)"
   ]
  },
  {
   "cell_type": "code",
   "execution_count": 10,
   "id": "d69fa798",
   "metadata": {},
   "outputs": [
    {
     "data": {
      "text/plain": [
       "(array([ 3, 15, 18, 31, 43, 44, 46, 48, 49, 50, 56, 59, 60, 63, 88, 94]),)"
      ]
     },
     "execution_count": 10,
     "metadata": {},
     "output_type": "execute_result"
    }
   ],
   "source": [
    "np.where(scaled_df.groupby('Cluster').count()['bID']==5)"
   ]
  },
  {
   "cell_type": "code",
   "execution_count": 11,
   "id": "d120b705",
   "metadata": {},
   "outputs": [
    {
     "data": {
      "text/plain": [
       "(array([  1,   8,  17,  23,  24,  25,  26,  27,  29,  33,  34,  35,  36,\n",
       "         37,  42,  61,  62,  70,  72,  73,  75,  90,  97, 110]),)"
      ]
     },
     "execution_count": 11,
     "metadata": {},
     "output_type": "execute_result"
    }
   ],
   "source": [
    "np.where(scaled_df.groupby('Cluster').count()['bID']==3)"
   ]
  },
  {
   "cell_type": "code",
   "execution_count": 65,
   "id": "e6f9566b",
   "metadata": {},
   "outputs": [],
   "source": [
    "scaled_df_1 = scaled_df[scaled_df['Cluster']==22]"
   ]
  },
  {
   "cell_type": "code",
   "execution_count": 66,
   "id": "7090d059",
   "metadata": {},
   "outputs": [],
   "source": [
    "scaled_df_2 = scaled_df[scaled_df['Cluster']==39]"
   ]
  },
  {
   "cell_type": "code",
   "execution_count": 67,
   "id": "9336e53c",
   "metadata": {},
   "outputs": [],
   "source": [
    "scaled_df_3 = scaled_df[scaled_df['Cluster']==44]"
   ]
  },
  {
   "cell_type": "code",
   "execution_count": 68,
   "id": "46914df2",
   "metadata": {},
   "outputs": [],
   "source": [
    "scaled_df_4 = scaled_df[scaled_df['Cluster']==33]"
   ]
  },
  {
   "cell_type": "markdown",
   "id": "084f5afe",
   "metadata": {},
   "source": [
    "### Transforming into X features and y label"
   ]
  },
  {
   "cell_type": "code",
   "execution_count": 69,
   "id": "9e099fe6",
   "metadata": {},
   "outputs": [],
   "source": [
    "X_1 = scaled_df_1[['BG1','DV','SC','Temp','Humid']]\n",
    "y_1 = scaled_df_1['Y-shID']"
   ]
  },
  {
   "cell_type": "code",
   "execution_count": 70,
   "id": "bd3ea1b5",
   "metadata": {},
   "outputs": [],
   "source": [
    "X_2 = scaled_df_2[['BG1','DV','SC','Temp','Humid']]\n",
    "y_2 = scaled_df_2['Y-shID']"
   ]
  },
  {
   "cell_type": "code",
   "execution_count": 71,
   "id": "53a9fe24",
   "metadata": {},
   "outputs": [],
   "source": [
    "X_3 = scaled_df_3[['BG1','DV','SC','Temp','Humid']]\n",
    "y_3 = scaled_df_3['Y-shID']"
   ]
  },
  {
   "cell_type": "code",
   "execution_count": 72,
   "id": "585b35c1",
   "metadata": {},
   "outputs": [],
   "source": [
    "X_4 = scaled_df_4[['BG1','DV','SC','Temp','Humid']]\n",
    "y_4 = scaled_df_4['Y-shID']"
   ]
  },
  {
   "cell_type": "markdown",
   "id": "e207df52",
   "metadata": {},
   "source": [
    "## 2. Exploring regression algorithms"
   ]
  },
  {
   "cell_type": "markdown",
   "id": "f08a822e",
   "metadata": {},
   "source": [
    "### Train test split"
   ]
  },
  {
   "cell_type": "markdown",
   "id": "af55ddfe",
   "metadata": {},
   "source": [
    "The train test split was performed in such a way that only one row was present in the test set. This is because in the future application, the input data is likely to contain one row (i.e. one distinct situation), and the model will be tested on this single row."
   ]
  },
  {
   "cell_type": "code",
   "execution_count": 73,
   "id": "fa674966",
   "metadata": {},
   "outputs": [],
   "source": [
    "X_1_train, X_1_test, y_1_train, y_1_test = train_test_split(X_1, y_1, test_size=0.05, random_state=101)\n",
    "X_2_train, X_2_test, y_2_train, y_2_test = train_test_split(X_2, y_2, test_size=0.1, random_state=101)\n",
    "X_3_train, X_3_test, y_3_train, y_3_test = train_test_split(X_3, y_3, test_size=0.2, random_state=101)\n",
    "X_4_train, X_4_test, y_4_train, y_4_test = train_test_split(X_4, y_4, test_size=0.3, random_state=101)"
   ]
  },
  {
   "cell_type": "markdown",
   "id": "afe3f1da",
   "metadata": {},
   "source": [
    "### Linear regression"
   ]
  },
  {
   "cell_type": "code",
   "execution_count": 112,
   "id": "cab68dae",
   "metadata": {},
   "outputs": [
    {
     "name": "stdout",
     "output_type": "stream",
     "text": [
      "[0.09759643] [0.2916074]\n"
     ]
    }
   ],
   "source": [
    "model_1_LR = LinearRegression()\n",
    "model_1_LR.fit(X_1_train,y_1_train)\n",
    "test_predictions_1_LR = model_1_LR.predict(X_1_test)\n",
    "print(test_predictions_1_LR,y_1_test.values)"
   ]
  },
  {
   "cell_type": "code",
   "execution_count": 113,
   "id": "942651ec",
   "metadata": {},
   "outputs": [
    {
     "name": "stdout",
     "output_type": "stream",
     "text": [
      "[0.34691926] [0.41109531]\n"
     ]
    }
   ],
   "source": [
    "model_2_LR = LinearRegression()\n",
    "model_2_LR.fit(X_2_train,y_2_train)\n",
    "test_predictions_2_LR = model_2_LR.predict(X_2_test)\n",
    "print(test_predictions_2_LR,y_2_test.values)"
   ]
  },
  {
   "cell_type": "code",
   "execution_count": 114,
   "id": "1e6d753d",
   "metadata": {},
   "outputs": [
    {
     "name": "stdout",
     "output_type": "stream",
     "text": [
      "[0.46733737] [0.42816501]\n"
     ]
    }
   ],
   "source": [
    "model_3_LR = LinearRegression()\n",
    "model_3_LR.fit(X_3_train,y_3_train)\n",
    "test_predictions_3_LR = model_3_LR.predict(X_3_test)\n",
    "print(test_predictions_3_LR,y_3_test.values)"
   ]
  },
  {
   "cell_type": "code",
   "execution_count": 115,
   "id": "bf01c73f",
   "metadata": {},
   "outputs": [
    {
     "name": "stdout",
     "output_type": "stream",
     "text": [
      "[0.51307047] [0.52204836]\n"
     ]
    }
   ],
   "source": [
    "model_4_LR = LinearRegression()\n",
    "model_4_LR.fit(X_4_train,y_4_train)\n",
    "test_predictions_4_LR = model_4_LR.predict(X_4_test)\n",
    "print(test_predictions_4_LR,y_4_test.values)"
   ]
  },
  {
   "cell_type": "markdown",
   "id": "3db3a78e",
   "metadata": {},
   "source": [
    "The linear regression performed well on test sets 2, 3, and 4; however, it yielded a significant error on test set 1."
   ]
  },
  {
   "cell_type": "markdown",
   "id": "d45c9df3",
   "metadata": {},
   "source": [
    "### Polynomial regression"
   ]
  },
  {
   "cell_type": "code",
   "execution_count": 116,
   "id": "9878ee49",
   "metadata": {},
   "outputs": [
    {
     "name": "stdout",
     "output_type": "stream",
     "text": [
      "[0.72829348] [0.2916074]\n"
     ]
    }
   ],
   "source": [
    "polynomial_converter = PolynomialFeatures(degree=2,include_bias=False)\n",
    "poly_features_1 = polynomial_converter.fit_transform(X_1)\n",
    "X_1_train_poly, X_1_test_poly, y_1_train, y_1_test = train_test_split(poly_features_1, y_1, test_size=0.05, random_state=101)\n",
    "model_1_PR = LinearRegression()\n",
    "model_1_PR.fit(X_1_train_poly,y_1_train)\n",
    "test_predictions_1_PR = model_1_PR.predict(X_1_test_poly)\n",
    "print(test_predictions_1_PR,y_1_test.values)"
   ]
  },
  {
   "cell_type": "code",
   "execution_count": 117,
   "id": "49b9e6e7",
   "metadata": {},
   "outputs": [
    {
     "name": "stdout",
     "output_type": "stream",
     "text": [
      "[-2.6822147] [0.2916074]\n"
     ]
    }
   ],
   "source": [
    "polynomial_converter = PolynomialFeatures(degree=3,include_bias=False)\n",
    "poly_features_1 = polynomial_converter.fit_transform(X_1)\n",
    "X_1_train_poly, X_1_test_poly, y_1_train, y_1_test = train_test_split(poly_features_1, y_1, test_size=0.05, random_state=101)\n",
    "model_1_PR2 = LinearRegression()\n",
    "model_1_PR2.fit(X_1_train_poly,y_1_train)\n",
    "test_predictions_1_PR2 = model_1_PR2.predict(X_1_test_poly)\n",
    "print(test_predictions_1_PR2,y_1_test.values)"
   ]
  },
  {
   "cell_type": "code",
   "execution_count": 118,
   "id": "360eb3db",
   "metadata": {},
   "outputs": [
    {
     "name": "stdout",
     "output_type": "stream",
     "text": [
      "[0.26975511] [0.41109531]\n"
     ]
    }
   ],
   "source": [
    "polynomial_converter = PolynomialFeatures(degree=2,include_bias=False)\n",
    "poly_features_2 = polynomial_converter.fit_transform(X_2)\n",
    "X_2_train_poly, X_2_test_poly, y_2_train, y_2_test = train_test_split(poly_features_2, y_2, test_size=0.1, random_state=101)\n",
    "model_2_PR = LinearRegression()\n",
    "model_2_PR.fit(X_2_train_poly,y_2_train)\n",
    "test_predictions_2_PR = model_2_PR.predict(X_2_test_poly)\n",
    "print(test_predictions_2_PR,y_2_test.values)"
   ]
  },
  {
   "cell_type": "code",
   "execution_count": 119,
   "id": "4e81c776",
   "metadata": {},
   "outputs": [
    {
     "name": "stdout",
     "output_type": "stream",
     "text": [
      "[0.46825094] [0.42816501]\n"
     ]
    }
   ],
   "source": [
    "polynomial_converter = PolynomialFeatures(degree=2,include_bias=False)\n",
    "poly_features_3 = polynomial_converter.fit_transform(X_3)\n",
    "X_3_train_poly, X_3_test_poly, y_3_train, y_3_test = train_test_split(poly_features_3, y_3, test_size=0.2, random_state=101)\n",
    "model_3_PR = LinearRegression()\n",
    "model_3_PR.fit(X_3_train_poly,y_3_train)\n",
    "test_predictions_3_PR = model_3_PR.predict(X_3_test_poly)\n",
    "print(test_predictions_3_PR,y_3_test.values)"
   ]
  },
  {
   "cell_type": "code",
   "execution_count": 120,
   "id": "6328a559",
   "metadata": {},
   "outputs": [
    {
     "name": "stdout",
     "output_type": "stream",
     "text": [
      "[0.51233746] [0.52204836]\n"
     ]
    }
   ],
   "source": [
    "polynomial_converter = PolynomialFeatures(degree=2,include_bias=False)\n",
    "poly_features_4 = polynomial_converter.fit_transform(X_4)\n",
    "X_4_train_poly, X_4_test_poly, y_4_train, y_4_test = train_test_split(poly_features_4, y_4, test_size=0.3, random_state=101)\n",
    "model_4_PR = LinearRegression()\n",
    "model_4_PR.fit(X_4_train_poly,y_4_train)\n",
    "test_predictions_4_PR = model_4_PR.predict(X_4_test_poly)\n",
    "print(test_predictions_4_PR,y_4_test.values)"
   ]
  },
  {
   "cell_type": "markdown",
   "id": "0d59114d",
   "metadata": {},
   "source": [
    "The performance of polynomial regression was not as good as linear regression. When the degree of the polynomial was increased to 3, the error became even higher. "
   ]
  },
  {
   "cell_type": "markdown",
   "id": "4b3aed35",
   "metadata": {},
   "source": [
    "### Elastic Net"
   ]
  },
  {
   "cell_type": "code",
   "execution_count": 121,
   "id": "5a1c2038",
   "metadata": {},
   "outputs": [
    {
     "name": "stdout",
     "output_type": "stream",
     "text": [
      "[0.29445235] [0.2916074]\n"
     ]
    }
   ],
   "source": [
    "model_1_EN = ElasticNetCV(l1_ratio=[.1, .5, .7,.9, .95, .99, 1],tol=0.01)\n",
    "model_1_EN.fit(X_1_train,y_1_train)\n",
    "test_predictions_1_EN = model_1_EN.predict(X_1_test)\n",
    "print(test_predictions_1_EN,y_1_test.values)"
   ]
  },
  {
   "cell_type": "code",
   "execution_count": 122,
   "id": "4abe57b8",
   "metadata": {},
   "outputs": [
    {
     "name": "stdout",
     "output_type": "stream",
     "text": [
      "[0.36964032] [0.41109531]\n"
     ]
    }
   ],
   "source": [
    "model_2_EN = ElasticNetCV(l1_ratio=[.1, .5, .7,.9, .95, .99, 1],tol=0.01)\n",
    "model_2_EN.fit(X_2_train,y_2_train)\n",
    "test_predictions_2_EN = model_2_EN.predict(X_2_test)\n",
    "print(test_predictions_2_EN,y_2_test.values)"
   ]
  },
  {
   "cell_type": "code",
   "execution_count": 123,
   "id": "3151f12e",
   "metadata": {
    "scrolled": true
   },
   "outputs": [
    {
     "name": "stdout",
     "output_type": "stream",
     "text": [
      "[0.48922956] [0.42816501]\n"
     ]
    }
   ],
   "source": [
    "model_3_EN = ElasticNetCV(l1_ratio=[.1, .5, .7,.9, .95, .99, 1],tol=0.01,cv=4)\n",
    "model_3_EN.fit(X_3_train,y_3_train)\n",
    "test_predictions_3_EN = model_3_EN.predict(X_3_test)\n",
    "print(test_predictions_3_EN,y_3_test.values)"
   ]
  },
  {
   "cell_type": "code",
   "execution_count": 124,
   "id": "a2b9c814",
   "metadata": {
    "scrolled": true
   },
   "outputs": [
    {
     "name": "stderr",
     "output_type": "stream",
     "text": [
      "/Users/polzovatel/opt/anaconda3/envs/diabetesapp-env/lib/python3.9/site-packages/sklearn/linear_model/_coordinate_descent.py:648: ConvergenceWarning: Objective did not converge. You might want to increase the number of iterations, check the scale of the features or consider increasing regularisation. Duality gap: 0.000e+00, tolerance: 0.000e+00\n",
      "  model = cd_fast.enet_coordinate_descent(\n",
      "/Users/polzovatel/opt/anaconda3/envs/diabetesapp-env/lib/python3.9/site-packages/sklearn/linear_model/_coordinate_descent.py:648: ConvergenceWarning: Objective did not converge. You might want to increase the number of iterations, check the scale of the features or consider increasing regularisation. Duality gap: 0.000e+00, tolerance: 0.000e+00\n",
      "  model = cd_fast.enet_coordinate_descent(\n",
      "/Users/polzovatel/opt/anaconda3/envs/diabetesapp-env/lib/python3.9/site-packages/sklearn/linear_model/_coordinate_descent.py:648: ConvergenceWarning: Objective did not converge. You might want to increase the number of iterations, check the scale of the features or consider increasing regularisation. Duality gap: 0.000e+00, tolerance: 0.000e+00\n",
      "  model = cd_fast.enet_coordinate_descent(\n",
      "/Users/polzovatel/opt/anaconda3/envs/diabetesapp-env/lib/python3.9/site-packages/sklearn/linear_model/_coordinate_descent.py:648: ConvergenceWarning: Objective did not converge. You might want to increase the number of iterations, check the scale of the features or consider increasing regularisation. Duality gap: 0.000e+00, tolerance: 0.000e+00\n",
      "  model = cd_fast.enet_coordinate_descent(\n",
      "/Users/polzovatel/opt/anaconda3/envs/diabetesapp-env/lib/python3.9/site-packages/sklearn/linear_model/_coordinate_descent.py:648: ConvergenceWarning: Objective did not converge. You might want to increase the number of iterations, check the scale of the features or consider increasing regularisation. Duality gap: 0.000e+00, tolerance: 0.000e+00\n",
      "  model = cd_fast.enet_coordinate_descent(\n",
      "/Users/polzovatel/opt/anaconda3/envs/diabetesapp-env/lib/python3.9/site-packages/sklearn/linear_model/_coordinate_descent.py:648: ConvergenceWarning: Objective did not converge. You might want to increase the number of iterations, check the scale of the features or consider increasing regularisation. Duality gap: 0.000e+00, tolerance: 0.000e+00\n",
      "  model = cd_fast.enet_coordinate_descent(\n",
      "/Users/polzovatel/opt/anaconda3/envs/diabetesapp-env/lib/python3.9/site-packages/sklearn/linear_model/_coordinate_descent.py:648: ConvergenceWarning: Objective did not converge. You might want to increase the number of iterations, check the scale of the features or consider increasing regularisation. Duality gap: 0.000e+00, tolerance: 0.000e+00\n",
      "  model = cd_fast.enet_coordinate_descent(\n",
      "/Users/polzovatel/opt/anaconda3/envs/diabetesapp-env/lib/python3.9/site-packages/sklearn/linear_model/_coordinate_descent.py:648: ConvergenceWarning: Objective did not converge. You might want to increase the number of iterations, check the scale of the features or consider increasing regularisation. Duality gap: 0.000e+00, tolerance: 0.000e+00\n",
      "  model = cd_fast.enet_coordinate_descent(\n",
      "/Users/polzovatel/opt/anaconda3/envs/diabetesapp-env/lib/python3.9/site-packages/sklearn/linear_model/_coordinate_descent.py:648: ConvergenceWarning: Objective did not converge. You might want to increase the number of iterations, check the scale of the features or consider increasing regularisation. Duality gap: 0.000e+00, tolerance: 0.000e+00\n",
      "  model = cd_fast.enet_coordinate_descent(\n",
      "/Users/polzovatel/opt/anaconda3/envs/diabetesapp-env/lib/python3.9/site-packages/sklearn/linear_model/_coordinate_descent.py:648: ConvergenceWarning: Objective did not converge. You might want to increase the number of iterations, check the scale of the features or consider increasing regularisation. Duality gap: 0.000e+00, tolerance: 0.000e+00\n",
      "  model = cd_fast.enet_coordinate_descent(\n",
      "/Users/polzovatel/opt/anaconda3/envs/diabetesapp-env/lib/python3.9/site-packages/sklearn/linear_model/_coordinate_descent.py:648: ConvergenceWarning: Objective did not converge. You might want to increase the number of iterations, check the scale of the features or consider increasing regularisation. Duality gap: 0.000e+00, tolerance: 0.000e+00\n",
      "  model = cd_fast.enet_coordinate_descent(\n",
      "/Users/polzovatel/opt/anaconda3/envs/diabetesapp-env/lib/python3.9/site-packages/sklearn/linear_model/_coordinate_descent.py:648: ConvergenceWarning: Objective did not converge. You might want to increase the number of iterations, check the scale of the features or consider increasing regularisation. Duality gap: 0.000e+00, tolerance: 0.000e+00\n",
      "  model = cd_fast.enet_coordinate_descent(\n"
     ]
    },
    {
     "name": "stdout",
     "output_type": "stream",
     "text": [
      "[0.50924609] [0.52204836]\n"
     ]
    },
    {
     "name": "stderr",
     "output_type": "stream",
     "text": [
      "/Users/polzovatel/opt/anaconda3/envs/diabetesapp-env/lib/python3.9/site-packages/sklearn/linear_model/_coordinate_descent.py:648: ConvergenceWarning: Objective did not converge. You might want to increase the number of iterations, check the scale of the features or consider increasing regularisation. Duality gap: 0.000e+00, tolerance: 0.000e+00\n",
      "  model = cd_fast.enet_coordinate_descent(\n",
      "/Users/polzovatel/opt/anaconda3/envs/diabetesapp-env/lib/python3.9/site-packages/sklearn/linear_model/_coordinate_descent.py:648: ConvergenceWarning: Objective did not converge. You might want to increase the number of iterations, check the scale of the features or consider increasing regularisation. Duality gap: 0.000e+00, tolerance: 0.000e+00\n",
      "  model = cd_fast.enet_coordinate_descent(\n"
     ]
    }
   ],
   "source": [
    "model_4_EN = ElasticNetCV(l1_ratio=[.1, .5, .7,.9, .95, .99, 1],tol=0.01,cv=2)\n",
    "model_4_EN.fit(X_4_train,y_4_train)\n",
    "test_predictions_4_EN = model_4_EN.predict(X_4_test)\n",
    "print(test_predictions_4_EN,y_4_test.values)"
   ]
  },
  {
   "cell_type": "markdown",
   "id": "8a5bc989",
   "metadata": {},
   "source": [
    "The elastic net demonstrated impressive results on the largest dataset (Set 1), satisfactory results on Set 2, but less favorable outcomes on the smaller datasets (Sets 3 and 4). Performing the elastic net on the smaller dataset resulted in warnings that were not resolved, even after attempting to tune the hyperparameters."
   ]
  },
  {
   "cell_type": "markdown",
   "id": "4d379ae4",
   "metadata": {},
   "source": [
    "### Visualisation"
   ]
  },
  {
   "cell_type": "code",
   "execution_count": 89,
   "id": "59a684bf",
   "metadata": {},
   "outputs": [
    {
     "data": {
      "image/png": "[encoded data removed]",
      "text/plain": [
       "<Figure size 1200x900 with 20 Axes>"
      ]
     },
     "metadata": {},
     "output_type": "display_data"
    }
   ],
   "source": [
    "fig1,axes = plt.subplots(nrows=4,ncols=5,figsize=(12,9))\n",
    "\n",
    "plt.suptitle('Predictions on X_1 set')\n",
    "\n",
    "#plot Linear Regression predictions vs X_1\n",
    "axes[0,0].set_ylabel('Linear Regression')\n",
    "for i,col in enumerate(X_1.columns): \n",
    "    axes[0,i].scatter(X_1_train.iloc[:,i],y_1_train,color=blue)\n",
    "    axes[0,i].scatter(X_1_test.iloc[:,i],test_predictions_1_LR,color=red)\n",
    "    axes[0,i].scatter(X_1_test.iloc[:,i],y_1_test,color=pink)\n",
    "    axes[0,i].set_xlabel(col)    \n",
    "    axes[0,i].grid()\n",
    "    \n",
    "#plot Polynomial Regression (degree=2) predictions vs X_1\n",
    "axes[1,0].set_ylabel('Poly Reg, deg=2')\n",
    "for i,col in enumerate(X_1.columns): \n",
    "    axes[1,i].scatter(X_1_train.iloc[:,i],y_1_train,color=blue)\n",
    "    axes[1,i].scatter(X_1_test.iloc[:,i],test_predictions_1_PR,color=red)\n",
    "    axes[1,i].scatter(X_1_test.iloc[:,i],y_1_test,color=pink)\n",
    "    axes[1,i].set_xlabel(col)    \n",
    "    axes[1,i].grid()\n",
    "\n",
    "#plot Polynomial Regression (degree=3) predictions vs X_1\n",
    "axes[2,0].set_ylabel('Poly Reg, deg=3')\n",
    "for i,col in enumerate(X_1.columns): \n",
    "    axes[2,i].scatter(X_1_train.iloc[:,i],y_1_train,color=blue)\n",
    "    axes[2,i].scatter(X_1_test.iloc[:,i],test_predictions_1_PR2,color=red)\n",
    "    axes[2,i].scatter(X_1_test.iloc[:,i],y_1_test,color=pink)\n",
    "    axes[2,i].set_xlabel(col)    \n",
    "    axes[2,i].grid()\n",
    "    \n",
    "#plot Elastic Net predictions vs X_1\n",
    "axes[3,0].set_ylabel('Elastic Net')\n",
    "for i,col in enumerate(X_1.columns): \n",
    "    axes[3,i].scatter(X_1_train.iloc[:,i],y_1_train,color=blue)\n",
    "    axes[3,i].scatter(X_1_test.iloc[:,i],test_predictions_1_EN,color=red)\n",
    "    axes[3,i].scatter(X_1_test.iloc[:,i],y_1_test,color=pink)\n",
    "    axes[3,i].set_xlabel(col)    \n",
    "    axes[3,i].grid()\n",
    "    \n",
    "plt.tight_layout();"
   ]
  },
  {
   "cell_type": "code",
   "execution_count": 91,
   "id": "12743a09",
   "metadata": {},
   "outputs": [
    {
     "data": {
      "image/png": "[encoded data removed]",
      "text/plain": [
       "<Figure size 1200x600 with 15 Axes>"
      ]
     },
     "metadata": {},
     "output_type": "display_data"
    }
   ],
   "source": [
    "fig2,axes = plt.subplots(nrows=3,ncols=5,figsize=(12,6))\n",
    "\n",
    "plt.suptitle('Predictions on X_2 set')\n",
    "\n",
    "#plot Linear Regression predictions vs X_2\n",
    "axes[0,0].set_ylabel('Linear Regression')\n",
    "for i,col in enumerate(X_2.columns): \n",
    "    axes[0,i].scatter(X_2_train.iloc[:,i],y_2_train,color=blue)\n",
    "    axes[0,i].scatter(X_2_test.iloc[:,i],test_predictions_2_LR,color=red)\n",
    "    axes[0,i].scatter(X_2_test.iloc[:,i],y_2_test,color=pink)\n",
    "    axes[0,i].set_xlabel(col)    \n",
    "    axes[0,i].grid()\n",
    "    \n",
    "#plot Polynomial Regression (degree=2) predictions vs X_2\n",
    "axes[1,0].set_ylabel('Poly Reg, deg=2')\n",
    "for i,col in enumerate(X_2.columns): \n",
    "    axes[1,i].scatter(X_2_train.iloc[:,i],y_2_train,color=blue)\n",
    "    axes[1,i].scatter(X_2_test.iloc[:,i],test_predictions_2_PR,color=red)\n",
    "    axes[1,i].scatter(X_2_test.iloc[:,i],y_2_test,color=pink)\n",
    "    axes[1,i].set_xlabel(col)    \n",
    "    axes[1,i].grid()\n",
    "    \n",
    "#plot Elastic Net predictions vs X_2\n",
    "axes[2,0].set_ylabel('Elastic Net')\n",
    "for i,col in enumerate(X_2.columns): \n",
    "    axes[2,i].scatter(X_2_train.iloc[:,i],y_2_train,color=blue)\n",
    "    axes[2,i].scatter(X_2_test.iloc[:,i],test_predictions_2_EN,color=red)\n",
    "    axes[2,i].scatter(X_2_test.iloc[:,i],y_2_test,color=pink)\n",
    "    axes[2,i].set_xlabel(col)    \n",
    "    axes[2,i].grid()\n",
    "    \n",
    "plt.tight_layout();"
   ]
  },
  {
   "cell_type": "code",
   "execution_count": 92,
   "id": "8c6babde",
   "metadata": {},
   "outputs": [
    {
     "data": {
      "image/png": "[encoded data removed]",
      "text/plain": [
       "<Figure size 1200x600 with 15 Axes>"
      ]
     },
     "metadata": {},
     "output_type": "display_data"
    }
   ],
   "source": [
    "fig3,axes = plt.subplots(nrows=3,ncols=5,figsize=(12,6))\n",
    "\n",
    "plt.suptitle('Predictions on X_3 set')\n",
    "\n",
    "#plot Linear Regression predictions vs X_3\n",
    "axes[0,0].set_ylabel('Linear Regression')\n",
    "for i,col in enumerate(X_3.columns): \n",
    "    axes[0,i].scatter(X_3_train.iloc[:,i],y_3_train,color=blue)\n",
    "    axes[0,i].scatter(X_3_test.iloc[:,i],test_predictions_3_LR,color=red)\n",
    "    axes[0,i].scatter(X_3_test.iloc[:,i],y_3_test,color=pink)\n",
    "    axes[0,i].set_xlabel(col)    \n",
    "    axes[0,i].grid()\n",
    "    \n",
    "#plot Polynomial Regression (degree=2) predictions vs X_3\n",
    "axes[1,0].set_ylabel('Poly Reg, deg=2')\n",
    "for i,col in enumerate(X_3.columns): \n",
    "    axes[1,i].scatter(X_3_train.iloc[:,i],y_3_train,color=blue)\n",
    "    axes[1,i].scatter(X_3_test.iloc[:,i],test_predictions_3_PR,color=red)\n",
    "    axes[1,i].scatter(X_3_test.iloc[:,i],y_3_test,color=pink)\n",
    "    axes[1,i].set_xlabel(col)    \n",
    "    axes[1,i].grid()\n",
    "    \n",
    "#plot Elastic Net predictions vs X_3\n",
    "axes[2,0].set_ylabel('Elastic Net')\n",
    "for i,col in enumerate(X_3.columns): \n",
    "    axes[2,i].scatter(X_3_train.iloc[:,i],y_3_train,color=blue)\n",
    "    axes[2,i].scatter(X_3_test.iloc[:,i],test_predictions_3_EN,color=red)\n",
    "    axes[2,i].scatter(X_3_test.iloc[:,i],y_3_test,color=pink)\n",
    "    axes[2,i].set_xlabel(col)    \n",
    "    axes[2,i].grid()\n",
    "    \n",
    "plt.tight_layout();"
   ]
  },
  {
   "cell_type": "code",
   "execution_count": 93,
   "id": "e0e72e4c",
   "metadata": {},
   "outputs": [
    {
     "data": {
      "image/png": "[encoded data removed]",
      "text/plain": [
       "<Figure size 1200x400 with 10 Axes>"
      ]
     },
     "metadata": {},
     "output_type": "display_data"
    }
   ],
   "source": [
    "fig4,axes = plt.subplots(nrows=2,ncols=5,figsize=(12,4))\n",
    "\n",
    "plt.suptitle('Predictions on X_4 set')\n",
    "\n",
    "#plot Linear Regression predictions vs X_4\n",
    "axes[0,0].set_ylabel('Linear Regression')\n",
    "for i,col in enumerate(X_4.columns): \n",
    "    axes[0,i].scatter(X_4_train.iloc[:,i],y_4_train,color=blue)\n",
    "    axes[0,i].scatter(X_4_test.iloc[:,i],test_predictions_4_LR,color=red)\n",
    "    axes[0,i].scatter(X_4_test.iloc[:,i],y_4_test,color=pink)\n",
    "    axes[0,i].set_xlabel(col)    \n",
    "    axes[0,i].grid()\n",
    "    \n",
    "#plot Polynomial Regression (degree=2) predictions vs X_4\n",
    "axes[1,0].set_ylabel('Poly Reg, deg=2')\n",
    "for i,col in enumerate(X_4.columns): \n",
    "    axes[1,i].scatter(X_4_train.iloc[:,i],y_4_train,color=blue)\n",
    "    axes[1,i].scatter(X_4_test.iloc[:,i],test_predictions_4_PR,color=red)\n",
    "    axes[1,i].scatter(X_4_test.iloc[:,i],y_4_test,color=pink)\n",
    "    axes[1,i].set_xlabel(col)    \n",
    "    axes[1,i].grid()\n",
    "\n",
    "plt.tight_layout();"
   ]
  },
  {
   "cell_type": "markdown",
   "id": "ef571e6a",
   "metadata": {},
   "source": [
    "The Linear Regression and Polynomial Regression algorithms performed better on the medium and small data sets. Elastic Net algorithm performed better on the larger data sets, but had difficulty executing on the smaller data sets, and required hyperparameter tuning each time. Despite its good performance on larger clusters, Elastic Net was not recommended for the application due to its agile database, which would not allow for additional hyperparameter tuning. The remaining two algorithms were then tested further on small to medium sized clusters (4-6 rows) to compare their performance."
   ]
  },
  {
   "cell_type": "markdown",
   "id": "2d6df8a6",
   "metadata": {},
   "source": [
    "## Comparing Linear Regression and Polynomial Regression"
   ]
  },
  {
   "cell_type": "markdown",
   "id": "303cc73a",
   "metadata": {},
   "source": [
    "The performance of two algorithms was compared across clusters of varying sizes, ranging from 4 to 6 rows. This was done in order to avoid overfitting, while ensuring that the clusters were not too small or too large. For each cluster, an absolute error was calculated, and the mean absolute error values were then compared."
   ]
  },
  {
   "cell_type": "code",
   "execution_count": 234,
   "id": "377dbcdc",
   "metadata": {},
   "outputs": [],
   "source": [
    "AE_LR = []\n",
    "for n in range(4,7):\n",
    "    clusters = list(np.where(scaled_df.groupby('Cluster').count()['bID']==n)[0])\n",
    "    for i in clusters:\n",
    "        scaled_cluster = scaled_df[scaled_df['Cluster']==i]\n",
    "        X = scaled_cluster[['BG1','DV','SC','Temp','Humid']]\n",
    "        y = scaled_cluster['Y-shID']\n",
    "        X_train, X_test, y_train, y_test = train_test_split(X, y, test_size=1/n, random_state=101)\n",
    "        model_LR = LinearRegression()\n",
    "        model_LR.fit(X_train,y_train)\n",
    "        test_prediction_LR = model_LR.predict(X_test)\n",
    "        AE_LR.append(abs(test_prediction_LR-y_test.values)) "
   ]
  },
  {
   "cell_type": "code",
   "execution_count": 235,
   "id": "acf44bef",
   "metadata": {},
   "outputs": [
    {
     "data": {
      "text/plain": [
       "0.12803767538560412"
      ]
     },
     "execution_count": 235,
     "metadata": {},
     "output_type": "execute_result"
    }
   ],
   "source": [
    "np.mean(AE_LR)"
   ]
  },
  {
   "cell_type": "code",
   "execution_count": 236,
   "id": "96dcaf42",
   "metadata": {},
   "outputs": [],
   "source": [
    "AE_PR = []\n",
    "for n in range(4,7):\n",
    "    clusters = list(np.where(scaled_df.groupby('Cluster').count()['bID']==n)[0])\n",
    "    for i in clusters:\n",
    "        scaled_cluster = scaled_df[scaled_df['Cluster']==i]\n",
    "        X = scaled_cluster[['BG1','DV','SC','Temp','Humid']]\n",
    "        y = scaled_cluster['Y-shID']\n",
    "        polynomial_converter = PolynomialFeatures(degree=2,include_bias=False)\n",
    "        poly_features = polynomial_converter.fit_transform(X)\n",
    "        X_train, X_test, y_train, y_test = train_test_split(poly_features, y, test_size=1/n, random_state=101)\n",
    "        model_PR = LinearRegression()\n",
    "        model_PR.fit(X_train,y_train)\n",
    "        test_prediction_PR = model_PR.predict(X_test)\n",
    "        AE_PR.append(abs(test_prediction_PR-y_test.values)) "
   ]
  },
  {
   "cell_type": "code",
   "execution_count": 237,
   "id": "e9099dee",
   "metadata": {},
   "outputs": [
    {
     "data": {
      "text/plain": [
       "0.12229780681946621"
      ]
     },
     "execution_count": 237,
     "metadata": {},
     "output_type": "execute_result"
    }
   ],
   "source": [
    "np.mean(AE_PR)"
   ]
  },
  {
   "cell_type": "markdown",
   "id": "8df148dc",
   "metadata": {},
   "source": [
    "## 3. Conclusion"
   ]
  },
  {
   "cell_type": "markdown",
   "id": "a0628caf",
   "metadata": {},
   "source": [
    "The performance of the Polynomial Regression was slightly better, but not significant enough to justify the extra processing time required for transforming the data into polynomial features. As such, the Linear Regression Algorithm was deemed the most suitable for this project."
   ]
  },
  {
   "cell_type": "code",
   "execution_count": null,
   "id": "dc6e6972",
   "metadata": {},
   "outputs": [],
   "source": []
  }
 ],
 "metadata": {
  "kernelspec": {
   "display_name": "Python 3 (ipykernel)",
   "language": "python",
   "name": "python3"
  },
  "language_info": {
   "codemirror_mode": {
    "name": "ipython",
    "version": 3
   },
   "file_extension": ".py",
   "mimetype": "text/x-python",
   "name": "python",
   "nbconvert_exporter": "python",
   "pygments_lexer": "ipython3",
   "version": "3.9.15"
  }
 },
 "nbformat": 4,
 "nbformat_minor": 5
}
